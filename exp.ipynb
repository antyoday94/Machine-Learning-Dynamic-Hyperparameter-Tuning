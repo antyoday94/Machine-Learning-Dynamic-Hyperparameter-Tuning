{
 "cells": [
  {
   "cell_type": "code",
   "execution_count": 1,
   "metadata": {},
   "outputs": [
    {
     "name": "stderr",
     "output_type": "stream",
     "text": [
      "d:\\c\\c\\ML_P\\test_1\\env_MLP_1\\Lib\\site-packages\\tqdm\\auto.py:21: TqdmWarning: IProgress not found. Please update jupyter and ipywidgets. See https://ipywidgets.readthedocs.io/en/stable/user_install.html\n",
      "  from .autonotebook import tqdm as notebook_tqdm\n"
     ]
    },
    {
     "name": "stdout",
     "output_type": "stream",
     "text": [
      "All imports succeeded!\n"
     ]
    }
   ],
   "source": [
    "import optuna\n",
    "import pandas as pd\n",
    "from sklearn.model_selection import cross_val_score\n",
    "from sklearn.svm import SVC\n",
    "from sklearn.neural_network import MLPClassifier\n",
    "from xgboost import XGBClassifier\n",
    "\n",
    "print(\"All imports succeeded!\")"
   ]
  },
  {
   "cell_type": "code",
   "execution_count": 2,
   "metadata": {},
   "outputs": [],
   "source": [
    "# ---------------------------------------------------------------------------------\n",
    "# Step 1: Load the Pima Indians Diabetes dataset from a URL\n",
    "# ---------------------------------------------------------------------------------\n",
    "\n",
    "# URL to the dataset\n",
    "url = \"https://raw.githubusercontent.com/jbrownlee/Datasets/master/pima-indians-diabetes.data.csv\"\n",
    "\n",
    "# Column names based on dataset documentation\n",
    "columns = [\n",
    "    \"Pregnancies\", \"Glucose\", \"BloodPressure\", \"SkinThickness\", \n",
    "    \"Insulin\", \"BMI\", \"DiabetesPedigreeFunction\", \"Age\", \"Outcome\"\n",
    "]\n",
    "\n",
    "# Read CSV data from the URL and assign column names\n",
    "data = pd.read_csv(url, header=None, names=columns)\n",
    "\n",
    "# Separate the features (X) and the target variable (y)\n",
    "X = data.drop(\"Outcome\", axis=1)\n",
    "y = data[\"Outcome\"]\n"
   ]
  },
  {
   "cell_type": "code",
   "execution_count": 3,
   "metadata": {},
   "outputs": [],
   "source": [
    "\n",
    "# ---------------------------------------------------------------------------------\n",
    "# Step 2: Define the objective function for Optuna optimization\n",
    "# ---------------------------------------------------------------------------------\n",
    "\n",
    "def objective(trial):\n",
    "    \"\"\"\n",
    "    Objective function for Optuna to maximize accuracy.\n",
    "    This function dynamically selects a classifier and its corresponding\n",
    "    hyperparameters based on the trial suggestion.\n",
    "    \"\"\"\n",
    "    # Dynamically choose the classifier using a categorical suggestion\n",
    "    classifier_name = trial.suggest_categorical(\"classifier\", [\"xgb\",\n",
    "                                                                \"svm\",\n",
    "                                                                #   \"nn\"\n",
    "                                                                  ])\n",
    "    \n",
    "    if classifier_name == \"xgb\":\n",
    "        # ---------------------------------------------------------------------\n",
    "        # XGBoost Classifier: Define model-specific hyperparameter search space\n",
    "        # ---------------------------------------------------------------------\n",
    "        n_estimators = trial.suggest_int(\"xgb_n_estimators\", 50, 300)\n",
    "        max_depth = trial.suggest_int(\"xgb_max_depth\", 3, 10)\n",
    "        learning_rate = trial.suggest_float(\"xgb_learning_rate\", 1e-3, 1.0, log=True)\n",
    "        subsample = trial.suggest_float(\"xgb_subsample\", 0.5, 1.0)\n",
    "        classifier = XGBClassifier(\n",
    "            n_estimators=n_estimators,\n",
    "            max_depth=max_depth,\n",
    "            learning_rate=learning_rate,\n",
    "            subsample=subsample,\n",
    "            # max_iter=1000,\n",
    "            # tol=1e-4,\n",
    "            # use_label_encoder=False,  # Avoid warnings regarding label encoding\n",
    "            eval_metric=\"logloss\"     # Evaluation metric for binary classification\n",
    "        )\n",
    "    elif classifier_name == \"svm\":\n",
    "        # ---------------------------------------------------------------------\n",
    "        # SVM Classifier: Define model-specific hyperparameter search space\n",
    "        # ---------------------------------------------------------------------\n",
    "        c = trial.suggest_float(\"svm_C\", 1e-3, 1e3, log=True)\n",
    "        kernel = trial.suggest_categorical(\"svm_kernel\", [\n",
    "            # \"linear\",\n",
    "              \"rbf\"\n",
    "              ])\n",
    "        if kernel == \"rbf\":\n",
    "            # For RBF kernel, include gamma in the search space\n",
    "            gamma = trial.suggest_float(\"svm_gamma\", 1e-4, 1e-1, log=True)\n",
    "            classifier = SVC(C=c, kernel=kernel, gamma=gamma, probability=True)\n",
    "        else:\n",
    "            classifier = SVC(C=c, kernel=kernel, probability=True)\n",
    "    # else:\n",
    "    #     # ---------------------------------------------------------------------\n",
    "    #     # Neural Network (MLPClassifier): Define model-specific hyperparameter search space\n",
    "    #     # ---------------------------------------------------------------------\n",
    "    #     hidden_layer_sizes = trial.suggest_categorical(\"nn_hidden_layer_sizes\", [(50,), (100,), (50, 50)])\n",
    "    #     activation = trial.suggest_categorical(\"nn_activation\", [\"relu\", \"tanh\"])\n",
    "    #     alpha = trial.suggest_float(\"nn_alpha\", 1e-5, 1e-1, log=True)\n",
    "    #     learning_rate_init = trial.suggest_float(\"nn_learning_rate_init\", 1e-4, 1e-1, log=True)\n",
    "    #     classifier = MLPClassifier(\n",
    "    #         hidden_layer_sizes=hidden_layer_sizes,\n",
    "    #         activation=activation,\n",
    "    #         alpha=alpha,\n",
    "    #         learning_rate_init=learning_rate_init,\n",
    "    #         max_iter=500  # Set maximum iterations to ensure convergence\n",
    "    #     )\n",
    "    \n",
    "    # ---------------------------------------------------------------------------------\n",
    "    # Step 3: Evaluate the classifier using 5-fold cross-validation\n",
    "    # ---------------------------------------------------------------------------------\n",
    "    # This leverages the dynamic search by result feature of Optuna via TPE sampler,\n",
    "    # where past trial outcomes influence future parameter suggestions.\n",
    "    score = cross_val_score(classifier, X, y, cv=5, scoring=\"accuracy\").mean()\n",
    "    \n",
    "    return score\n"
   ]
  },
  {
   "cell_type": "code",
   "execution_count": 4,
   "metadata": {},
   "outputs": [
    {
     "name": "stderr",
     "output_type": "stream",
     "text": [
      "[I 2025-03-06 10:13:17,658] A new study created in memory with name: no-name-52774591-caf5-4e8a-b163-20a15f396da4\n",
      "[I 2025-03-06 10:13:18,271] Trial 0 finished with value: 0.7409303115185468 and parameters: {'classifier': 'svm', 'svm_C': 0.49855436706778755, 'svm_kernel': 'rbf', 'svm_gamma': 0.0008208984834982263}. Best is trial 0 with value: 0.7409303115185468.\n",
      "[I 2025-03-06 10:13:19,109] Trial 1 finished with value: 0.6367371190900603 and parameters: {'classifier': 'svm', 'svm_C': 4.240886144056699, 'svm_kernel': 'rbf', 'svm_gamma': 0.011679224203611251}. Best is trial 0 with value: 0.7409303115185468.\n",
      "[I 2025-03-06 10:13:20,250] Trial 2 finished with value: 0.7344622697563874 and parameters: {'classifier': 'xgb', 'xgb_n_estimators': 219, 'xgb_max_depth': 10, 'xgb_learning_rate': 0.39761576121400816, 'xgb_subsample': 0.5850442265235768}. Best is trial 0 with value: 0.7409303115185468.\n",
      "[I 2025-03-06 10:13:20,890] Trial 3 finished with value: 0.7695951107715814 and parameters: {'classifier': 'xgb', 'xgb_n_estimators': 88, 'xgb_max_depth': 5, 'xgb_learning_rate': 0.01666733352833639, 'xgb_subsample': 0.5520085915891915}. Best is trial 3 with value: 0.7695951107715814.\n",
      "[I 2025-03-06 10:13:21,415] Trial 4 finished with value: 0.7552584670231729 and parameters: {'classifier': 'svm', 'svm_C': 3.642894252057182, 'svm_kernel': 'rbf', 'svm_gamma': 0.00021643000378313324}. Best is trial 3 with value: 0.7695951107715814.\n",
      "[I 2025-03-06 10:13:22,098] Trial 5 finished with value: 0.7422629657923775 and parameters: {'classifier': 'xgb', 'xgb_n_estimators': 154, 'xgb_max_depth': 3, 'xgb_learning_rate': 0.09769751132120906, 'xgb_subsample': 0.7033651687634224}. Best is trial 3 with value: 0.7695951107715814.\n",
      "[I 2025-03-06 10:13:23,173] Trial 6 finished with value: 0.649741108564638 and parameters: {'classifier': 'svm', 'svm_C': 61.94815774837407, 'svm_kernel': 'rbf', 'svm_gamma': 0.029824203896440367}. Best is trial 3 with value: 0.7695951107715814.\n",
      "[I 2025-03-06 10:13:23,580] Trial 7 finished with value: 0.7656905186316951 and parameters: {'classifier': 'xgb', 'xgb_n_estimators': 70, 'xgb_max_depth': 3, 'xgb_learning_rate': 0.05631769831682847, 'xgb_subsample': 0.6273687866949943}. Best is trial 3 with value: 0.7695951107715814.\n",
      "[I 2025-03-06 10:13:24,682] Trial 8 finished with value: 0.7305237246413717 and parameters: {'classifier': 'xgb', 'xgb_n_estimators': 246, 'xgb_max_depth': 4, 'xgb_learning_rate': 0.3232067515642129, 'xgb_subsample': 0.8537643940687959}. Best is trial 3 with value: 0.7695951107715814.\n",
      "[I 2025-03-06 10:13:28,280] Trial 9 finished with value: 0.7461590696884814 and parameters: {'classifier': 'xgb', 'xgb_n_estimators': 293, 'xgb_max_depth': 9, 'xgb_learning_rate': 0.0027997267788694865, 'xgb_subsample': 0.9469616403157262}. Best is trial 3 with value: 0.7695951107715814.\n",
      "[I 2025-03-06 10:13:28,852] Trial 10 finished with value: 0.6510482981071216 and parameters: {'classifier': 'xgb', 'xgb_n_estimators': 54, 'xgb_max_depth': 6, 'xgb_learning_rate': 0.004758493140454059, 'xgb_subsample': 0.5697243845191879}. Best is trial 3 with value: 0.7695951107715814.\n",
      "[I 2025-03-06 10:13:29,468] Trial 11 finished with value: 0.7774042950513538 and parameters: {'classifier': 'xgb', 'xgb_n_estimators': 65, 'xgb_max_depth': 5, 'xgb_learning_rate': 0.024750461502307614, 'xgb_subsample': 0.5196456375790698}. Best is trial 11 with value: 0.7774042950513538.\n",
      "[I 2025-03-06 10:13:30,398] Trial 12 finished with value: 0.7657244716068246 and parameters: {'classifier': 'xgb', 'xgb_n_estimators': 113, 'xgb_max_depth': 6, 'xgb_learning_rate': 0.014113631159275915, 'xgb_subsample': 0.5013376559149066}. Best is trial 11 with value: 0.7774042950513538.\n",
      "[I 2025-03-06 10:13:31,254] Trial 13 finished with value: 0.7657159833630421 and parameters: {'classifier': 'xgb', 'xgb_n_estimators': 122, 'xgb_max_depth': 5, 'xgb_learning_rate': 0.013090229268781284, 'xgb_subsample': 0.506893732740327}. Best is trial 11 with value: 0.7774042950513538.\n",
      "[I 2025-03-06 10:13:32,227] Trial 14 finished with value: 0.6510482981071216 and parameters: {'classifier': 'xgb', 'xgb_n_estimators': 90, 'xgb_max_depth': 8, 'xgb_learning_rate': 0.0010358570813601882, 'xgb_subsample': 0.7138294384601688}. Best is trial 11 with value: 0.7774042950513538.\n",
      "[I 2025-03-06 10:13:33,331] Trial 15 finished with value: 0.7617774382480265 and parameters: {'classifier': 'xgb', 'xgb_n_estimators': 173, 'xgb_max_depth': 5, 'xgb_learning_rate': 0.02555802881745517, 'xgb_subsample': 0.6351831960485799}. Best is trial 11 with value: 0.7774042950513538.\n",
      "[I 2025-03-06 10:13:34,349] Trial 16 finished with value: 0.7487649605296663 and parameters: {'classifier': 'xgb', 'xgb_n_estimators': 124, 'xgb_max_depth': 7, 'xgb_learning_rate': 0.10866971542300267, 'xgb_subsample': 0.8359157084918203}. Best is trial 11 with value: 0.7774042950513538.\n",
      "[I 2025-03-06 10:13:34,860] Trial 17 finished with value: 0.6718784483490366 and parameters: {'classifier': 'xgb', 'xgb_n_estimators': 53, 'xgb_max_depth': 5, 'xgb_learning_rate': 0.006942867394675022, 'xgb_subsample': 0.5518337582712914}. Best is trial 11 with value: 0.7774042950513538.\n",
      "[I 2025-03-06 10:13:35,956] Trial 18 finished with value: 0.6510482981071216 and parameters: {'classifier': 'svm', 'svm_C': 0.0025075526085625655, 'svm_kernel': 'rbf', 'svm_gamma': 0.09118757653685146}. Best is trial 11 with value: 0.7774042950513538.\n",
      "[I 2025-03-06 10:13:36,885] Trial 19 finished with value: 0.7618029029793736 and parameters: {'classifier': 'xgb', 'xgb_n_estimators': 98, 'xgb_max_depth': 7, 'xgb_learning_rate': 0.0350371171095323, 'xgb_subsample': 0.6463531566704311}. Best is trial 11 with value: 0.7774042950513538.\n",
      "[I 2025-03-06 10:13:37,652] Trial 20 finished with value: 0.7213903743315508 and parameters: {'classifier': 'xgb', 'xgb_n_estimators': 156, 'xgb_max_depth': 4, 'xgb_learning_rate': 0.9314156896913317, 'xgb_subsample': 0.7990862014597997}. Best is trial 11 with value: 0.7774042950513538.\n",
      "[I 2025-03-06 10:13:38,479] Trial 21 finished with value: 0.7683133859604447 and parameters: {'classifier': 'xgb', 'xgb_n_estimators': 95, 'xgb_max_depth': 6, 'xgb_learning_rate': 0.015805225821651336, 'xgb_subsample': 0.5148561210748295}. Best is trial 11 with value: 0.7774042950513538.\n",
      "[I 2025-03-06 10:13:39,186] Trial 22 finished with value: 0.7683048977166624 and parameters: {'classifier': 'xgb', 'xgb_n_estimators': 78, 'xgb_max_depth': 6, 'xgb_learning_rate': 0.01523726585777048, 'xgb_subsample': 0.5019157718237172}. Best is trial 11 with value: 0.7774042950513538.\n",
      "[I 2025-03-06 10:13:40,020] Trial 23 finished with value: 0.7526355996944232 and parameters: {'classifier': 'xgb', 'xgb_n_estimators': 136, 'xgb_max_depth': 4, 'xgb_learning_rate': 0.006590686340666416, 'xgb_subsample': 0.5773152900277164}. Best is trial 11 with value: 0.7774042950513538.\n",
      "[I 2025-03-06 10:13:40,758] Trial 24 finished with value: 0.7722094898565486 and parameters: {'classifier': 'xgb', 'xgb_n_estimators': 97, 'xgb_max_depth': 5, 'xgb_learning_rate': 0.0325804949787038, 'xgb_subsample': 0.5364557505771801}. Best is trial 11 with value: 0.7774042950513538.\n",
      "[I 2025-03-06 10:13:41,972] Trial 25 finished with value: 0.7526695526695526 and parameters: {'classifier': 'xgb', 'xgb_n_estimators': 203, 'xgb_max_depth': 5, 'xgb_learning_rate': 0.053312337690244675, 'xgb_subsample': 0.6731547733406926}. Best is trial 11 with value: 0.7774042950513538.\n",
      "[I 2025-03-06 10:13:44,310] Trial 26 finished with value: 0.6510482981071216 and parameters: {'classifier': 'svm', 'svm_C': 0.001135281621490049, 'svm_kernel': 'rbf', 'svm_gamma': 0.0027869243233584495}. Best is trial 11 with value: 0.7774042950513538.\n",
      "[I 2025-03-06 10:13:44,814] Trial 27 finished with value: 0.7526695526695526 and parameters: {'classifier': 'xgb', 'xgb_n_estimators': 74, 'xgb_max_depth': 4, 'xgb_learning_rate': 0.1539586529970273, 'xgb_subsample': 0.6000081511037098}. Best is trial 11 with value: 0.7774042950513538.\n",
      "[I 2025-03-06 10:13:45,313] Trial 28 finished with value: 0.7695781342840167 and parameters: {'classifier': 'xgb', 'xgb_n_estimators': 51, 'xgb_max_depth': 5, 'xgb_learning_rate': 0.05083084967472571, 'xgb_subsample': 0.5477180931232148}. Best is trial 11 with value: 0.7774042950513538.\n",
      "[I 2025-03-06 10:13:48,281] Trial 29 finished with value: 0.7265766912825737 and parameters: {'classifier': 'svm', 'svm_C': 439.7126261418169, 'svm_kernel': 'rbf', 'svm_gamma': 0.00012097439396951939}. Best is trial 11 with value: 0.7774042950513538.\n"
     ]
    }
   ],
   "source": [
    "# ---------------------------------------------------------------------------------\n",
    "# Step 4: Create an Optuna study and optimize the objective function\n",
    "# ---------------------------------------------------------------------------------\n",
    "\n",
    "# Create a study object to maximize the accuracy score\n",
    "study = optuna.create_study(direction=\"maximize\")\n",
    "\n",
    "# Optimize the study with a specified number of trials\n",
    "study.optimize(objective, n_trials=30)"
   ]
  },
  {
   "cell_type": "code",
   "execution_count": 5,
   "metadata": {},
   "outputs": [
    {
     "name": "stdout",
     "output_type": "stream",
     "text": [
      "Best parameters: {'classifier': 'xgb', 'xgb_n_estimators': 65, 'xgb_max_depth': 5, 'xgb_learning_rate': 0.024750461502307614, 'xgb_subsample': 0.5196456375790698}\n",
      "Best accuracy: 0.7774042950513538\n",
      "params_classifier\n",
      "xgb    23\n",
      "svm     7\n",
      "Name: count, dtype: int64\n",
      "params_classifier\n",
      "svm    0.687334\n",
      "xgb    0.743549\n",
      "Name: value, dtype: float64\n"
     ]
    }
   ],
   "source": [
    "# ---------------------------------------------------------------------------------\n",
    "# Step 5: Display the best parameters and corresponding accuracy\n",
    "# ---------------------------------------------------------------------------------\n",
    "\n",
    "print(f\"Best parameters: {study.best_params}\")\n",
    "print(f\"Best accuracy: {study.best_value}\")\n",
    "print(study.trials_dataframe()['params_classifier'].value_counts())\n",
    "print(study.trials_dataframe().groupby('params_classifier')['value'].mean())\n"
   ]
  },
  {
   "cell_type": "code",
   "execution_count": 6,
   "metadata": {},
   "outputs": [
    {
     "name": "stdout",
     "output_type": "stream",
     "text": [
      "Plotly version: 6.0.0\n"
     ]
    }
   ],
   "source": [
    "# !pip install plotly\n",
    "\n",
    "import plotly\n",
    "print(\"Plotly version:\", plotly.__version__)"
   ]
  },
  {
   "cell_type": "code",
   "execution_count": 7,
   "metadata": {},
   "outputs": [
    {
     "data": {
      "application/vnd.plotly.v1+json": {
       "config": {
        "plotlyServerURL": "https://plot.ly"
       },
       "data": [
        {
         "mode": "markers",
         "name": "Objective Value",
         "type": "scatter",
         "x": [
          0,
          1,
          2,
          3,
          4,
          5,
          6,
          7,
          8,
          9,
          10,
          11,
          12,
          13,
          14,
          15,
          16,
          17,
          18,
          19,
          20,
          21,
          22,
          23,
          24,
          25,
          26,
          27,
          28,
          29
         ],
         "y": [
          0.7409303115185468,
          0.6367371190900603,
          0.7344622697563874,
          0.7695951107715814,
          0.7552584670231729,
          0.7422629657923775,
          0.649741108564638,
          0.7656905186316951,
          0.7305237246413717,
          0.7461590696884814,
          0.6510482981071216,
          0.7774042950513538,
          0.7657244716068246,
          0.7657159833630421,
          0.6510482981071216,
          0.7617774382480265,
          0.7487649605296663,
          0.6718784483490366,
          0.6510482981071216,
          0.7618029029793736,
          0.7213903743315508,
          0.7683133859604447,
          0.7683048977166624,
          0.7526355996944232,
          0.7722094898565486,
          0.7526695526695526,
          0.6510482981071216,
          0.7526695526695526,
          0.7695781342840167,
          0.7265766912825737
         ]
        },
        {
         "mode": "lines",
         "name": "Best Value",
         "type": "scatter",
         "x": [
          0,
          1,
          2,
          3,
          4,
          5,
          6,
          7,
          8,
          9,
          10,
          11,
          12,
          13,
          14,
          15,
          16,
          17,
          18,
          19,
          20,
          21,
          22,
          23,
          24,
          25,
          26,
          27,
          28,
          29
         ],
         "y": [
          0.7409303115185468,
          0.7409303115185468,
          0.7409303115185468,
          0.7695951107715814,
          0.7695951107715814,
          0.7695951107715814,
          0.7695951107715814,
          0.7695951107715814,
          0.7695951107715814,
          0.7695951107715814,
          0.7695951107715814,
          0.7774042950513538,
          0.7774042950513538,
          0.7774042950513538,
          0.7774042950513538,
          0.7774042950513538,
          0.7774042950513538,
          0.7774042950513538,
          0.7774042950513538,
          0.7774042950513538,
          0.7774042950513538,
          0.7774042950513538,
          0.7774042950513538,
          0.7774042950513538,
          0.7774042950513538,
          0.7774042950513538,
          0.7774042950513538,
          0.7774042950513538,
          0.7774042950513538,
          0.7774042950513538
         ]
        },
        {
         "marker": {
          "color": "#cccccc"
         },
         "mode": "markers",
         "name": "Infeasible Trial",
         "showlegend": false,
         "type": "scatter",
         "x": [],
         "y": []
        }
       ],
       "layout": {
        "template": {
         "data": {
          "bar": [
           {
            "error_x": {
             "color": "#2a3f5f"
            },
            "error_y": {
             "color": "#2a3f5f"
            },
            "marker": {
             "line": {
              "color": "#E5ECF6",
              "width": 0.5
             },
             "pattern": {
              "fillmode": "overlay",
              "size": 10,
              "solidity": 0.2
             }
            },
            "type": "bar"
           }
          ],
          "barpolar": [
           {
            "marker": {
             "line": {
              "color": "#E5ECF6",
              "width": 0.5
             },
             "pattern": {
              "fillmode": "overlay",
              "size": 10,
              "solidity": 0.2
             }
            },
            "type": "barpolar"
           }
          ],
          "carpet": [
           {
            "aaxis": {
             "endlinecolor": "#2a3f5f",
             "gridcolor": "white",
             "linecolor": "white",
             "minorgridcolor": "white",
             "startlinecolor": "#2a3f5f"
            },
            "baxis": {
             "endlinecolor": "#2a3f5f",
             "gridcolor": "white",
             "linecolor": "white",
             "minorgridcolor": "white",
             "startlinecolor": "#2a3f5f"
            },
            "type": "carpet"
           }
          ],
          "choropleth": [
           {
            "colorbar": {
             "outlinewidth": 0,
             "ticks": ""
            },
            "type": "choropleth"
           }
          ],
          "contour": [
           {
            "colorbar": {
             "outlinewidth": 0,
             "ticks": ""
            },
            "colorscale": [
             [
              0,
              "#0d0887"
             ],
             [
              0.1111111111111111,
              "#46039f"
             ],
             [
              0.2222222222222222,
              "#7201a8"
             ],
             [
              0.3333333333333333,
              "#9c179e"
             ],
             [
              0.4444444444444444,
              "#bd3786"
             ],
             [
              0.5555555555555556,
              "#d8576b"
             ],
             [
              0.6666666666666666,
              "#ed7953"
             ],
             [
              0.7777777777777778,
              "#fb9f3a"
             ],
             [
              0.8888888888888888,
              "#fdca26"
             ],
             [
              1,
              "#f0f921"
             ]
            ],
            "type": "contour"
           }
          ],
          "contourcarpet": [
           {
            "colorbar": {
             "outlinewidth": 0,
             "ticks": ""
            },
            "type": "contourcarpet"
           }
          ],
          "heatmap": [
           {
            "colorbar": {
             "outlinewidth": 0,
             "ticks": ""
            },
            "colorscale": [
             [
              0,
              "#0d0887"
             ],
             [
              0.1111111111111111,
              "#46039f"
             ],
             [
              0.2222222222222222,
              "#7201a8"
             ],
             [
              0.3333333333333333,
              "#9c179e"
             ],
             [
              0.4444444444444444,
              "#bd3786"
             ],
             [
              0.5555555555555556,
              "#d8576b"
             ],
             [
              0.6666666666666666,
              "#ed7953"
             ],
             [
              0.7777777777777778,
              "#fb9f3a"
             ],
             [
              0.8888888888888888,
              "#fdca26"
             ],
             [
              1,
              "#f0f921"
             ]
            ],
            "type": "heatmap"
           }
          ],
          "histogram": [
           {
            "marker": {
             "pattern": {
              "fillmode": "overlay",
              "size": 10,
              "solidity": 0.2
             }
            },
            "type": "histogram"
           }
          ],
          "histogram2d": [
           {
            "colorbar": {
             "outlinewidth": 0,
             "ticks": ""
            },
            "colorscale": [
             [
              0,
              "#0d0887"
             ],
             [
              0.1111111111111111,
              "#46039f"
             ],
             [
              0.2222222222222222,
              "#7201a8"
             ],
             [
              0.3333333333333333,
              "#9c179e"
             ],
             [
              0.4444444444444444,
              "#bd3786"
             ],
             [
              0.5555555555555556,
              "#d8576b"
             ],
             [
              0.6666666666666666,
              "#ed7953"
             ],
             [
              0.7777777777777778,
              "#fb9f3a"
             ],
             [
              0.8888888888888888,
              "#fdca26"
             ],
             [
              1,
              "#f0f921"
             ]
            ],
            "type": "histogram2d"
           }
          ],
          "histogram2dcontour": [
           {
            "colorbar": {
             "outlinewidth": 0,
             "ticks": ""
            },
            "colorscale": [
             [
              0,
              "#0d0887"
             ],
             [
              0.1111111111111111,
              "#46039f"
             ],
             [
              0.2222222222222222,
              "#7201a8"
             ],
             [
              0.3333333333333333,
              "#9c179e"
             ],
             [
              0.4444444444444444,
              "#bd3786"
             ],
             [
              0.5555555555555556,
              "#d8576b"
             ],
             [
              0.6666666666666666,
              "#ed7953"
             ],
             [
              0.7777777777777778,
              "#fb9f3a"
             ],
             [
              0.8888888888888888,
              "#fdca26"
             ],
             [
              1,
              "#f0f921"
             ]
            ],
            "type": "histogram2dcontour"
           }
          ],
          "mesh3d": [
           {
            "colorbar": {
             "outlinewidth": 0,
             "ticks": ""
            },
            "type": "mesh3d"
           }
          ],
          "parcoords": [
           {
            "line": {
             "colorbar": {
              "outlinewidth": 0,
              "ticks": ""
             }
            },
            "type": "parcoords"
           }
          ],
          "pie": [
           {
            "automargin": true,
            "type": "pie"
           }
          ],
          "scatter": [
           {
            "fillpattern": {
             "fillmode": "overlay",
             "size": 10,
             "solidity": 0.2
            },
            "type": "scatter"
           }
          ],
          "scatter3d": [
           {
            "line": {
             "colorbar": {
              "outlinewidth": 0,
              "ticks": ""
             }
            },
            "marker": {
             "colorbar": {
              "outlinewidth": 0,
              "ticks": ""
             }
            },
            "type": "scatter3d"
           }
          ],
          "scattercarpet": [
           {
            "marker": {
             "colorbar": {
              "outlinewidth": 0,
              "ticks": ""
             }
            },
            "type": "scattercarpet"
           }
          ],
          "scattergeo": [
           {
            "marker": {
             "colorbar": {
              "outlinewidth": 0,
              "ticks": ""
             }
            },
            "type": "scattergeo"
           }
          ],
          "scattergl": [
           {
            "marker": {
             "colorbar": {
              "outlinewidth": 0,
              "ticks": ""
             }
            },
            "type": "scattergl"
           }
          ],
          "scattermap": [
           {
            "marker": {
             "colorbar": {
              "outlinewidth": 0,
              "ticks": ""
             }
            },
            "type": "scattermap"
           }
          ],
          "scattermapbox": [
           {
            "marker": {
             "colorbar": {
              "outlinewidth": 0,
              "ticks": ""
             }
            },
            "type": "scattermapbox"
           }
          ],
          "scatterpolar": [
           {
            "marker": {
             "colorbar": {
              "outlinewidth": 0,
              "ticks": ""
             }
            },
            "type": "scatterpolar"
           }
          ],
          "scatterpolargl": [
           {
            "marker": {
             "colorbar": {
              "outlinewidth": 0,
              "ticks": ""
             }
            },
            "type": "scatterpolargl"
           }
          ],
          "scatterternary": [
           {
            "marker": {
             "colorbar": {
              "outlinewidth": 0,
              "ticks": ""
             }
            },
            "type": "scatterternary"
           }
          ],
          "surface": [
           {
            "colorbar": {
             "outlinewidth": 0,
             "ticks": ""
            },
            "colorscale": [
             [
              0,
              "#0d0887"
             ],
             [
              0.1111111111111111,
              "#46039f"
             ],
             [
              0.2222222222222222,
              "#7201a8"
             ],
             [
              0.3333333333333333,
              "#9c179e"
             ],
             [
              0.4444444444444444,
              "#bd3786"
             ],
             [
              0.5555555555555556,
              "#d8576b"
             ],
             [
              0.6666666666666666,
              "#ed7953"
             ],
             [
              0.7777777777777778,
              "#fb9f3a"
             ],
             [
              0.8888888888888888,
              "#fdca26"
             ],
             [
              1,
              "#f0f921"
             ]
            ],
            "type": "surface"
           }
          ],
          "table": [
           {
            "cells": {
             "fill": {
              "color": "#EBF0F8"
             },
             "line": {
              "color": "white"
             }
            },
            "header": {
             "fill": {
              "color": "#C8D4E3"
             },
             "line": {
              "color": "white"
             }
            },
            "type": "table"
           }
          ]
         },
         "layout": {
          "annotationdefaults": {
           "arrowcolor": "#2a3f5f",
           "arrowhead": 0,
           "arrowwidth": 1
          },
          "autotypenumbers": "strict",
          "coloraxis": {
           "colorbar": {
            "outlinewidth": 0,
            "ticks": ""
           }
          },
          "colorscale": {
           "diverging": [
            [
             0,
             "#8e0152"
            ],
            [
             0.1,
             "#c51b7d"
            ],
            [
             0.2,
             "#de77ae"
            ],
            [
             0.3,
             "#f1b6da"
            ],
            [
             0.4,
             "#fde0ef"
            ],
            [
             0.5,
             "#f7f7f7"
            ],
            [
             0.6,
             "#e6f5d0"
            ],
            [
             0.7,
             "#b8e186"
            ],
            [
             0.8,
             "#7fbc41"
            ],
            [
             0.9,
             "#4d9221"
            ],
            [
             1,
             "#276419"
            ]
           ],
           "sequential": [
            [
             0,
             "#0d0887"
            ],
            [
             0.1111111111111111,
             "#46039f"
            ],
            [
             0.2222222222222222,
             "#7201a8"
            ],
            [
             0.3333333333333333,
             "#9c179e"
            ],
            [
             0.4444444444444444,
             "#bd3786"
            ],
            [
             0.5555555555555556,
             "#d8576b"
            ],
            [
             0.6666666666666666,
             "#ed7953"
            ],
            [
             0.7777777777777778,
             "#fb9f3a"
            ],
            [
             0.8888888888888888,
             "#fdca26"
            ],
            [
             1,
             "#f0f921"
            ]
           ],
           "sequentialminus": [
            [
             0,
             "#0d0887"
            ],
            [
             0.1111111111111111,
             "#46039f"
            ],
            [
             0.2222222222222222,
             "#7201a8"
            ],
            [
             0.3333333333333333,
             "#9c179e"
            ],
            [
             0.4444444444444444,
             "#bd3786"
            ],
            [
             0.5555555555555556,
             "#d8576b"
            ],
            [
             0.6666666666666666,
             "#ed7953"
            ],
            [
             0.7777777777777778,
             "#fb9f3a"
            ],
            [
             0.8888888888888888,
             "#fdca26"
            ],
            [
             1,
             "#f0f921"
            ]
           ]
          },
          "colorway": [
           "#636efa",
           "#EF553B",
           "#00cc96",
           "#ab63fa",
           "#FFA15A",
           "#19d3f3",
           "#FF6692",
           "#B6E880",
           "#FF97FF",
           "#FECB52"
          ],
          "font": {
           "color": "#2a3f5f"
          },
          "geo": {
           "bgcolor": "white",
           "lakecolor": "white",
           "landcolor": "#E5ECF6",
           "showlakes": true,
           "showland": true,
           "subunitcolor": "white"
          },
          "hoverlabel": {
           "align": "left"
          },
          "hovermode": "closest",
          "mapbox": {
           "style": "light"
          },
          "paper_bgcolor": "white",
          "plot_bgcolor": "#E5ECF6",
          "polar": {
           "angularaxis": {
            "gridcolor": "white",
            "linecolor": "white",
            "ticks": ""
           },
           "bgcolor": "#E5ECF6",
           "radialaxis": {
            "gridcolor": "white",
            "linecolor": "white",
            "ticks": ""
           }
          },
          "scene": {
           "xaxis": {
            "backgroundcolor": "#E5ECF6",
            "gridcolor": "white",
            "gridwidth": 2,
            "linecolor": "white",
            "showbackground": true,
            "ticks": "",
            "zerolinecolor": "white"
           },
           "yaxis": {
            "backgroundcolor": "#E5ECF6",
            "gridcolor": "white",
            "gridwidth": 2,
            "linecolor": "white",
            "showbackground": true,
            "ticks": "",
            "zerolinecolor": "white"
           },
           "zaxis": {
            "backgroundcolor": "#E5ECF6",
            "gridcolor": "white",
            "gridwidth": 2,
            "linecolor": "white",
            "showbackground": true,
            "ticks": "",
            "zerolinecolor": "white"
           }
          },
          "shapedefaults": {
           "line": {
            "color": "#2a3f5f"
           }
          },
          "ternary": {
           "aaxis": {
            "gridcolor": "white",
            "linecolor": "white",
            "ticks": ""
           },
           "baxis": {
            "gridcolor": "white",
            "linecolor": "white",
            "ticks": ""
           },
           "bgcolor": "#E5ECF6",
           "caxis": {
            "gridcolor": "white",
            "linecolor": "white",
            "ticks": ""
           }
          },
          "title": {
           "x": 0.05
          },
          "xaxis": {
           "automargin": true,
           "gridcolor": "white",
           "linecolor": "white",
           "ticks": "",
           "title": {
            "standoff": 15
           },
           "zerolinecolor": "white",
           "zerolinewidth": 2
          },
          "yaxis": {
           "automargin": true,
           "gridcolor": "white",
           "linecolor": "white",
           "ticks": "",
           "title": {
            "standoff": 15
           },
           "zerolinecolor": "white",
           "zerolinewidth": 2
          }
         }
        },
        "title": {
         "text": "Optimization History Plot"
        },
        "xaxis": {
         "title": {
          "text": "Trial"
         }
        },
        "yaxis": {
         "title": {
          "text": "Objective Value"
         }
        }
       }
      }
     },
     "metadata": {},
     "output_type": "display_data"
    }
   ],
   "source": [
    "# ---------------------------------------------------------------------------------\n",
    "# Step 6 (Optional): Visualize the optimization process\n",
    "# ---------------------------------------------------------------------------------\n",
    "\n",
    "import optuna.visualization as vis\n",
    "\n",
    "# Plot the optimization history (accuracy over trials)\n",
    "vis.plot_optimization_history(study).show()"
   ]
  },
  {
   "cell_type": "code",
   "execution_count": null,
   "metadata": {},
   "outputs": [
    {
     "name": "stderr",
     "output_type": "stream",
     "text": [
      "[W 2025-03-05 22:02:53,640] The length of params must be greater than 1.\n"
     ]
    },
    {
     "data": {
      "application/vnd.plotly.v1+json": {
       "config": {
        "plotlyServerURL": "https://plot.ly"
       },
       "data": [],
       "layout": {
        "template": {
         "data": {
          "bar": [
           {
            "error_x": {
             "color": "#2a3f5f"
            },
            "error_y": {
             "color": "#2a3f5f"
            },
            "marker": {
             "line": {
              "color": "#E5ECF6",
              "width": 0.5
             },
             "pattern": {
              "fillmode": "overlay",
              "size": 10,
              "solidity": 0.2
             }
            },
            "type": "bar"
           }
          ],
          "barpolar": [
           {
            "marker": {
             "line": {
              "color": "#E5ECF6",
              "width": 0.5
             },
             "pattern": {
              "fillmode": "overlay",
              "size": 10,
              "solidity": 0.2
             }
            },
            "type": "barpolar"
           }
          ],
          "carpet": [
           {
            "aaxis": {
             "endlinecolor": "#2a3f5f",
             "gridcolor": "white",
             "linecolor": "white",
             "minorgridcolor": "white",
             "startlinecolor": "#2a3f5f"
            },
            "baxis": {
             "endlinecolor": "#2a3f5f",
             "gridcolor": "white",
             "linecolor": "white",
             "minorgridcolor": "white",
             "startlinecolor": "#2a3f5f"
            },
            "type": "carpet"
           }
          ],
          "choropleth": [
           {
            "colorbar": {
             "outlinewidth": 0,
             "ticks": ""
            },
            "type": "choropleth"
           }
          ],
          "contour": [
           {
            "colorbar": {
             "outlinewidth": 0,
             "ticks": ""
            },
            "colorscale": [
             [
              0,
              "#0d0887"
             ],
             [
              0.1111111111111111,
              "#46039f"
             ],
             [
              0.2222222222222222,
              "#7201a8"
             ],
             [
              0.3333333333333333,
              "#9c179e"
             ],
             [
              0.4444444444444444,
              "#bd3786"
             ],
             [
              0.5555555555555556,
              "#d8576b"
             ],
             [
              0.6666666666666666,
              "#ed7953"
             ],
             [
              0.7777777777777778,
              "#fb9f3a"
             ],
             [
              0.8888888888888888,
              "#fdca26"
             ],
             [
              1,
              "#f0f921"
             ]
            ],
            "type": "contour"
           }
          ],
          "contourcarpet": [
           {
            "colorbar": {
             "outlinewidth": 0,
             "ticks": ""
            },
            "type": "contourcarpet"
           }
          ],
          "heatmap": [
           {
            "colorbar": {
             "outlinewidth": 0,
             "ticks": ""
            },
            "colorscale": [
             [
              0,
              "#0d0887"
             ],
             [
              0.1111111111111111,
              "#46039f"
             ],
             [
              0.2222222222222222,
              "#7201a8"
             ],
             [
              0.3333333333333333,
              "#9c179e"
             ],
             [
              0.4444444444444444,
              "#bd3786"
             ],
             [
              0.5555555555555556,
              "#d8576b"
             ],
             [
              0.6666666666666666,
              "#ed7953"
             ],
             [
              0.7777777777777778,
              "#fb9f3a"
             ],
             [
              0.8888888888888888,
              "#fdca26"
             ],
             [
              1,
              "#f0f921"
             ]
            ],
            "type": "heatmap"
           }
          ],
          "histogram": [
           {
            "marker": {
             "pattern": {
              "fillmode": "overlay",
              "size": 10,
              "solidity": 0.2
             }
            },
            "type": "histogram"
           }
          ],
          "histogram2d": [
           {
            "colorbar": {
             "outlinewidth": 0,
             "ticks": ""
            },
            "colorscale": [
             [
              0,
              "#0d0887"
             ],
             [
              0.1111111111111111,
              "#46039f"
             ],
             [
              0.2222222222222222,
              "#7201a8"
             ],
             [
              0.3333333333333333,
              "#9c179e"
             ],
             [
              0.4444444444444444,
              "#bd3786"
             ],
             [
              0.5555555555555556,
              "#d8576b"
             ],
             [
              0.6666666666666666,
              "#ed7953"
             ],
             [
              0.7777777777777778,
              "#fb9f3a"
             ],
             [
              0.8888888888888888,
              "#fdca26"
             ],
             [
              1,
              "#f0f921"
             ]
            ],
            "type": "histogram2d"
           }
          ],
          "histogram2dcontour": [
           {
            "colorbar": {
             "outlinewidth": 0,
             "ticks": ""
            },
            "colorscale": [
             [
              0,
              "#0d0887"
             ],
             [
              0.1111111111111111,
              "#46039f"
             ],
             [
              0.2222222222222222,
              "#7201a8"
             ],
             [
              0.3333333333333333,
              "#9c179e"
             ],
             [
              0.4444444444444444,
              "#bd3786"
             ],
             [
              0.5555555555555556,
              "#d8576b"
             ],
             [
              0.6666666666666666,
              "#ed7953"
             ],
             [
              0.7777777777777778,
              "#fb9f3a"
             ],
             [
              0.8888888888888888,
              "#fdca26"
             ],
             [
              1,
              "#f0f921"
             ]
            ],
            "type": "histogram2dcontour"
           }
          ],
          "mesh3d": [
           {
            "colorbar": {
             "outlinewidth": 0,
             "ticks": ""
            },
            "type": "mesh3d"
           }
          ],
          "parcoords": [
           {
            "line": {
             "colorbar": {
              "outlinewidth": 0,
              "ticks": ""
             }
            },
            "type": "parcoords"
           }
          ],
          "pie": [
           {
            "automargin": true,
            "type": "pie"
           }
          ],
          "scatter": [
           {
            "fillpattern": {
             "fillmode": "overlay",
             "size": 10,
             "solidity": 0.2
            },
            "type": "scatter"
           }
          ],
          "scatter3d": [
           {
            "line": {
             "colorbar": {
              "outlinewidth": 0,
              "ticks": ""
             }
            },
            "marker": {
             "colorbar": {
              "outlinewidth": 0,
              "ticks": ""
             }
            },
            "type": "scatter3d"
           }
          ],
          "scattercarpet": [
           {
            "marker": {
             "colorbar": {
              "outlinewidth": 0,
              "ticks": ""
             }
            },
            "type": "scattercarpet"
           }
          ],
          "scattergeo": [
           {
            "marker": {
             "colorbar": {
              "outlinewidth": 0,
              "ticks": ""
             }
            },
            "type": "scattergeo"
           }
          ],
          "scattergl": [
           {
            "marker": {
             "colorbar": {
              "outlinewidth": 0,
              "ticks": ""
             }
            },
            "type": "scattergl"
           }
          ],
          "scattermap": [
           {
            "marker": {
             "colorbar": {
              "outlinewidth": 0,
              "ticks": ""
             }
            },
            "type": "scattermap"
           }
          ],
          "scattermapbox": [
           {
            "marker": {
             "colorbar": {
              "outlinewidth": 0,
              "ticks": ""
             }
            },
            "type": "scattermapbox"
           }
          ],
          "scatterpolar": [
           {
            "marker": {
             "colorbar": {
              "outlinewidth": 0,
              "ticks": ""
             }
            },
            "type": "scatterpolar"
           }
          ],
          "scatterpolargl": [
           {
            "marker": {
             "colorbar": {
              "outlinewidth": 0,
              "ticks": ""
             }
            },
            "type": "scatterpolargl"
           }
          ],
          "scatterternary": [
           {
            "marker": {
             "colorbar": {
              "outlinewidth": 0,
              "ticks": ""
             }
            },
            "type": "scatterternary"
           }
          ],
          "surface": [
           {
            "colorbar": {
             "outlinewidth": 0,
             "ticks": ""
            },
            "colorscale": [
             [
              0,
              "#0d0887"
             ],
             [
              0.1111111111111111,
              "#46039f"
             ],
             [
              0.2222222222222222,
              "#7201a8"
             ],
             [
              0.3333333333333333,
              "#9c179e"
             ],
             [
              0.4444444444444444,
              "#bd3786"
             ],
             [
              0.5555555555555556,
              "#d8576b"
             ],
             [
              0.6666666666666666,
              "#ed7953"
             ],
             [
              0.7777777777777778,
              "#fb9f3a"
             ],
             [
              0.8888888888888888,
              "#fdca26"
             ],
             [
              1,
              "#f0f921"
             ]
            ],
            "type": "surface"
           }
          ],
          "table": [
           {
            "cells": {
             "fill": {
              "color": "#EBF0F8"
             },
             "line": {
              "color": "white"
             }
            },
            "header": {
             "fill": {
              "color": "#C8D4E3"
             },
             "line": {
              "color": "white"
             }
            },
            "type": "table"
           }
          ]
         },
         "layout": {
          "annotationdefaults": {
           "arrowcolor": "#2a3f5f",
           "arrowhead": 0,
           "arrowwidth": 1
          },
          "autotypenumbers": "strict",
          "coloraxis": {
           "colorbar": {
            "outlinewidth": 0,
            "ticks": ""
           }
          },
          "colorscale": {
           "diverging": [
            [
             0,
             "#8e0152"
            ],
            [
             0.1,
             "#c51b7d"
            ],
            [
             0.2,
             "#de77ae"
            ],
            [
             0.3,
             "#f1b6da"
            ],
            [
             0.4,
             "#fde0ef"
            ],
            [
             0.5,
             "#f7f7f7"
            ],
            [
             0.6,
             "#e6f5d0"
            ],
            [
             0.7,
             "#b8e186"
            ],
            [
             0.8,
             "#7fbc41"
            ],
            [
             0.9,
             "#4d9221"
            ],
            [
             1,
             "#276419"
            ]
           ],
           "sequential": [
            [
             0,
             "#0d0887"
            ],
            [
             0.1111111111111111,
             "#46039f"
            ],
            [
             0.2222222222222222,
             "#7201a8"
            ],
            [
             0.3333333333333333,
             "#9c179e"
            ],
            [
             0.4444444444444444,
             "#bd3786"
            ],
            [
             0.5555555555555556,
             "#d8576b"
            ],
            [
             0.6666666666666666,
             "#ed7953"
            ],
            [
             0.7777777777777778,
             "#fb9f3a"
            ],
            [
             0.8888888888888888,
             "#fdca26"
            ],
            [
             1,
             "#f0f921"
            ]
           ],
           "sequentialminus": [
            [
             0,
             "#0d0887"
            ],
            [
             0.1111111111111111,
             "#46039f"
            ],
            [
             0.2222222222222222,
             "#7201a8"
            ],
            [
             0.3333333333333333,
             "#9c179e"
            ],
            [
             0.4444444444444444,
             "#bd3786"
            ],
            [
             0.5555555555555556,
             "#d8576b"
            ],
            [
             0.6666666666666666,
             "#ed7953"
            ],
            [
             0.7777777777777778,
             "#fb9f3a"
            ],
            [
             0.8888888888888888,
             "#fdca26"
            ],
            [
             1,
             "#f0f921"
            ]
           ]
          },
          "colorway": [
           "#636efa",
           "#EF553B",
           "#00cc96",
           "#ab63fa",
           "#FFA15A",
           "#19d3f3",
           "#FF6692",
           "#B6E880",
           "#FF97FF",
           "#FECB52"
          ],
          "font": {
           "color": "#2a3f5f"
          },
          "geo": {
           "bgcolor": "white",
           "lakecolor": "white",
           "landcolor": "#E5ECF6",
           "showlakes": true,
           "showland": true,
           "subunitcolor": "white"
          },
          "hoverlabel": {
           "align": "left"
          },
          "hovermode": "closest",
          "mapbox": {
           "style": "light"
          },
          "paper_bgcolor": "white",
          "plot_bgcolor": "#E5ECF6",
          "polar": {
           "angularaxis": {
            "gridcolor": "white",
            "linecolor": "white",
            "ticks": ""
           },
           "bgcolor": "#E5ECF6",
           "radialaxis": {
            "gridcolor": "white",
            "linecolor": "white",
            "ticks": ""
           }
          },
          "scene": {
           "xaxis": {
            "backgroundcolor": "#E5ECF6",
            "gridcolor": "white",
            "gridwidth": 2,
            "linecolor": "white",
            "showbackground": true,
            "ticks": "",
            "zerolinecolor": "white"
           },
           "yaxis": {
            "backgroundcolor": "#E5ECF6",
            "gridcolor": "white",
            "gridwidth": 2,
            "linecolor": "white",
            "showbackground": true,
            "ticks": "",
            "zerolinecolor": "white"
           },
           "zaxis": {
            "backgroundcolor": "#E5ECF6",
            "gridcolor": "white",
            "gridwidth": 2,
            "linecolor": "white",
            "showbackground": true,
            "ticks": "",
            "zerolinecolor": "white"
           }
          },
          "shapedefaults": {
           "line": {
            "color": "#2a3f5f"
           }
          },
          "ternary": {
           "aaxis": {
            "gridcolor": "white",
            "linecolor": "white",
            "ticks": ""
           },
           "baxis": {
            "gridcolor": "white",
            "linecolor": "white",
            "ticks": ""
           },
           "bgcolor": "#E5ECF6",
           "caxis": {
            "gridcolor": "white",
            "linecolor": "white",
            "ticks": ""
           }
          },
          "title": {
           "x": 0.05
          },
          "xaxis": {
           "automargin": true,
           "gridcolor": "white",
           "linecolor": "white",
           "ticks": "",
           "title": {
            "standoff": 15
           },
           "zerolinecolor": "white",
           "zerolinewidth": 2
          },
          "yaxis": {
           "automargin": true,
           "gridcolor": "white",
           "linecolor": "white",
           "ticks": "",
           "title": {
            "standoff": 15
           },
           "zerolinecolor": "white",
           "zerolinewidth": 2
          }
         }
        },
        "title": {
         "text": "Contour Plot"
        }
       }
      }
     },
     "metadata": {},
     "output_type": "display_data"
    }
   ],
   "source": [
    "from optuna.visualization import plot_contour\n",
    "\n",
    "# Create a contour plot showing only the 'xgb_n_estimators' parameter.\n",
    "plot_contour(study, params=[\"classifier\"]).show()"
   ]
  },
  {
   "cell_type": "code",
   "execution_count": 8,
   "metadata": {},
   "outputs": [
    {
     "name": "stderr",
     "output_type": "stream",
     "text": [
      "[W 2025-03-06 10:14:04,102] Param svm_kernel unique value length is less than 2.\n",
      "[W 2025-03-06 10:14:04,106] Param svm_kernel unique value length is less than 2.\n",
      "[W 2025-03-06 10:14:04,109] Param svm_kernel unique value length is less than 2.\n",
      "[W 2025-03-06 10:14:04,111] Param svm_kernel unique value length is less than 2.\n",
      "[W 2025-03-06 10:14:04,113] Param svm_kernel unique value length is less than 2.\n",
      "[W 2025-03-06 10:14:04,115] Param svm_kernel unique value length is less than 2.\n",
      "[W 2025-03-06 10:14:04,116] Param svm_kernel unique value length is less than 2.\n",
      "[W 2025-03-06 10:14:04,118] Param svm_kernel unique value length is less than 2.\n",
      "[W 2025-03-06 10:14:04,120] Param svm_kernel unique value length is less than 2.\n",
      "[W 2025-03-06 10:14:04,121] Param svm_kernel unique value length is less than 2.\n",
      "[W 2025-03-06 10:14:04,123] Param svm_kernel unique value length is less than 2.\n",
      "[W 2025-03-06 10:14:04,126] Param svm_kernel unique value length is less than 2.\n",
      "[W 2025-03-06 10:14:04,129] Param svm_kernel unique value length is less than 2.\n",
      "[W 2025-03-06 10:14:04,132] Param svm_kernel unique value length is less than 2.\n",
      "d:\\c\\c\\ML_P\\test_1\\env_MLP_1\\Lib\\site-packages\\optuna\\visualization\\_contour.py:193: UserWarning:\n",
      "\n",
      "Contour plot will not be displayed because `svm_C` and `xgb_learning_rate` cannot co-exist in `trial.params`.\n",
      "\n",
      "d:\\c\\c\\ML_P\\test_1\\env_MLP_1\\Lib\\site-packages\\optuna\\visualization\\_contour.py:193: UserWarning:\n",
      "\n",
      "Contour plot will not be displayed because `svm_C` and `xgb_max_depth` cannot co-exist in `trial.params`.\n",
      "\n",
      "d:\\c\\c\\ML_P\\test_1\\env_MLP_1\\Lib\\site-packages\\optuna\\visualization\\_contour.py:193: UserWarning:\n",
      "\n",
      "Contour plot will not be displayed because `svm_C` and `xgb_n_estimators` cannot co-exist in `trial.params`.\n",
      "\n",
      "d:\\c\\c\\ML_P\\test_1\\env_MLP_1\\Lib\\site-packages\\optuna\\visualization\\_contour.py:193: UserWarning:\n",
      "\n",
      "Contour plot will not be displayed because `svm_C` and `xgb_subsample` cannot co-exist in `trial.params`.\n",
      "\n",
      "d:\\c\\c\\ML_P\\test_1\\env_MLP_1\\Lib\\site-packages\\optuna\\visualization\\_contour.py:193: UserWarning:\n",
      "\n",
      "Contour plot will not be displayed because `svm_gamma` and `xgb_learning_rate` cannot co-exist in `trial.params`.\n",
      "\n",
      "d:\\c\\c\\ML_P\\test_1\\env_MLP_1\\Lib\\site-packages\\optuna\\visualization\\_contour.py:193: UserWarning:\n",
      "\n",
      "Contour plot will not be displayed because `svm_gamma` and `xgb_max_depth` cannot co-exist in `trial.params`.\n",
      "\n",
      "d:\\c\\c\\ML_P\\test_1\\env_MLP_1\\Lib\\site-packages\\optuna\\visualization\\_contour.py:193: UserWarning:\n",
      "\n",
      "Contour plot will not be displayed because `svm_gamma` and `xgb_n_estimators` cannot co-exist in `trial.params`.\n",
      "\n",
      "d:\\c\\c\\ML_P\\test_1\\env_MLP_1\\Lib\\site-packages\\optuna\\visualization\\_contour.py:193: UserWarning:\n",
      "\n",
      "Contour plot will not be displayed because `svm_gamma` and `xgb_subsample` cannot co-exist in `trial.params`.\n",
      "\n",
      "d:\\c\\c\\ML_P\\test_1\\env_MLP_1\\Lib\\site-packages\\optuna\\visualization\\_contour.py:193: UserWarning:\n",
      "\n",
      "Contour plot will not be displayed because `xgb_learning_rate` and `svm_C` cannot co-exist in `trial.params`.\n",
      "\n",
      "d:\\c\\c\\ML_P\\test_1\\env_MLP_1\\Lib\\site-packages\\optuna\\visualization\\_contour.py:193: UserWarning:\n",
      "\n",
      "Contour plot will not be displayed because `xgb_learning_rate` and `svm_gamma` cannot co-exist in `trial.params`.\n",
      "\n",
      "d:\\c\\c\\ML_P\\test_1\\env_MLP_1\\Lib\\site-packages\\optuna\\visualization\\_contour.py:193: UserWarning:\n",
      "\n",
      "Contour plot will not be displayed because `xgb_max_depth` and `svm_C` cannot co-exist in `trial.params`.\n",
      "\n",
      "d:\\c\\c\\ML_P\\test_1\\env_MLP_1\\Lib\\site-packages\\optuna\\visualization\\_contour.py:193: UserWarning:\n",
      "\n",
      "Contour plot will not be displayed because `xgb_max_depth` and `svm_gamma` cannot co-exist in `trial.params`.\n",
      "\n",
      "d:\\c\\c\\ML_P\\test_1\\env_MLP_1\\Lib\\site-packages\\optuna\\visualization\\_contour.py:193: UserWarning:\n",
      "\n",
      "Contour plot will not be displayed because `xgb_n_estimators` and `svm_C` cannot co-exist in `trial.params`.\n",
      "\n",
      "d:\\c\\c\\ML_P\\test_1\\env_MLP_1\\Lib\\site-packages\\optuna\\visualization\\_contour.py:193: UserWarning:\n",
      "\n",
      "Contour plot will not be displayed because `xgb_n_estimators` and `svm_gamma` cannot co-exist in `trial.params`.\n",
      "\n",
      "d:\\c\\c\\ML_P\\test_1\\env_MLP_1\\Lib\\site-packages\\optuna\\visualization\\_contour.py:193: UserWarning:\n",
      "\n",
      "Contour plot will not be displayed because `xgb_subsample` and `svm_C` cannot co-exist in `trial.params`.\n",
      "\n",
      "d:\\c\\c\\ML_P\\test_1\\env_MLP_1\\Lib\\site-packages\\optuna\\visualization\\_contour.py:193: UserWarning:\n",
      "\n",
      "Contour plot will not be displayed because `xgb_subsample` and `svm_gamma` cannot co-exist in `trial.params`.\n",
      "\n"
     ]
    },
    {
     "data": {
      "application/vnd.plotly.v1+json": {
       "config": {
        "plotlyServerURL": "https://plot.ly"
       },
       "data": [
        {
         "type": "scatter",
         "xaxis": "x",
         "yaxis": "y"
        },
        {
         "colorbar": {
          "title": {
           "text": "Objective Value"
          }
         },
         "colorscale": [
          [
           0,
           "rgb(247,251,255)"
          ],
          [
           0.125,
           "rgb(222,235,247)"
          ],
          [
           0.25,
           "rgb(198,219,239)"
          ],
          [
           0.375,
           "rgb(158,202,225)"
          ],
          [
           0.5,
           "rgb(107,174,214)"
          ],
          [
           0.625,
           "rgb(66,146,198)"
          ],
          [
           0.75,
           "rgb(33,113,181)"
          ],
          [
           0.875,
           "rgb(8,81,156)"
          ],
          [
           1,
           "rgb(8,48,107)"
          ]
         ],
         "connectgaps": true,
         "contours": {
          "coloring": "heatmap"
         },
         "hoverinfo": "none",
         "line": {
          "smoothing": 1.3
         },
         "reversescale": false,
         "showscale": true,
         "type": "contour",
         "x": [
          "svm",
          "xgb"
         ],
         "xaxis": "x9",
         "y": [
          0.0005966234799253304,
          0.001135281621490049,
          0.0025075526085625655,
          0.49855436706778755,
          3.642894252057182,
          4.240886144056699,
          61.94815774837407,
          439.7126261418169,
          836.7046889579432
         ],
         "yaxis": "y9",
         "z": {
          "bdata": "AAAAAAAA+H8AAAAAAAD4f8mRjz1j1eQ/AAAAAAAA+H/JkY89Y9XkPwAAAAAAAPh/wsoSfLO15z8AAAAAAAD4fyuI/M0TK+g/AAAAAAAA+H+dg9SFJmDkPwAAAAAAAPh/adyE3a3K5D8AAAAAAAD4f34G48IdQOc/AAAAAAAA+H8AAAAAAAD4fwAAAAAAAPh/",
          "dtype": "f8",
          "shape": "9, 2"
         }
        },
        {
         "marker": {
          "color": "black",
          "line": {
           "color": "Gray",
           "width": 2
          }
         },
         "mode": "markers",
         "name": "Feasible Trial",
         "showlegend": false,
         "type": "scatter",
         "x": [
          "svm",
          "svm",
          "svm",
          "svm",
          "svm",
          "svm",
          "svm"
         ],
         "xaxis": "x9",
         "y": [
          0.49855436706778755,
          4.240886144056699,
          3.642894252057182,
          61.94815774837407,
          0.0025075526085625655,
          0.001135281621490049,
          439.7126261418169
         ],
         "yaxis": "y9"
        },
        {
         "colorbar": {
          "title": {
           "text": "Objective Value"
          }
         },
         "colorscale": [
          [
           0,
           "rgb(247,251,255)"
          ],
          [
           0.125,
           "rgb(222,235,247)"
          ],
          [
           0.25,
           "rgb(198,219,239)"
          ],
          [
           0.375,
           "rgb(158,202,225)"
          ],
          [
           0.5,
           "rgb(107,174,214)"
          ],
          [
           0.625,
           "rgb(66,146,198)"
          ],
          [
           0.75,
           "rgb(33,113,181)"
          ],
          [
           0.875,
           "rgb(8,81,156)"
          ],
          [
           1,
           "rgb(8,48,107)"
          ]
         ],
         "connectgaps": true,
         "contours": {
          "coloring": "heatmap"
         },
         "hoverinfo": "none",
         "line": {
          "smoothing": 1.3
         },
         "reversescale": false,
         "showscale": false,
         "type": "contour",
         "x": [
          "svm",
          "xgb"
         ],
         "xaxis": "x17",
         "y": [
          0.0000868623038995087,
          0.00012097439396951939,
          0.00021643000378313324,
          0.0008208984834982263,
          0.0027869243233584495,
          0.011679224203611251,
          0.029824203896440367,
          0.09118757653685146,
          0.1269982640784774
         ],
         "yaxis": "y17",
         "z": {
          "bdata": "AAAAAAAA+H8AAAAAAAD4f34G48IdQOc/AAAAAAAA+H8riPzNEyvoPwAAAAAAAPh/wsoSfLO15z8AAAAAAAD4f8mRjz1j1eQ/AAAAAAAA+H+dg9SFJmDkPwAAAAAAAPh/adyE3a3K5D8AAAAAAAD4f8mRjz1j1eQ/AAAAAAAA+H8AAAAAAAD4fwAAAAAAAPh/",
          "dtype": "f8",
          "shape": "9, 2"
         }
        },
        {
         "marker": {
          "color": "black",
          "line": {
           "color": "Gray",
           "width": 2
          }
         },
         "mode": "markers",
         "name": "Feasible Trial",
         "showlegend": false,
         "type": "scatter",
         "x": [
          "svm",
          "svm",
          "svm",
          "svm",
          "svm",
          "svm",
          "svm"
         ],
         "xaxis": "x17",
         "y": [
          0.0008208984834982263,
          0.011679224203611251,
          0.00021643000378313324,
          0.029824203896440367,
          0.09118757653685146,
          0.0027869243233584495,
          0.00012097439396951939
         ],
         "yaxis": "y17"
        },
        {
         "showscale": false,
         "type": "contour",
         "xaxis": "x25",
         "yaxis": "y25"
        },
        {
         "type": "scatter",
         "xaxis": "x25",
         "yaxis": "y25"
        },
        {
         "colorbar": {
          "title": {
           "text": "Objective Value"
          }
         },
         "colorscale": [
          [
           0,
           "rgb(247,251,255)"
          ],
          [
           0.125,
           "rgb(222,235,247)"
          ],
          [
           0.25,
           "rgb(198,219,239)"
          ],
          [
           0.375,
           "rgb(158,202,225)"
          ],
          [
           0.5,
           "rgb(107,174,214)"
          ],
          [
           0.625,
           "rgb(66,146,198)"
          ],
          [
           0.75,
           "rgb(33,113,181)"
          ],
          [
           0.875,
           "rgb(8,81,156)"
          ],
          [
           1,
           "rgb(8,48,107)"
          ]
         ],
         "connectgaps": true,
         "contours": {
          "coloring": "heatmap"
         },
         "hoverinfo": "none",
         "line": {
          "smoothing": 1.3
         },
         "reversescale": false,
         "showscale": false,
         "type": "contour",
         "x": [
          "svm",
          "xgb"
         ],
         "xaxis": "x33",
         "y": [
          0.0007372379007701723,
          0.0010358570813601882,
          0.0027997267788694865,
          0.004758493140454059,
          0.006590686340666416,
          0.006942867394675022,
          0.013090229268781284,
          0.014113631159275915,
          0.01523726585777048,
          0.015805225821651336,
          0.01666733352833639,
          0.024750461502307614,
          0.02555802881745517,
          0.0325804949787038,
          0.0350371171095323,
          0.05083084967472571,
          0.053312337690244675,
          0.05631769831682847,
          0.09769751132120906,
          0.10866971542300267,
          0.1539586529970273,
          0.3232067515642129,
          0.39761576121400816,
          0.9314156896913317,
          1.3086868388736335
         ],
         "yaxis": "y33",
         "z": {
          "bdata": "AAAAAAAA+H8AAAAAAAD4fwAAAAAAAPh/yZGPPWPV5D8AAAAAAAD4f0KgPfyI4Oc/AAAAAAAA+H/JkY89Y9XkPwAAAAAAAPh/zMXPQJcV6D8AAAAAAAD4f5l7UTsHgOU/AAAAAAAA+H8rM1LOvoDoPwAAAAAAAPh/yoppm9CA6D8AAAAAAAD4fxCXISf0leg/AAAAAAAA+H+u7jj0BZboPwAAAAAAAPh/M5397IWg6D8AAAAAAAD4f/h+4Ph+4Og/AAAAAAAA+H/OYwMUe2DoPwAAAAAAAPh/8gcTrfC16D8AAAAAAAD4f6pqSXuwYOg/AAAAAAAA+H/27c5SYqDoPwAAAAAAAPh/RiQtdd4V6D8AAAAAAAD4f1AsDGeJgOg/AAAAAAAA+H/9hmNDnsDnPwAAAAAAAPh/Y7M77+H15z8AAAAAAAD4f0YkLXXeFeg/AAAAAAAA+H95LUlKc2DnPwAAAAAAAPh/1vyXBLeA5z8AAAAAAAD4fxbnLEShFec/AAAAAAAA+H8AAAAAAAD4fw==",
          "dtype": "f8",
          "shape": "25, 2"
         }
        },
        {
         "marker": {
          "color": "black",
          "line": {
           "color": "Gray",
           "width": 2
          }
         },
         "mode": "markers",
         "name": "Feasible Trial",
         "showlegend": false,
         "type": "scatter",
         "x": [
          "xgb",
          "xgb",
          "xgb",
          "xgb",
          "xgb",
          "xgb",
          "xgb",
          "xgb",
          "xgb",
          "xgb",
          "xgb",
          "xgb",
          "xgb",
          "xgb",
          "xgb",
          "xgb",
          "xgb",
          "xgb",
          "xgb",
          "xgb",
          "xgb",
          "xgb",
          "xgb"
         ],
         "xaxis": "x33",
         "y": [
          0.39761576121400816,
          0.01666733352833639,
          0.09769751132120906,
          0.05631769831682847,
          0.3232067515642129,
          0.0027997267788694865,
          0.004758493140454059,
          0.024750461502307614,
          0.014113631159275915,
          0.013090229268781284,
          0.0010358570813601882,
          0.02555802881745517,
          0.10866971542300267,
          0.006942867394675022,
          0.0350371171095323,
          0.9314156896913317,
          0.015805225821651336,
          0.01523726585777048,
          0.006590686340666416,
          0.0325804949787038,
          0.053312337690244675,
          0.1539586529970273,
          0.05083084967472571
         ],
         "yaxis": "y33"
        },
        {
         "colorbar": {
          "title": {
           "text": "Objective Value"
          }
         },
         "colorscale": [
          [
           0,
           "rgb(247,251,255)"
          ],
          [
           0.125,
           "rgb(222,235,247)"
          ],
          [
           0.25,
           "rgb(198,219,239)"
          ],
          [
           0.375,
           "rgb(158,202,225)"
          ],
          [
           0.5,
           "rgb(107,174,214)"
          ],
          [
           0.625,
           "rgb(66,146,198)"
          ],
          [
           0.75,
           "rgb(33,113,181)"
          ],
          [
           0.875,
           "rgb(8,81,156)"
          ],
          [
           1,
           "rgb(8,48,107)"
          ]
         ],
         "connectgaps": true,
         "contours": {
          "coloring": "heatmap"
         },
         "hoverinfo": "none",
         "line": {
          "smoothing": 1.3
         },
         "reversescale": false,
         "showscale": false,
         "type": "contour",
         "x": [
          "svm",
          "xgb"
         ],
         "xaxis": "x41",
         "y": [
          2.65,
          3,
          4,
          5,
          6,
          7,
          8,
          9,
          10,
          10.35
         ],
         "yaxis": "y41",
         "z": {
          "bdata": "AAAAAAAA+H8AAAAAAAD4fwAAAAAAAPh/UCwMZ4mA6D8AAAAAAAD4f0YkLXXeFeg/AAAAAAAA+H/4fuD4fuDoPwAAAAAAAPh/ru449AWW6D8AAAAAAAD4f6pqSXuwYOg/AAAAAAAA+H/JkY89Y9XkPwAAAAAAAPh/QqA9/Ijg5z8AAAAAAAD4f9b8lwS3gOc/AAAAAAAA+H8AAAAAAAD4fw==",
          "dtype": "f8",
          "shape": "10, 2"
         }
        },
        {
         "marker": {
          "color": "black",
          "line": {
           "color": "Gray",
           "width": 2
          }
         },
         "mode": "markers",
         "name": "Feasible Trial",
         "showlegend": false,
         "type": "scatter",
         "x": [
          "xgb",
          "xgb",
          "xgb",
          "xgb",
          "xgb",
          "xgb",
          "xgb",
          "xgb",
          "xgb",
          "xgb",
          "xgb",
          "xgb",
          "xgb",
          "xgb",
          "xgb",
          "xgb",
          "xgb",
          "xgb",
          "xgb",
          "xgb",
          "xgb",
          "xgb",
          "xgb"
         ],
         "xaxis": "x41",
         "y": [
          10,
          5,
          3,
          3,
          4,
          9,
          6,
          5,
          6,
          5,
          8,
          5,
          7,
          5,
          7,
          4,
          6,
          6,
          4,
          5,
          5,
          4,
          5
         ],
         "yaxis": "y41"
        },
        {
         "colorbar": {
          "title": {
           "text": "Objective Value"
          }
         },
         "colorscale": [
          [
           0,
           "rgb(247,251,255)"
          ],
          [
           0.125,
           "rgb(222,235,247)"
          ],
          [
           0.25,
           "rgb(198,219,239)"
          ],
          [
           0.375,
           "rgb(158,202,225)"
          ],
          [
           0.5,
           "rgb(107,174,214)"
          ],
          [
           0.625,
           "rgb(66,146,198)"
          ],
          [
           0.75,
           "rgb(33,113,181)"
          ],
          [
           0.875,
           "rgb(8,81,156)"
          ],
          [
           1,
           "rgb(8,48,107)"
          ]
         ],
         "connectgaps": true,
         "contours": {
          "coloring": "heatmap"
         },
         "hoverinfo": "none",
         "line": {
          "smoothing": 1.3
         },
         "reversescale": false,
         "showscale": false,
         "type": "contour",
         "x": [
          "svm",
          "xgb"
         ],
         "xaxis": "x49",
         "y": [
          38.9,
          51,
          53,
          54,
          65,
          70,
          74,
          78,
          88,
          90,
          95,
          97,
          98,
          113,
          122,
          124,
          136,
          154,
          156,
          173,
          203,
          219,
          246,
          293,
          305.1
         ],
         "yaxis": "y49",
         "z": {
          "bdata": "AAAAAAAA+H8AAAAAAAD4fwAAAAAAAPh/9u3OUmKg6D8AAAAAAAD4f5l7UTsHgOU/AAAAAAAA+H/JkY89Y9XkPwAAAAAAAPh/+H7g+H7g6D8AAAAAAAD4f1AsDGeJgOg/AAAAAAAA+H9GJC113hXoPwAAAAAAAPh/EJchJ/SV6D8AAAAAAAD4fzOd/eyFoOg/AAAAAAAA+H/JkY89Y9XkPwAAAAAAAPh/ru449AWW6D8AAAAAAAD4f/IHE63wteg/AAAAAAAA+H+qakl7sGDoPwAAAAAAAPh/yoppm9CA6D8AAAAAAAD4fyszUs6+gOg/AAAAAAAA+H9jszvv4fXnPwAAAAAAAPh/zMXPQJcV6D8AAAAAAAD4f/2GY0OewOc/AAAAAAAA+H8W5yxEoRXnPwAAAAAAAPh/zmMDFHtg6D8AAAAAAAD4f0YkLXXeFeg/AAAAAAAA+H/W/JcEt4DnPwAAAAAAAPh/eS1JSnNg5z8AAAAAAAD4f0KgPfyI4Oc/AAAAAAAA+H8AAAAAAAD4fw==",
          "dtype": "f8",
          "shape": "25, 2"
         }
        },
        {
         "marker": {
          "color": "black",
          "line": {
           "color": "Gray",
           "width": 2
          }
         },
         "mode": "markers",
         "name": "Feasible Trial",
         "showlegend": false,
         "type": "scatter",
         "x": [
          "xgb",
          "xgb",
          "xgb",
          "xgb",
          "xgb",
          "xgb",
          "xgb",
          "xgb",
          "xgb",
          "xgb",
          "xgb",
          "xgb",
          "xgb",
          "xgb",
          "xgb",
          "xgb",
          "xgb",
          "xgb",
          "xgb",
          "xgb",
          "xgb",
          "xgb",
          "xgb"
         ],
         "xaxis": "x49",
         "y": [
          219,
          88,
          154,
          70,
          246,
          293,
          54,
          65,
          113,
          122,
          90,
          173,
          124,
          53,
          98,
          156,
          95,
          78,
          136,
          97,
          203,
          74,
          51
         ],
         "yaxis": "y49"
        },
        {
         "colorbar": {
          "title": {
           "text": "Objective Value"
          }
         },
         "colorscale": [
          [
           0,
           "rgb(247,251,255)"
          ],
          [
           0.125,
           "rgb(222,235,247)"
          ],
          [
           0.25,
           "rgb(198,219,239)"
          ],
          [
           0.375,
           "rgb(158,202,225)"
          ],
          [
           0.5,
           "rgb(107,174,214)"
          ],
          [
           0.625,
           "rgb(66,146,198)"
          ],
          [
           0.75,
           "rgb(33,113,181)"
          ],
          [
           0.875,
           "rgb(8,81,156)"
          ],
          [
           1,
           "rgb(8,48,107)"
          ]
         ],
         "connectgaps": true,
         "contours": {
          "coloring": "heatmap"
         },
         "hoverinfo": "none",
         "line": {
          "smoothing": 1.3
         },
         "reversescale": false,
         "showscale": false,
         "type": "contour",
         "x": [
          "svm",
          "xgb"
         ],
         "xaxis": "x57",
         "y": [
          0.4790564566948657,
          0.5013376559149066,
          0.5019157718237172,
          0.506893732740327,
          0.5148561210748295,
          0.5196456375790698,
          0.5364557505771801,
          0.5477180931232148,
          0.5518337582712914,
          0.5520085915891915,
          0.5697243845191879,
          0.5773152900277164,
          0.5850442265235768,
          0.6000081511037098,
          0.6273687866949943,
          0.6351831960485799,
          0.6463531566704311,
          0.6731547733406926,
          0.7033651687634224,
          0.7138294384601688,
          0.7990862014597997,
          0.8359157084918203,
          0.8537643940687959,
          0.9469616403157262,
          0.9692428395357672
         ],
         "yaxis": "y57",
         "z": {
          "bdata": "AAAAAAAA+H8AAAAAAAD4fwAAAAAAAPh/yoppm9CA6D8AAAAAAAD4fxCXISf0leg/AAAAAAAA+H8rM1LOvoDoPwAAAAAAAPh/ru449AWW6D8AAAAAAAD4f/h+4Ph+4Og/AAAAAAAA+H/yBxOt8LXoPwAAAAAAAPh/9u3OUmKg6D8AAAAAAAD4f5l7UTsHgOU/AAAAAAAA+H8znf3shaDoPwAAAAAAAPh/yZGPPWPV5D8AAAAAAAD4f8zFz0CXFeg/AAAAAAAA+H/W/JcEt4DnPwAAAAAAAPh/RiQtdd4V6D8AAAAAAAD4f1AsDGeJgOg/AAAAAAAA+H/OYwMUe2DoPwAAAAAAAPh/qmpJe7Bg6D8AAAAAAAD4f0YkLXXeFeg/AAAAAAAA+H/9hmNDnsDnPwAAAAAAAPh/yZGPPWPV5D8AAAAAAAD4fxbnLEShFec/AAAAAAAA+H9jszvv4fXnPwAAAAAAAPh/eS1JSnNg5z8AAAAAAAD4f0KgPfyI4Oc/AAAAAAAA+H8AAAAAAAD4fw==",
          "dtype": "f8",
          "shape": "25, 2"
         }
        },
        {
         "marker": {
          "color": "black",
          "line": {
           "color": "Gray",
           "width": 2
          }
         },
         "mode": "markers",
         "name": "Feasible Trial",
         "showlegend": false,
         "type": "scatter",
         "x": [
          "xgb",
          "xgb",
          "xgb",
          "xgb",
          "xgb",
          "xgb",
          "xgb",
          "xgb",
          "xgb",
          "xgb",
          "xgb",
          "xgb",
          "xgb",
          "xgb",
          "xgb",
          "xgb",
          "xgb",
          "xgb",
          "xgb",
          "xgb",
          "xgb",
          "xgb",
          "xgb"
         ],
         "xaxis": "x57",
         "y": [
          0.5850442265235768,
          0.5520085915891915,
          0.7033651687634224,
          0.6273687866949943,
          0.8537643940687959,
          0.9469616403157262,
          0.5697243845191879,
          0.5196456375790698,
          0.5013376559149066,
          0.506893732740327,
          0.7138294384601688,
          0.6351831960485799,
          0.8359157084918203,
          0.5518337582712914,
          0.6463531566704311,
          0.7990862014597997,
          0.5148561210748295,
          0.5019157718237172,
          0.5773152900277164,
          0.5364557505771801,
          0.6731547733406926,
          0.6000081511037098,
          0.5477180931232148
         ],
         "yaxis": "y57"
        },
        {
         "colorbar": {
          "title": {
           "text": "Objective Value"
          }
         },
         "colorscale": [
          [
           0,
           "rgb(247,251,255)"
          ],
          [
           0.125,
           "rgb(222,235,247)"
          ],
          [
           0.25,
           "rgb(198,219,239)"
          ],
          [
           0.375,
           "rgb(158,202,225)"
          ],
          [
           0.5,
           "rgb(107,174,214)"
          ],
          [
           0.625,
           "rgb(66,146,198)"
          ],
          [
           0.75,
           "rgb(33,113,181)"
          ],
          [
           0.875,
           "rgb(8,81,156)"
          ],
          [
           1,
           "rgb(8,48,107)"
          ]
         ],
         "connectgaps": true,
         "contours": {
          "coloring": "heatmap"
         },
         "hoverinfo": "none",
         "line": {
          "smoothing": 1.3
         },
         "reversescale": false,
         "showscale": false,
         "type": "contour",
         "x": [
          0.0005966234799253304,
          0.001135281621490049,
          0.0025075526085625655,
          0.49855436706778755,
          3.642894252057182,
          4.240886144056699,
          61.94815774837407,
          439.7126261418169,
          836.7046889579432
         ],
         "xaxis": "x2",
         "y": [
          "svm",
          "xgb"
         ],
         "yaxis": "y2",
         "z": {
          "bdata": "AAAAAAAA+H/JkY89Y9XkP8mRjz1j1eQ/wsoSfLO15z8riPzNEyvoP52D1IUmYOQ/adyE3a3K5D9+BuPCHUDnPwAAAAAAAPh/AAAAAAAA+H8AAAAAAAD4fwAAAAAAAPh/AAAAAAAA+H8AAAAAAAD4fwAAAAAAAPh/AAAAAAAA+H8AAAAAAAD4fwAAAAAAAPh/",
          "dtype": "f8",
          "shape": "2, 9"
         }
        },
        {
         "marker": {
          "color": "black",
          "line": {
           "color": "Gray",
           "width": 2
          }
         },
         "mode": "markers",
         "name": "Feasible Trial",
         "showlegend": false,
         "type": "scatter",
         "x": [
          0.49855436706778755,
          4.240886144056699,
          3.642894252057182,
          61.94815774837407,
          0.0025075526085625655,
          0.001135281621490049,
          439.7126261418169
         ],
         "xaxis": "x2",
         "y": [
          "svm",
          "svm",
          "svm",
          "svm",
          "svm",
          "svm",
          "svm"
         ],
         "yaxis": "y2"
        },
        {
         "type": "scatter",
         "xaxis": "x10",
         "yaxis": "y10"
        },
        {
         "colorbar": {
          "title": {
           "text": "Objective Value"
          }
         },
         "colorscale": [
          [
           0,
           "rgb(247,251,255)"
          ],
          [
           0.125,
           "rgb(222,235,247)"
          ],
          [
           0.25,
           "rgb(198,219,239)"
          ],
          [
           0.375,
           "rgb(158,202,225)"
          ],
          [
           0.5,
           "rgb(107,174,214)"
          ],
          [
           0.625,
           "rgb(66,146,198)"
          ],
          [
           0.75,
           "rgb(33,113,181)"
          ],
          [
           0.875,
           "rgb(8,81,156)"
          ],
          [
           1,
           "rgb(8,48,107)"
          ]
         ],
         "connectgaps": true,
         "contours": {
          "coloring": "heatmap"
         },
         "hoverinfo": "none",
         "line": {
          "smoothing": 1.3
         },
         "reversescale": false,
         "showscale": false,
         "type": "contour",
         "x": [
          0.0005966234799253304,
          0.001135281621490049,
          0.0025075526085625655,
          0.49855436706778755,
          3.642894252057182,
          4.240886144056699,
          61.94815774837407,
          439.7126261418169,
          836.7046889579432
         ],
         "xaxis": "x18",
         "y": [
          0.0000868623038995087,
          0.00012097439396951939,
          0.00021643000378313324,
          0.0008208984834982263,
          0.0027869243233584495,
          0.011679224203611251,
          0.029824203896440367,
          0.09118757653685146,
          0.1269982640784774
         ],
         "yaxis": "y18",
         "z": {
          "bdata": "AAAAAAAA+H8AAAAAAAD4fwAAAAAAAPh/AAAAAAAA+H8AAAAAAAD4fwAAAAAAAPh/AAAAAAAA+H8AAAAAAAD4fwAAAAAAAPh/AAAAAAAA+H8AAAAAAAD4fwAAAAAAAPh/AAAAAAAA+H8AAAAAAAD4fwAAAAAAAPh/AAAAAAAA+H9+BuPCHUDnPwAAAAAAAPh/AAAAAAAA+H8AAAAAAAD4fwAAAAAAAPh/AAAAAAAA+H8riPzNEyvoPwAAAAAAAPh/AAAAAAAA+H8AAAAAAAD4fwAAAAAAAPh/AAAAAAAA+H8AAAAAAAD4fwAAAAAAAPh/wsoSfLO15z8AAAAAAAD4fwAAAAAAAPh/AAAAAAAA+H8AAAAAAAD4fwAAAAAAAPh/AAAAAAAA+H/JkY89Y9XkPwAAAAAAAPh/AAAAAAAA+H8AAAAAAAD4fwAAAAAAAPh/AAAAAAAA+H8AAAAAAAD4fwAAAAAAAPh/AAAAAAAA+H8AAAAAAAD4fwAAAAAAAPh/AAAAAAAA+H8AAAAAAAD4f52D1IUmYOQ/AAAAAAAA+H8AAAAAAAD4fwAAAAAAAPh/AAAAAAAA+H8AAAAAAAD4fwAAAAAAAPh/AAAAAAAA+H8AAAAAAAD4fwAAAAAAAPh/adyE3a3K5D8AAAAAAAD4fwAAAAAAAPh/AAAAAAAA+H8AAAAAAAD4f8mRjz1j1eQ/AAAAAAAA+H8AAAAAAAD4fwAAAAAAAPh/AAAAAAAA+H8AAAAAAAD4fwAAAAAAAPh/AAAAAAAA+H8AAAAAAAD4fwAAAAAAAPh/AAAAAAAA+H8AAAAAAAD4fwAAAAAAAPh/AAAAAAAA+H8AAAAAAAD4fwAAAAAAAPh/",
          "dtype": "f8",
          "shape": "9, 9"
         }
        },
        {
         "marker": {
          "color": "black",
          "line": {
           "color": "Gray",
           "width": 2
          }
         },
         "mode": "markers",
         "name": "Feasible Trial",
         "showlegend": false,
         "type": "scatter",
         "x": [
          0.49855436706778755,
          4.240886144056699,
          3.642894252057182,
          61.94815774837407,
          0.0025075526085625655,
          0.001135281621490049,
          439.7126261418169
         ],
         "xaxis": "x18",
         "y": [
          0.0008208984834982263,
          0.011679224203611251,
          0.00021643000378313324,
          0.029824203896440367,
          0.09118757653685146,
          0.0027869243233584495,
          0.00012097439396951939
         ],
         "yaxis": "y18"
        },
        {
         "showscale": false,
         "type": "contour",
         "xaxis": "x26",
         "yaxis": "y26"
        },
        {
         "type": "scatter",
         "xaxis": "x26",
         "yaxis": "y26"
        },
        {
         "showscale": false,
         "type": "contour",
         "xaxis": "x34",
         "yaxis": "y34"
        },
        {
         "type": "scatter",
         "xaxis": "x34",
         "yaxis": "y34"
        },
        {
         "showscale": false,
         "type": "contour",
         "xaxis": "x42",
         "yaxis": "y42"
        },
        {
         "type": "scatter",
         "xaxis": "x42",
         "yaxis": "y42"
        },
        {
         "showscale": false,
         "type": "contour",
         "xaxis": "x50",
         "yaxis": "y50"
        },
        {
         "type": "scatter",
         "xaxis": "x50",
         "yaxis": "y50"
        },
        {
         "showscale": false,
         "type": "contour",
         "xaxis": "x58",
         "yaxis": "y58"
        },
        {
         "type": "scatter",
         "xaxis": "x58",
         "yaxis": "y58"
        },
        {
         "colorbar": {
          "title": {
           "text": "Objective Value"
          }
         },
         "colorscale": [
          [
           0,
           "rgb(247,251,255)"
          ],
          [
           0.125,
           "rgb(222,235,247)"
          ],
          [
           0.25,
           "rgb(198,219,239)"
          ],
          [
           0.375,
           "rgb(158,202,225)"
          ],
          [
           0.5,
           "rgb(107,174,214)"
          ],
          [
           0.625,
           "rgb(66,146,198)"
          ],
          [
           0.75,
           "rgb(33,113,181)"
          ],
          [
           0.875,
           "rgb(8,81,156)"
          ],
          [
           1,
           "rgb(8,48,107)"
          ]
         ],
         "connectgaps": true,
         "contours": {
          "coloring": "heatmap"
         },
         "hoverinfo": "none",
         "line": {
          "smoothing": 1.3
         },
         "reversescale": false,
         "showscale": false,
         "type": "contour",
         "x": [
          0.0000868623038995087,
          0.00012097439396951939,
          0.00021643000378313324,
          0.0008208984834982263,
          0.0027869243233584495,
          0.011679224203611251,
          0.029824203896440367,
          0.09118757653685146,
          0.1269982640784774
         ],
         "xaxis": "x3",
         "y": [
          "svm",
          "xgb"
         ],
         "yaxis": "y3",
         "z": {
          "bdata": "AAAAAAAA+H9+BuPCHUDnPyuI/M0TK+g/wsoSfLO15z/JkY89Y9XkP52D1IUmYOQ/adyE3a3K5D/JkY89Y9XkPwAAAAAAAPh/AAAAAAAA+H8AAAAAAAD4fwAAAAAAAPh/AAAAAAAA+H8AAAAAAAD4fwAAAAAAAPh/AAAAAAAA+H8AAAAAAAD4fwAAAAAAAPh/",
          "dtype": "f8",
          "shape": "2, 9"
         }
        },
        {
         "marker": {
          "color": "black",
          "line": {
           "color": "Gray",
           "width": 2
          }
         },
         "mode": "markers",
         "name": "Feasible Trial",
         "showlegend": false,
         "type": "scatter",
         "x": [
          0.0008208984834982263,
          0.011679224203611251,
          0.00021643000378313324,
          0.029824203896440367,
          0.09118757653685146,
          0.0027869243233584495,
          0.00012097439396951939
         ],
         "xaxis": "x3",
         "y": [
          "svm",
          "svm",
          "svm",
          "svm",
          "svm",
          "svm",
          "svm"
         ],
         "yaxis": "y3"
        },
        {
         "colorbar": {
          "title": {
           "text": "Objective Value"
          }
         },
         "colorscale": [
          [
           0,
           "rgb(247,251,255)"
          ],
          [
           0.125,
           "rgb(222,235,247)"
          ],
          [
           0.25,
           "rgb(198,219,239)"
          ],
          [
           0.375,
           "rgb(158,202,225)"
          ],
          [
           0.5,
           "rgb(107,174,214)"
          ],
          [
           0.625,
           "rgb(66,146,198)"
          ],
          [
           0.75,
           "rgb(33,113,181)"
          ],
          [
           0.875,
           "rgb(8,81,156)"
          ],
          [
           1,
           "rgb(8,48,107)"
          ]
         ],
         "connectgaps": true,
         "contours": {
          "coloring": "heatmap"
         },
         "hoverinfo": "none",
         "line": {
          "smoothing": 1.3
         },
         "reversescale": false,
         "showscale": false,
         "type": "contour",
         "x": [
          0.0000868623038995087,
          0.00012097439396951939,
          0.00021643000378313324,
          0.0008208984834982263,
          0.0027869243233584495,
          0.011679224203611251,
          0.029824203896440367,
          0.09118757653685146,
          0.1269982640784774
         ],
         "xaxis": "x11",
         "y": [
          0.0005966234799253304,
          0.001135281621490049,
          0.0025075526085625655,
          0.49855436706778755,
          3.642894252057182,
          4.240886144056699,
          61.94815774837407,
          439.7126261418169,
          836.7046889579432
         ],
         "yaxis": "y11",
         "z": {
          "bdata": "AAAAAAAA+H8AAAAAAAD4fwAAAAAAAPh/AAAAAAAA+H8AAAAAAAD4fwAAAAAAAPh/AAAAAAAA+H8AAAAAAAD4fwAAAAAAAPh/AAAAAAAA+H8AAAAAAAD4fwAAAAAAAPh/AAAAAAAA+H/JkY89Y9XkPwAAAAAAAPh/AAAAAAAA+H8AAAAAAAD4fwAAAAAAAPh/AAAAAAAA+H8AAAAAAAD4fwAAAAAAAPh/AAAAAAAA+H8AAAAAAAD4fwAAAAAAAPh/AAAAAAAA+H/JkY89Y9XkPwAAAAAAAPh/AAAAAAAA+H8AAAAAAAD4fwAAAAAAAPh/wsoSfLO15z8AAAAAAAD4fwAAAAAAAPh/AAAAAAAA+H8AAAAAAAD4fwAAAAAAAPh/AAAAAAAA+H8AAAAAAAD4fyuI/M0TK+g/AAAAAAAA+H8AAAAAAAD4fwAAAAAAAPh/AAAAAAAA+H8AAAAAAAD4fwAAAAAAAPh/AAAAAAAA+H8AAAAAAAD4fwAAAAAAAPh/AAAAAAAA+H8AAAAAAAD4f52D1IUmYOQ/AAAAAAAA+H8AAAAAAAD4fwAAAAAAAPh/AAAAAAAA+H8AAAAAAAD4fwAAAAAAAPh/AAAAAAAA+H8AAAAAAAD4fwAAAAAAAPh/adyE3a3K5D8AAAAAAAD4fwAAAAAAAPh/AAAAAAAA+H9+BuPCHUDnPwAAAAAAAPh/AAAAAAAA+H8AAAAAAAD4fwAAAAAAAPh/AAAAAAAA+H8AAAAAAAD4fwAAAAAAAPh/AAAAAAAA+H8AAAAAAAD4fwAAAAAAAPh/AAAAAAAA+H8AAAAAAAD4fwAAAAAAAPh/AAAAAAAA+H8AAAAAAAD4fwAAAAAAAPh/",
          "dtype": "f8",
          "shape": "9, 9"
         }
        },
        {
         "marker": {
          "color": "black",
          "line": {
           "color": "Gray",
           "width": 2
          }
         },
         "mode": "markers",
         "name": "Feasible Trial",
         "showlegend": false,
         "type": "scatter",
         "x": [
          0.0008208984834982263,
          0.011679224203611251,
          0.00021643000378313324,
          0.029824203896440367,
          0.09118757653685146,
          0.0027869243233584495,
          0.00012097439396951939
         ],
         "xaxis": "x11",
         "y": [
          0.49855436706778755,
          4.240886144056699,
          3.642894252057182,
          61.94815774837407,
          0.0025075526085625655,
          0.001135281621490049,
          439.7126261418169
         ],
         "yaxis": "y11"
        },
        {
         "type": "scatter",
         "xaxis": "x19",
         "yaxis": "y19"
        },
        {
         "showscale": false,
         "type": "contour",
         "xaxis": "x27",
         "yaxis": "y27"
        },
        {
         "type": "scatter",
         "xaxis": "x27",
         "yaxis": "y27"
        },
        {
         "showscale": false,
         "type": "contour",
         "xaxis": "x35",
         "yaxis": "y35"
        },
        {
         "type": "scatter",
         "xaxis": "x35",
         "yaxis": "y35"
        },
        {
         "showscale": false,
         "type": "contour",
         "xaxis": "x43",
         "yaxis": "y43"
        },
        {
         "type": "scatter",
         "xaxis": "x43",
         "yaxis": "y43"
        },
        {
         "showscale": false,
         "type": "contour",
         "xaxis": "x51",
         "yaxis": "y51"
        },
        {
         "type": "scatter",
         "xaxis": "x51",
         "yaxis": "y51"
        },
        {
         "showscale": false,
         "type": "contour",
         "xaxis": "x59",
         "yaxis": "y59"
        },
        {
         "type": "scatter",
         "xaxis": "x59",
         "yaxis": "y59"
        },
        {
         "showscale": false,
         "type": "contour",
         "xaxis": "x4",
         "yaxis": "y4"
        },
        {
         "type": "scatter",
         "xaxis": "x4",
         "yaxis": "y4"
        },
        {
         "showscale": false,
         "type": "contour",
         "xaxis": "x12",
         "yaxis": "y12"
        },
        {
         "type": "scatter",
         "xaxis": "x12",
         "yaxis": "y12"
        },
        {
         "showscale": false,
         "type": "contour",
         "xaxis": "x20",
         "yaxis": "y20"
        },
        {
         "type": "scatter",
         "xaxis": "x20",
         "yaxis": "y20"
        },
        {
         "type": "scatter",
         "xaxis": "x28",
         "yaxis": "y28"
        },
        {
         "showscale": false,
         "type": "contour",
         "xaxis": "x36",
         "yaxis": "y36"
        },
        {
         "type": "scatter",
         "xaxis": "x36",
         "yaxis": "y36"
        },
        {
         "showscale": false,
         "type": "contour",
         "xaxis": "x44",
         "yaxis": "y44"
        },
        {
         "type": "scatter",
         "xaxis": "x44",
         "yaxis": "y44"
        },
        {
         "showscale": false,
         "type": "contour",
         "xaxis": "x52",
         "yaxis": "y52"
        },
        {
         "type": "scatter",
         "xaxis": "x52",
         "yaxis": "y52"
        },
        {
         "showscale": false,
         "type": "contour",
         "xaxis": "x60",
         "yaxis": "y60"
        },
        {
         "type": "scatter",
         "xaxis": "x60",
         "yaxis": "y60"
        },
        {
         "colorbar": {
          "title": {
           "text": "Objective Value"
          }
         },
         "colorscale": [
          [
           0,
           "rgb(247,251,255)"
          ],
          [
           0.125,
           "rgb(222,235,247)"
          ],
          [
           0.25,
           "rgb(198,219,239)"
          ],
          [
           0.375,
           "rgb(158,202,225)"
          ],
          [
           0.5,
           "rgb(107,174,214)"
          ],
          [
           0.625,
           "rgb(66,146,198)"
          ],
          [
           0.75,
           "rgb(33,113,181)"
          ],
          [
           0.875,
           "rgb(8,81,156)"
          ],
          [
           1,
           "rgb(8,48,107)"
          ]
         ],
         "connectgaps": true,
         "contours": {
          "coloring": "heatmap"
         },
         "hoverinfo": "none",
         "line": {
          "smoothing": 1.3
         },
         "reversescale": false,
         "showscale": false,
         "type": "contour",
         "x": [
          0.0007372379007701723,
          0.0010358570813601882,
          0.0027997267788694865,
          0.004758493140454059,
          0.006590686340666416,
          0.006942867394675022,
          0.013090229268781284,
          0.014113631159275915,
          0.01523726585777048,
          0.015805225821651336,
          0.01666733352833639,
          0.024750461502307614,
          0.02555802881745517,
          0.0325804949787038,
          0.0350371171095323,
          0.05083084967472571,
          0.053312337690244675,
          0.05631769831682847,
          0.09769751132120906,
          0.10866971542300267,
          0.1539586529970273,
          0.3232067515642129,
          0.39761576121400816,
          0.9314156896913317,
          1.3086868388736335
         ],
         "xaxis": "x5",
         "y": [
          "svm",
          "xgb"
         ],
         "yaxis": "y5",
         "z": {
          "bdata": "AAAAAAAA+H8AAAAAAAD4fwAAAAAAAPh/AAAAAAAA+H8AAAAAAAD4fwAAAAAAAPh/AAAAAAAA+H8AAAAAAAD4fwAAAAAAAPh/AAAAAAAA+H8AAAAAAAD4fwAAAAAAAPh/AAAAAAAA+H8AAAAAAAD4fwAAAAAAAPh/AAAAAAAA+H8AAAAAAAD4fwAAAAAAAPh/AAAAAAAA+H8AAAAAAAD4fwAAAAAAAPh/AAAAAAAA+H8AAAAAAAD4fwAAAAAAAPh/AAAAAAAA+H8AAAAAAAD4f8mRjz1j1eQ/QqA9/Ijg5z/JkY89Y9XkP8zFz0CXFeg/mXtROweA5T8rM1LOvoDoP8qKaZvQgOg/EJchJ/SV6D+u7jj0BZboPzOd/eyFoOg/+H7g+H7g6D/OYwMUe2DoP/IHE63wteg/qmpJe7Bg6D/27c5SYqDoP0YkLXXeFeg/UCwMZ4mA6D/9hmNDnsDnP2OzO+/h9ec/RiQtdd4V6D95LUlKc2DnP9b8lwS3gOc/FucsRKEV5z8AAAAAAAD4fw==",
          "dtype": "f8",
          "shape": "2, 25"
         }
        },
        {
         "marker": {
          "color": "black",
          "line": {
           "color": "Gray",
           "width": 2
          }
         },
         "mode": "markers",
         "name": "Feasible Trial",
         "showlegend": false,
         "type": "scatter",
         "x": [
          0.39761576121400816,
          0.01666733352833639,
          0.09769751132120906,
          0.05631769831682847,
          0.3232067515642129,
          0.0027997267788694865,
          0.004758493140454059,
          0.024750461502307614,
          0.014113631159275915,
          0.013090229268781284,
          0.0010358570813601882,
          0.02555802881745517,
          0.10866971542300267,
          0.006942867394675022,
          0.0350371171095323,
          0.9314156896913317,
          0.015805225821651336,
          0.01523726585777048,
          0.006590686340666416,
          0.0325804949787038,
          0.053312337690244675,
          0.1539586529970273,
          0.05083084967472571
         ],
         "xaxis": "x5",
         "y": [
          "xgb",
          "xgb",
          "xgb",
          "xgb",
          "xgb",
          "xgb",
          "xgb",
          "xgb",
          "xgb",
          "xgb",
          "xgb",
          "xgb",
          "xgb",
          "xgb",
          "xgb",
          "xgb",
          "xgb",
          "xgb",
          "xgb",
          "xgb",
          "xgb",
          "xgb",
          "xgb"
         ],
         "yaxis": "y5"
        },
        {
         "showscale": false,
         "type": "contour",
         "xaxis": "x13",
         "yaxis": "y13"
        },
        {
         "type": "scatter",
         "xaxis": "x13",
         "yaxis": "y13"
        },
        {
         "showscale": false,
         "type": "contour",
         "xaxis": "x21",
         "yaxis": "y21"
        },
        {
         "type": "scatter",
         "xaxis": "x21",
         "yaxis": "y21"
        },
        {
         "showscale": false,
         "type": "contour",
         "xaxis": "x29",
         "yaxis": "y29"
        },
        {
         "type": "scatter",
         "xaxis": "x29",
         "yaxis": "y29"
        },
        {
         "type": "scatter",
         "xaxis": "x37",
         "yaxis": "y37"
        },
        {
         "colorbar": {
          "title": {
           "text": "Objective Value"
          }
         },
         "colorscale": [
          [
           0,
           "rgb(247,251,255)"
          ],
          [
           0.125,
           "rgb(222,235,247)"
          ],
          [
           0.25,
           "rgb(198,219,239)"
          ],
          [
           0.375,
           "rgb(158,202,225)"
          ],
          [
           0.5,
           "rgb(107,174,214)"
          ],
          [
           0.625,
           "rgb(66,146,198)"
          ],
          [
           0.75,
           "rgb(33,113,181)"
          ],
          [
           0.875,
           "rgb(8,81,156)"
          ],
          [
           1,
           "rgb(8,48,107)"
          ]
         ],
         "connectgaps": true,
         "contours": {
          "coloring": "heatmap"
         },
         "hoverinfo": "none",
         "line": {
          "smoothing": 1.3
         },
         "reversescale": false,
         "showscale": false,
         "type": "contour",
         "x": [
          0.0007372379007701723,
          0.0010358570813601882,
          0.0027997267788694865,
          0.004758493140454059,
          0.006590686340666416,
          0.006942867394675022,
          0.013090229268781284,
          0.014113631159275915,
          0.01523726585777048,
          0.015805225821651336,
          0.01666733352833639,
          0.024750461502307614,
          0.02555802881745517,
          0.0325804949787038,
          0.0350371171095323,
          0.05083084967472571,
          0.053312337690244675,
          0.05631769831682847,
          0.09769751132120906,
          0.10866971542300267,
          0.1539586529970273,
          0.3232067515642129,
          0.39761576121400816,
          0.9314156896913317,
          1.3086868388736335
         ],
         "xaxis": "x45",
         "y": [
          2.65,
          3,
          4,
          5,
          6,
          7,
          8,
          9,
          10,
          10.35
         ],
         "yaxis": "y45",
         "z": {
          "bdata": "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",
          "dtype": "f8",
          "shape": "10, 25"
         }
        },
        {
         "marker": {
          "color": "black",
          "line": {
           "color": "Gray",
           "width": 2
          }
         },
         "mode": "markers",
         "name": "Feasible Trial",
         "showlegend": false,
         "type": "scatter",
         "x": [
          0.39761576121400816,
          0.01666733352833639,
          0.09769751132120906,
          0.05631769831682847,
          0.3232067515642129,
          0.0027997267788694865,
          0.004758493140454059,
          0.024750461502307614,
          0.014113631159275915,
          0.013090229268781284,
          0.0010358570813601882,
          0.02555802881745517,
          0.10866971542300267,
          0.006942867394675022,
          0.0350371171095323,
          0.9314156896913317,
          0.015805225821651336,
          0.01523726585777048,
          0.006590686340666416,
          0.0325804949787038,
          0.053312337690244675,
          0.1539586529970273,
          0.05083084967472571
         ],
         "xaxis": "x45",
         "y": [
          10,
          5,
          3,
          3,
          4,
          9,
          6,
          5,
          6,
          5,
          8,
          5,
          7,
          5,
          7,
          4,
          6,
          6,
          4,
          5,
          5,
          4,
          5
         ],
         "yaxis": "y45"
        },
        {
         "colorbar": {
          "title": {
           "text": "Objective Value"
          }
         },
         "colorscale": [
          [
           0,
           "rgb(247,251,255)"
          ],
          [
           0.125,
           "rgb(222,235,247)"
          ],
          [
           0.25,
           "rgb(198,219,239)"
          ],
          [
           0.375,
           "rgb(158,202,225)"
          ],
          [
           0.5,
           "rgb(107,174,214)"
          ],
          [
           0.625,
           "rgb(66,146,198)"
          ],
          [
           0.75,
           "rgb(33,113,181)"
          ],
          [
           0.875,
           "rgb(8,81,156)"
          ],
          [
           1,
           "rgb(8,48,107)"
          ]
         ],
         "connectgaps": true,
         "contours": {
          "coloring": "heatmap"
         },
         "hoverinfo": "none",
         "line": {
          "smoothing": 1.3
         },
         "reversescale": false,
         "showscale": false,
         "type": "contour",
         "x": [
          0.0007372379007701723,
          0.0010358570813601882,
          0.0027997267788694865,
          0.004758493140454059,
          0.006590686340666416,
          0.006942867394675022,
          0.013090229268781284,
          0.014113631159275915,
          0.01523726585777048,
          0.015805225821651336,
          0.01666733352833639,
          0.024750461502307614,
          0.02555802881745517,
          0.0325804949787038,
          0.0350371171095323,
          0.05083084967472571,
          0.053312337690244675,
          0.05631769831682847,
          0.09769751132120906,
          0.10866971542300267,
          0.1539586529970273,
          0.3232067515642129,
          0.39761576121400816,
          0.9314156896913317,
          1.3086868388736335
         ],
         "xaxis": "x53",
         "y": [
          38.9,
          51,
          53,
          54,
          65,
          70,
          74,
          78,
          88,
          90,
          95,
          97,
          98,
          113,
          122,
          124,
          136,
          154,
          156,
          173,
          203,
          219,
          246,
          293,
          305.1
         ],
         "yaxis": "y53",
         "z": {
          "bdata": "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",
          "dtype": "f8",
          "shape": "25, 25"
         }
        },
        {
         "marker": {
          "color": "black",
          "line": {
           "color": "Gray",
           "width": 2
          }
         },
         "mode": "markers",
         "name": "Feasible Trial",
         "showlegend": false,
         "type": "scatter",
         "x": [
          0.39761576121400816,
          0.01666733352833639,
          0.09769751132120906,
          0.05631769831682847,
          0.3232067515642129,
          0.0027997267788694865,
          0.004758493140454059,
          0.024750461502307614,
          0.014113631159275915,
          0.013090229268781284,
          0.0010358570813601882,
          0.02555802881745517,
          0.10866971542300267,
          0.006942867394675022,
          0.0350371171095323,
          0.9314156896913317,
          0.015805225821651336,
          0.01523726585777048,
          0.006590686340666416,
          0.0325804949787038,
          0.053312337690244675,
          0.1539586529970273,
          0.05083084967472571
         ],
         "xaxis": "x53",
         "y": [
          219,
          88,
          154,
          70,
          246,
          293,
          54,
          65,
          113,
          122,
          90,
          173,
          124,
          53,
          98,
          156,
          95,
          78,
          136,
          97,
          203,
          74,
          51
         ],
         "yaxis": "y53"
        },
        {
         "colorbar": {
          "title": {
           "text": "Objective Value"
          }
         },
         "colorscale": [
          [
           0,
           "rgb(247,251,255)"
          ],
          [
           0.125,
           "rgb(222,235,247)"
          ],
          [
           0.25,
           "rgb(198,219,239)"
          ],
          [
           0.375,
           "rgb(158,202,225)"
          ],
          [
           0.5,
           "rgb(107,174,214)"
          ],
          [
           0.625,
           "rgb(66,146,198)"
          ],
          [
           0.75,
           "rgb(33,113,181)"
          ],
          [
           0.875,
           "rgb(8,81,156)"
          ],
          [
           1,
           "rgb(8,48,107)"
          ]
         ],
         "connectgaps": true,
         "contours": {
          "coloring": "heatmap"
         },
         "hoverinfo": "none",
         "line": {
          "smoothing": 1.3
         },
         "reversescale": false,
         "showscale": false,
         "type": "contour",
         "x": [
          0.0007372379007701723,
          0.0010358570813601882,
          0.0027997267788694865,
          0.004758493140454059,
          0.006590686340666416,
          0.006942867394675022,
          0.013090229268781284,
          0.014113631159275915,
          0.01523726585777048,
          0.015805225821651336,
          0.01666733352833639,
          0.024750461502307614,
          0.02555802881745517,
          0.0325804949787038,
          0.0350371171095323,
          0.05083084967472571,
          0.053312337690244675,
          0.05631769831682847,
          0.09769751132120906,
          0.10866971542300267,
          0.1539586529970273,
          0.3232067515642129,
          0.39761576121400816,
          0.9314156896913317,
          1.3086868388736335
         ],
         "xaxis": "x61",
         "y": [
          0.4790564566948657,
          0.5013376559149066,
          0.5019157718237172,
          0.506893732740327,
          0.5148561210748295,
          0.5196456375790698,
          0.5364557505771801,
          0.5477180931232148,
          0.5518337582712914,
          0.5520085915891915,
          0.5697243845191879,
          0.5773152900277164,
          0.5850442265235768,
          0.6000081511037098,
          0.6273687866949943,
          0.6351831960485799,
          0.6463531566704311,
          0.6731547733406926,
          0.7033651687634224,
          0.7138294384601688,
          0.7990862014597997,
          0.8359157084918203,
          0.8537643940687959,
          0.9469616403157262,
          0.9692428395357672
         ],
         "yaxis": "y61",
         "z": {
          "bdata": "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",
          "dtype": "f8",
          "shape": "25, 25"
         }
        },
        {
         "marker": {
          "color": "black",
          "line": {
           "color": "Gray",
           "width": 2
          }
         },
         "mode": "markers",
         "name": "Feasible Trial",
         "showlegend": false,
         "type": "scatter",
         "x": [
          0.39761576121400816,
          0.01666733352833639,
          0.09769751132120906,
          0.05631769831682847,
          0.3232067515642129,
          0.0027997267788694865,
          0.004758493140454059,
          0.024750461502307614,
          0.014113631159275915,
          0.013090229268781284,
          0.0010358570813601882,
          0.02555802881745517,
          0.10866971542300267,
          0.006942867394675022,
          0.0350371171095323,
          0.9314156896913317,
          0.015805225821651336,
          0.01523726585777048,
          0.006590686340666416,
          0.0325804949787038,
          0.053312337690244675,
          0.1539586529970273,
          0.05083084967472571
         ],
         "xaxis": "x61",
         "y": [
          0.5850442265235768,
          0.5520085915891915,
          0.7033651687634224,
          0.6273687866949943,
          0.8537643940687959,
          0.9469616403157262,
          0.5697243845191879,
          0.5196456375790698,
          0.5013376559149066,
          0.506893732740327,
          0.7138294384601688,
          0.6351831960485799,
          0.8359157084918203,
          0.5518337582712914,
          0.6463531566704311,
          0.7990862014597997,
          0.5148561210748295,
          0.5019157718237172,
          0.5773152900277164,
          0.5364557505771801,
          0.6731547733406926,
          0.6000081511037098,
          0.5477180931232148
         ],
         "yaxis": "y61"
        },
        {
         "colorbar": {
          "title": {
           "text": "Objective Value"
          }
         },
         "colorscale": [
          [
           0,
           "rgb(247,251,255)"
          ],
          [
           0.125,
           "rgb(222,235,247)"
          ],
          [
           0.25,
           "rgb(198,219,239)"
          ],
          [
           0.375,
           "rgb(158,202,225)"
          ],
          [
           0.5,
           "rgb(107,174,214)"
          ],
          [
           0.625,
           "rgb(66,146,198)"
          ],
          [
           0.75,
           "rgb(33,113,181)"
          ],
          [
           0.875,
           "rgb(8,81,156)"
          ],
          [
           1,
           "rgb(8,48,107)"
          ]
         ],
         "connectgaps": true,
         "contours": {
          "coloring": "heatmap"
         },
         "hoverinfo": "none",
         "line": {
          "smoothing": 1.3
         },
         "reversescale": false,
         "showscale": false,
         "type": "contour",
         "x": [
          2.65,
          3,
          4,
          5,
          6,
          7,
          8,
          9,
          10,
          10.35
         ],
         "xaxis": "x6",
         "y": [
          "svm",
          "xgb"
         ],
         "yaxis": "y6",
         "z": {
          "bdata": "AAAAAAAA+H8AAAAAAAD4fwAAAAAAAPh/AAAAAAAA+H8AAAAAAAD4fwAAAAAAAPh/AAAAAAAA+H8AAAAAAAD4fwAAAAAAAPh/AAAAAAAA+H8AAAAAAAD4f1AsDGeJgOg/RiQtdd4V6D/4fuD4fuDoP67uOPQFlug/qmpJe7Bg6D/JkY89Y9XkP0KgPfyI4Oc/1vyXBLeA5z8AAAAAAAD4fw==",
          "dtype": "f8",
          "shape": "2, 10"
         }
        },
        {
         "marker": {
          "color": "black",
          "line": {
           "color": "Gray",
           "width": 2
          }
         },
         "mode": "markers",
         "name": "Feasible Trial",
         "showlegend": false,
         "type": "scatter",
         "x": [
          10,
          5,
          3,
          3,
          4,
          9,
          6,
          5,
          6,
          5,
          8,
          5,
          7,
          5,
          7,
          4,
          6,
          6,
          4,
          5,
          5,
          4,
          5
         ],
         "xaxis": "x6",
         "y": [
          "xgb",
          "xgb",
          "xgb",
          "xgb",
          "xgb",
          "xgb",
          "xgb",
          "xgb",
          "xgb",
          "xgb",
          "xgb",
          "xgb",
          "xgb",
          "xgb",
          "xgb",
          "xgb",
          "xgb",
          "xgb",
          "xgb",
          "xgb",
          "xgb",
          "xgb",
          "xgb"
         ],
         "yaxis": "y6"
        },
        {
         "showscale": false,
         "type": "contour",
         "xaxis": "x14",
         "yaxis": "y14"
        },
        {
         "type": "scatter",
         "xaxis": "x14",
         "yaxis": "y14"
        },
        {
         "showscale": false,
         "type": "contour",
         "xaxis": "x22",
         "yaxis": "y22"
        },
        {
         "type": "scatter",
         "xaxis": "x22",
         "yaxis": "y22"
        },
        {
         "showscale": false,
         "type": "contour",
         "xaxis": "x30",
         "yaxis": "y30"
        },
        {
         "type": "scatter",
         "xaxis": "x30",
         "yaxis": "y30"
        },
        {
         "colorbar": {
          "title": {
           "text": "Objective Value"
          }
         },
         "colorscale": [
          [
           0,
           "rgb(247,251,255)"
          ],
          [
           0.125,
           "rgb(222,235,247)"
          ],
          [
           0.25,
           "rgb(198,219,239)"
          ],
          [
           0.375,
           "rgb(158,202,225)"
          ],
          [
           0.5,
           "rgb(107,174,214)"
          ],
          [
           0.625,
           "rgb(66,146,198)"
          ],
          [
           0.75,
           "rgb(33,113,181)"
          ],
          [
           0.875,
           "rgb(8,81,156)"
          ],
          [
           1,
           "rgb(8,48,107)"
          ]
         ],
         "connectgaps": true,
         "contours": {
          "coloring": "heatmap"
         },
         "hoverinfo": "none",
         "line": {
          "smoothing": 1.3
         },
         "reversescale": false,
         "showscale": false,
         "type": "contour",
         "x": [
          2.65,
          3,
          4,
          5,
          6,
          7,
          8,
          9,
          10,
          10.35
         ],
         "xaxis": "x38",
         "y": [
          0.0007372379007701723,
          0.0010358570813601882,
          0.0027997267788694865,
          0.004758493140454059,
          0.006590686340666416,
          0.006942867394675022,
          0.013090229268781284,
          0.014113631159275915,
          0.01523726585777048,
          0.015805225821651336,
          0.01666733352833639,
          0.024750461502307614,
          0.02555802881745517,
          0.0325804949787038,
          0.0350371171095323,
          0.05083084967472571,
          0.053312337690244675,
          0.05631769831682847,
          0.09769751132120906,
          0.10866971542300267,
          0.1539586529970273,
          0.3232067515642129,
          0.39761576121400816,
          0.9314156896913317,
          1.3086868388736335
         ],
         "yaxis": "y38",
         "z": {
          "bdata": "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",
          "dtype": "f8",
          "shape": "25, 10"
         }
        },
        {
         "marker": {
          "color": "black",
          "line": {
           "color": "Gray",
           "width": 2
          }
         },
         "mode": "markers",
         "name": "Feasible Trial",
         "showlegend": false,
         "type": "scatter",
         "x": [
          10,
          5,
          3,
          3,
          4,
          9,
          6,
          5,
          6,
          5,
          8,
          5,
          7,
          5,
          7,
          4,
          6,
          6,
          4,
          5,
          5,
          4,
          5
         ],
         "xaxis": "x38",
         "y": [
          0.39761576121400816,
          0.01666733352833639,
          0.09769751132120906,
          0.05631769831682847,
          0.3232067515642129,
          0.0027997267788694865,
          0.004758493140454059,
          0.024750461502307614,
          0.014113631159275915,
          0.013090229268781284,
          0.0010358570813601882,
          0.02555802881745517,
          0.10866971542300267,
          0.006942867394675022,
          0.0350371171095323,
          0.9314156896913317,
          0.015805225821651336,
          0.01523726585777048,
          0.006590686340666416,
          0.0325804949787038,
          0.053312337690244675,
          0.1539586529970273,
          0.05083084967472571
         ],
         "yaxis": "y38"
        },
        {
         "type": "scatter",
         "xaxis": "x46",
         "yaxis": "y46"
        },
        {
         "colorbar": {
          "title": {
           "text": "Objective Value"
          }
         },
         "colorscale": [
          [
           0,
           "rgb(247,251,255)"
          ],
          [
           0.125,
           "rgb(222,235,247)"
          ],
          [
           0.25,
           "rgb(198,219,239)"
          ],
          [
           0.375,
           "rgb(158,202,225)"
          ],
          [
           0.5,
           "rgb(107,174,214)"
          ],
          [
           0.625,
           "rgb(66,146,198)"
          ],
          [
           0.75,
           "rgb(33,113,181)"
          ],
          [
           0.875,
           "rgb(8,81,156)"
          ],
          [
           1,
           "rgb(8,48,107)"
          ]
         ],
         "connectgaps": true,
         "contours": {
          "coloring": "heatmap"
         },
         "hoverinfo": "none",
         "line": {
          "smoothing": 1.3
         },
         "reversescale": false,
         "showscale": false,
         "type": "contour",
         "x": [
          2.65,
          3,
          4,
          5,
          6,
          7,
          8,
          9,
          10,
          10.35
         ],
         "xaxis": "x54",
         "y": [
          38.9,
          51,
          53,
          54,
          65,
          70,
          74,
          78,
          88,
          90,
          95,
          97,
          98,
          113,
          122,
          124,
          136,
          154,
          156,
          173,
          203,
          219,
          246,
          293,
          305.1
         ],
         "yaxis": "y54",
         "z": {
          "bdata": "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",
          "dtype": "f8",
          "shape": "25, 10"
         }
        },
        {
         "marker": {
          "color": "black",
          "line": {
           "color": "Gray",
           "width": 2
          }
         },
         "mode": "markers",
         "name": "Feasible Trial",
         "showlegend": false,
         "type": "scatter",
         "x": [
          10,
          5,
          3,
          3,
          4,
          9,
          6,
          5,
          6,
          5,
          8,
          5,
          7,
          5,
          7,
          4,
          6,
          6,
          4,
          5,
          5,
          4,
          5
         ],
         "xaxis": "x54",
         "y": [
          219,
          88,
          154,
          70,
          246,
          293,
          54,
          65,
          113,
          122,
          90,
          173,
          124,
          53,
          98,
          156,
          95,
          78,
          136,
          97,
          203,
          74,
          51
         ],
         "yaxis": "y54"
        },
        {
         "colorbar": {
          "title": {
           "text": "Objective Value"
          }
         },
         "colorscale": [
          [
           0,
           "rgb(247,251,255)"
          ],
          [
           0.125,
           "rgb(222,235,247)"
          ],
          [
           0.25,
           "rgb(198,219,239)"
          ],
          [
           0.375,
           "rgb(158,202,225)"
          ],
          [
           0.5,
           "rgb(107,174,214)"
          ],
          [
           0.625,
           "rgb(66,146,198)"
          ],
          [
           0.75,
           "rgb(33,113,181)"
          ],
          [
           0.875,
           "rgb(8,81,156)"
          ],
          [
           1,
           "rgb(8,48,107)"
          ]
         ],
         "connectgaps": true,
         "contours": {
          "coloring": "heatmap"
         },
         "hoverinfo": "none",
         "line": {
          "smoothing": 1.3
         },
         "reversescale": false,
         "showscale": false,
         "type": "contour",
         "x": [
          2.65,
          3,
          4,
          5,
          6,
          7,
          8,
          9,
          10,
          10.35
         ],
         "xaxis": "x62",
         "y": [
          0.4790564566948657,
          0.5013376559149066,
          0.5019157718237172,
          0.506893732740327,
          0.5148561210748295,
          0.5196456375790698,
          0.5364557505771801,
          0.5477180931232148,
          0.5518337582712914,
          0.5520085915891915,
          0.5697243845191879,
          0.5773152900277164,
          0.5850442265235768,
          0.6000081511037098,
          0.6273687866949943,
          0.6351831960485799,
          0.6463531566704311,
          0.6731547733406926,
          0.7033651687634224,
          0.7138294384601688,
          0.7990862014597997,
          0.8359157084918203,
          0.8537643940687959,
          0.9469616403157262,
          0.9692428395357672
         ],
         "yaxis": "y62",
         "z": {
          "bdata": "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",
          "dtype": "f8",
          "shape": "25, 10"
         }
        },
        {
         "marker": {
          "color": "black",
          "line": {
           "color": "Gray",
           "width": 2
          }
         },
         "mode": "markers",
         "name": "Feasible Trial",
         "showlegend": false,
         "type": "scatter",
         "x": [
          10,
          5,
          3,
          3,
          4,
          9,
          6,
          5,
          6,
          5,
          8,
          5,
          7,
          5,
          7,
          4,
          6,
          6,
          4,
          5,
          5,
          4,
          5
         ],
         "xaxis": "x62",
         "y": [
          0.5850442265235768,
          0.5520085915891915,
          0.7033651687634224,
          0.6273687866949943,
          0.8537643940687959,
          0.9469616403157262,
          0.5697243845191879,
          0.5196456375790698,
          0.5013376559149066,
          0.506893732740327,
          0.7138294384601688,
          0.6351831960485799,
          0.8359157084918203,
          0.5518337582712914,
          0.6463531566704311,
          0.7990862014597997,
          0.5148561210748295,
          0.5019157718237172,
          0.5773152900277164,
          0.5364557505771801,
          0.6731547733406926,
          0.6000081511037098,
          0.5477180931232148
         ],
         "yaxis": "y62"
        },
        {
         "colorbar": {
          "title": {
           "text": "Objective Value"
          }
         },
         "colorscale": [
          [
           0,
           "rgb(247,251,255)"
          ],
          [
           0.125,
           "rgb(222,235,247)"
          ],
          [
           0.25,
           "rgb(198,219,239)"
          ],
          [
           0.375,
           "rgb(158,202,225)"
          ],
          [
           0.5,
           "rgb(107,174,214)"
          ],
          [
           0.625,
           "rgb(66,146,198)"
          ],
          [
           0.75,
           "rgb(33,113,181)"
          ],
          [
           0.875,
           "rgb(8,81,156)"
          ],
          [
           1,
           "rgb(8,48,107)"
          ]
         ],
         "connectgaps": true,
         "contours": {
          "coloring": "heatmap"
         },
         "hoverinfo": "none",
         "line": {
          "smoothing": 1.3
         },
         "reversescale": false,
         "showscale": false,
         "type": "contour",
         "x": [
          38.9,
          51,
          53,
          54,
          65,
          70,
          74,
          78,
          88,
          90,
          95,
          97,
          98,
          113,
          122,
          124,
          136,
          154,
          156,
          173,
          203,
          219,
          246,
          293,
          305.1
         ],
         "xaxis": "x7",
         "y": [
          "svm",
          "xgb"
         ],
         "yaxis": "y7",
         "z": {
          "bdata": "AAAAAAAA+H8AAAAAAAD4fwAAAAAAAPh/AAAAAAAA+H8AAAAAAAD4fwAAAAAAAPh/AAAAAAAA+H8AAAAAAAD4fwAAAAAAAPh/AAAAAAAA+H8AAAAAAAD4fwAAAAAAAPh/AAAAAAAA+H8AAAAAAAD4fwAAAAAAAPh/AAAAAAAA+H8AAAAAAAD4fwAAAAAAAPh/AAAAAAAA+H8AAAAAAAD4fwAAAAAAAPh/AAAAAAAA+H8AAAAAAAD4fwAAAAAAAPh/AAAAAAAA+H8AAAAAAAD4f/btzlJioOg/mXtROweA5T/JkY89Y9XkP/h+4Ph+4Og/UCwMZ4mA6D9GJC113hXoPxCXISf0leg/M5397IWg6D/JkY89Y9XkP67uOPQFlug/8gcTrfC16D+qakl7sGDoP8qKaZvQgOg/KzNSzr6A6D9jszvv4fXnP8zFz0CXFeg//YZjQ57A5z8W5yxEoRXnP85jAxR7YOg/RiQtdd4V6D/W/JcEt4DnP3ktSUpzYOc/QqA9/Ijg5z8AAAAAAAD4fw==",
          "dtype": "f8",
          "shape": "2, 25"
         }
        },
        {
         "marker": {
          "color": "black",
          "line": {
           "color": "Gray",
           "width": 2
          }
         },
         "mode": "markers",
         "name": "Feasible Trial",
         "showlegend": false,
         "type": "scatter",
         "x": [
          219,
          88,
          154,
          70,
          246,
          293,
          54,
          65,
          113,
          122,
          90,
          173,
          124,
          53,
          98,
          156,
          95,
          78,
          136,
          97,
          203,
          74,
          51
         ],
         "xaxis": "x7",
         "y": [
          "xgb",
          "xgb",
          "xgb",
          "xgb",
          "xgb",
          "xgb",
          "xgb",
          "xgb",
          "xgb",
          "xgb",
          "xgb",
          "xgb",
          "xgb",
          "xgb",
          "xgb",
          "xgb",
          "xgb",
          "xgb",
          "xgb",
          "xgb",
          "xgb",
          "xgb",
          "xgb"
         ],
         "yaxis": "y7"
        },
        {
         "showscale": false,
         "type": "contour",
         "xaxis": "x15",
         "yaxis": "y15"
        },
        {
         "type": "scatter",
         "xaxis": "x15",
         "yaxis": "y15"
        },
        {
         "showscale": false,
         "type": "contour",
         "xaxis": "x23",
         "yaxis": "y23"
        },
        {
         "type": "scatter",
         "xaxis": "x23",
         "yaxis": "y23"
        },
        {
         "showscale": false,
         "type": "contour",
         "xaxis": "x31",
         "yaxis": "y31"
        },
        {
         "type": "scatter",
         "xaxis": "x31",
         "yaxis": "y31"
        },
        {
         "colorbar": {
          "title": {
           "text": "Objective Value"
          }
         },
         "colorscale": [
          [
           0,
           "rgb(247,251,255)"
          ],
          [
           0.125,
           "rgb(222,235,247)"
          ],
          [
           0.25,
           "rgb(198,219,239)"
          ],
          [
           0.375,
           "rgb(158,202,225)"
          ],
          [
           0.5,
           "rgb(107,174,214)"
          ],
          [
           0.625,
           "rgb(66,146,198)"
          ],
          [
           0.75,
           "rgb(33,113,181)"
          ],
          [
           0.875,
           "rgb(8,81,156)"
          ],
          [
           1,
           "rgb(8,48,107)"
          ]
         ],
         "connectgaps": true,
         "contours": {
          "coloring": "heatmap"
         },
         "hoverinfo": "none",
         "line": {
          "smoothing": 1.3
         },
         "reversescale": false,
         "showscale": false,
         "type": "contour",
         "x": [
          38.9,
          51,
          53,
          54,
          65,
          70,
          74,
          78,
          88,
          90,
          95,
          97,
          98,
          113,
          122,
          124,
          136,
          154,
          156,
          173,
          203,
          219,
          246,
          293,
          305.1
         ],
         "xaxis": "x39",
         "y": [
          0.0007372379007701723,
          0.0010358570813601882,
          0.0027997267788694865,
          0.004758493140454059,
          0.006590686340666416,
          0.006942867394675022,
          0.013090229268781284,
          0.014113631159275915,
          0.01523726585777048,
          0.015805225821651336,
          0.01666733352833639,
          0.024750461502307614,
          0.02555802881745517,
          0.0325804949787038,
          0.0350371171095323,
          0.05083084967472571,
          0.053312337690244675,
          0.05631769831682847,
          0.09769751132120906,
          0.10866971542300267,
          0.1539586529970273,
          0.3232067515642129,
          0.39761576121400816,
          0.9314156896913317,
          1.3086868388736335
         ],
         "yaxis": "y39",
         "z": {
          "bdata": "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",
          "dtype": "f8",
          "shape": "25, 25"
         }
        },
        {
         "marker": {
          "color": "black",
          "line": {
           "color": "Gray",
           "width": 2
          }
         },
         "mode": "markers",
         "name": "Feasible Trial",
         "showlegend": false,
         "type": "scatter",
         "x": [
          219,
          88,
          154,
          70,
          246,
          293,
          54,
          65,
          113,
          122,
          90,
          173,
          124,
          53,
          98,
          156,
          95,
          78,
          136,
          97,
          203,
          74,
          51
         ],
         "xaxis": "x39",
         "y": [
          0.39761576121400816,
          0.01666733352833639,
          0.09769751132120906,
          0.05631769831682847,
          0.3232067515642129,
          0.0027997267788694865,
          0.004758493140454059,
          0.024750461502307614,
          0.014113631159275915,
          0.013090229268781284,
          0.0010358570813601882,
          0.02555802881745517,
          0.10866971542300267,
          0.006942867394675022,
          0.0350371171095323,
          0.9314156896913317,
          0.015805225821651336,
          0.01523726585777048,
          0.006590686340666416,
          0.0325804949787038,
          0.053312337690244675,
          0.1539586529970273,
          0.05083084967472571
         ],
         "yaxis": "y39"
        },
        {
         "colorbar": {
          "title": {
           "text": "Objective Value"
          }
         },
         "colorscale": [
          [
           0,
           "rgb(247,251,255)"
          ],
          [
           0.125,
           "rgb(222,235,247)"
          ],
          [
           0.25,
           "rgb(198,219,239)"
          ],
          [
           0.375,
           "rgb(158,202,225)"
          ],
          [
           0.5,
           "rgb(107,174,214)"
          ],
          [
           0.625,
           "rgb(66,146,198)"
          ],
          [
           0.75,
           "rgb(33,113,181)"
          ],
          [
           0.875,
           "rgb(8,81,156)"
          ],
          [
           1,
           "rgb(8,48,107)"
          ]
         ],
         "connectgaps": true,
         "contours": {
          "coloring": "heatmap"
         },
         "hoverinfo": "none",
         "line": {
          "smoothing": 1.3
         },
         "reversescale": false,
         "showscale": false,
         "type": "contour",
         "x": [
          38.9,
          51,
          53,
          54,
          65,
          70,
          74,
          78,
          88,
          90,
          95,
          97,
          98,
          113,
          122,
          124,
          136,
          154,
          156,
          173,
          203,
          219,
          246,
          293,
          305.1
         ],
         "xaxis": "x47",
         "y": [
          2.65,
          3,
          4,
          5,
          6,
          7,
          8,
          9,
          10,
          10.35
         ],
         "yaxis": "y47",
         "z": {
          "bdata": "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",
          "dtype": "f8",
          "shape": "10, 25"
         }
        },
        {
         "marker": {
          "color": "black",
          "line": {
           "color": "Gray",
           "width": 2
          }
         },
         "mode": "markers",
         "name": "Feasible Trial",
         "showlegend": false,
         "type": "scatter",
         "x": [
          219,
          88,
          154,
          70,
          246,
          293,
          54,
          65,
          113,
          122,
          90,
          173,
          124,
          53,
          98,
          156,
          95,
          78,
          136,
          97,
          203,
          74,
          51
         ],
         "xaxis": "x47",
         "y": [
          10,
          5,
          3,
          3,
          4,
          9,
          6,
          5,
          6,
          5,
          8,
          5,
          7,
          5,
          7,
          4,
          6,
          6,
          4,
          5,
          5,
          4,
          5
         ],
         "yaxis": "y47"
        },
        {
         "type": "scatter",
         "xaxis": "x55",
         "yaxis": "y55"
        },
        {
         "colorbar": {
          "title": {
           "text": "Objective Value"
          }
         },
         "colorscale": [
          [
           0,
           "rgb(247,251,255)"
          ],
          [
           0.125,
           "rgb(222,235,247)"
          ],
          [
           0.25,
           "rgb(198,219,239)"
          ],
          [
           0.375,
           "rgb(158,202,225)"
          ],
          [
           0.5,
           "rgb(107,174,214)"
          ],
          [
           0.625,
           "rgb(66,146,198)"
          ],
          [
           0.75,
           "rgb(33,113,181)"
          ],
          [
           0.875,
           "rgb(8,81,156)"
          ],
          [
           1,
           "rgb(8,48,107)"
          ]
         ],
         "connectgaps": true,
         "contours": {
          "coloring": "heatmap"
         },
         "hoverinfo": "none",
         "line": {
          "smoothing": 1.3
         },
         "reversescale": false,
         "showscale": false,
         "type": "contour",
         "x": [
          38.9,
          51,
          53,
          54,
          65,
          70,
          74,
          78,
          88,
          90,
          95,
          97,
          98,
          113,
          122,
          124,
          136,
          154,
          156,
          173,
          203,
          219,
          246,
          293,
          305.1
         ],
         "xaxis": "x63",
         "y": [
          0.4790564566948657,
          0.5013376559149066,
          0.5019157718237172,
          0.506893732740327,
          0.5148561210748295,
          0.5196456375790698,
          0.5364557505771801,
          0.5477180931232148,
          0.5518337582712914,
          0.5520085915891915,
          0.5697243845191879,
          0.5773152900277164,
          0.5850442265235768,
          0.6000081511037098,
          0.6273687866949943,
          0.6351831960485799,
          0.6463531566704311,
          0.6731547733406926,
          0.7033651687634224,
          0.7138294384601688,
          0.7990862014597997,
          0.8359157084918203,
          0.8537643940687959,
          0.9469616403157262,
          0.9692428395357672
         ],
         "yaxis": "y63",
         "z": {
          "bdata": "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",
          "dtype": "f8",
          "shape": "25, 25"
         }
        },
        {
         "marker": {
          "color": "black",
          "line": {
           "color": "Gray",
           "width": 2
          }
         },
         "mode": "markers",
         "name": "Feasible Trial",
         "showlegend": false,
         "type": "scatter",
         "x": [
          219,
          88,
          154,
          70,
          246,
          293,
          54,
          65,
          113,
          122,
          90,
          173,
          124,
          53,
          98,
          156,
          95,
          78,
          136,
          97,
          203,
          74,
          51
         ],
         "xaxis": "x63",
         "y": [
          0.5850442265235768,
          0.5520085915891915,
          0.7033651687634224,
          0.6273687866949943,
          0.8537643940687959,
          0.9469616403157262,
          0.5697243845191879,
          0.5196456375790698,
          0.5013376559149066,
          0.506893732740327,
          0.7138294384601688,
          0.6351831960485799,
          0.8359157084918203,
          0.5518337582712914,
          0.6463531566704311,
          0.7990862014597997,
          0.5148561210748295,
          0.5019157718237172,
          0.5773152900277164,
          0.5364557505771801,
          0.6731547733406926,
          0.6000081511037098,
          0.5477180931232148
         ],
         "yaxis": "y63"
        },
        {
         "colorbar": {
          "title": {
           "text": "Objective Value"
          }
         },
         "colorscale": [
          [
           0,
           "rgb(247,251,255)"
          ],
          [
           0.125,
           "rgb(222,235,247)"
          ],
          [
           0.25,
           "rgb(198,219,239)"
          ],
          [
           0.375,
           "rgb(158,202,225)"
          ],
          [
           0.5,
           "rgb(107,174,214)"
          ],
          [
           0.625,
           "rgb(66,146,198)"
          ],
          [
           0.75,
           "rgb(33,113,181)"
          ],
          [
           0.875,
           "rgb(8,81,156)"
          ],
          [
           1,
           "rgb(8,48,107)"
          ]
         ],
         "connectgaps": true,
         "contours": {
          "coloring": "heatmap"
         },
         "hoverinfo": "none",
         "line": {
          "smoothing": 1.3
         },
         "reversescale": false,
         "showscale": false,
         "type": "contour",
         "x": [
          0.4790564566948657,
          0.5013376559149066,
          0.5019157718237172,
          0.506893732740327,
          0.5148561210748295,
          0.5196456375790698,
          0.5364557505771801,
          0.5477180931232148,
          0.5518337582712914,
          0.5520085915891915,
          0.5697243845191879,
          0.5773152900277164,
          0.5850442265235768,
          0.6000081511037098,
          0.6273687866949943,
          0.6351831960485799,
          0.6463531566704311,
          0.6731547733406926,
          0.7033651687634224,
          0.7138294384601688,
          0.7990862014597997,
          0.8359157084918203,
          0.8537643940687959,
          0.9469616403157262,
          0.9692428395357672
         ],
         "xaxis": "x8",
         "y": [
          "svm",
          "xgb"
         ],
         "yaxis": "y8",
         "z": {
          "bdata": "AAAAAAAA+H8AAAAAAAD4fwAAAAAAAPh/AAAAAAAA+H8AAAAAAAD4fwAAAAAAAPh/AAAAAAAA+H8AAAAAAAD4fwAAAAAAAPh/AAAAAAAA+H8AAAAAAAD4fwAAAAAAAPh/AAAAAAAA+H8AAAAAAAD4fwAAAAAAAPh/AAAAAAAA+H8AAAAAAAD4fwAAAAAAAPh/AAAAAAAA+H8AAAAAAAD4fwAAAAAAAPh/AAAAAAAA+H8AAAAAAAD4fwAAAAAAAPh/AAAAAAAA+H8AAAAAAAD4f8qKaZvQgOg/EJchJ/SV6D8rM1LOvoDoP67uOPQFlug/+H7g+H7g6D/yBxOt8LXoP/btzlJioOg/mXtROweA5T8znf3shaDoP8mRjz1j1eQ/zMXPQJcV6D/W/JcEt4DnP0YkLXXeFeg/UCwMZ4mA6D/OYwMUe2DoP6pqSXuwYOg/RiQtdd4V6D/9hmNDnsDnP8mRjz1j1eQ/FucsRKEV5z9jszvv4fXnP3ktSUpzYOc/QqA9/Ijg5z8AAAAAAAD4fw==",
          "dtype": "f8",
          "shape": "2, 25"
         }
        },
        {
         "marker": {
          "color": "black",
          "line": {
           "color": "Gray",
           "width": 2
          }
         },
         "mode": "markers",
         "name": "Feasible Trial",
         "showlegend": false,
         "type": "scatter",
         "x": [
          0.5850442265235768,
          0.5520085915891915,
          0.7033651687634224,
          0.6273687866949943,
          0.8537643940687959,
          0.9469616403157262,
          0.5697243845191879,
          0.5196456375790698,
          0.5013376559149066,
          0.506893732740327,
          0.7138294384601688,
          0.6351831960485799,
          0.8359157084918203,
          0.5518337582712914,
          0.6463531566704311,
          0.7990862014597997,
          0.5148561210748295,
          0.5019157718237172,
          0.5773152900277164,
          0.5364557505771801,
          0.6731547733406926,
          0.6000081511037098,
          0.5477180931232148
         ],
         "xaxis": "x8",
         "y": [
          "xgb",
          "xgb",
          "xgb",
          "xgb",
          "xgb",
          "xgb",
          "xgb",
          "xgb",
          "xgb",
          "xgb",
          "xgb",
          "xgb",
          "xgb",
          "xgb",
          "xgb",
          "xgb",
          "xgb",
          "xgb",
          "xgb",
          "xgb",
          "xgb",
          "xgb",
          "xgb"
         ],
         "yaxis": "y8"
        },
        {
         "showscale": false,
         "type": "contour",
         "xaxis": "x16",
         "yaxis": "y16"
        },
        {
         "type": "scatter",
         "xaxis": "x16",
         "yaxis": "y16"
        },
        {
         "showscale": false,
         "type": "contour",
         "xaxis": "x24",
         "yaxis": "y24"
        },
        {
         "type": "scatter",
         "xaxis": "x24",
         "yaxis": "y24"
        },
        {
         "showscale": false,
         "type": "contour",
         "xaxis": "x32",
         "yaxis": "y32"
        },
        {
         "type": "scatter",
         "xaxis": "x32",
         "yaxis": "y32"
        },
        {
         "colorbar": {
          "title": {
           "text": "Objective Value"
          }
         },
         "colorscale": [
          [
           0,
           "rgb(247,251,255)"
          ],
          [
           0.125,
           "rgb(222,235,247)"
          ],
          [
           0.25,
           "rgb(198,219,239)"
          ],
          [
           0.375,
           "rgb(158,202,225)"
          ],
          [
           0.5,
           "rgb(107,174,214)"
          ],
          [
           0.625,
           "rgb(66,146,198)"
          ],
          [
           0.75,
           "rgb(33,113,181)"
          ],
          [
           0.875,
           "rgb(8,81,156)"
          ],
          [
           1,
           "rgb(8,48,107)"
          ]
         ],
         "connectgaps": true,
         "contours": {
          "coloring": "heatmap"
         },
         "hoverinfo": "none",
         "line": {
          "smoothing": 1.3
         },
         "reversescale": false,
         "showscale": false,
         "type": "contour",
         "x": [
          0.4790564566948657,
          0.5013376559149066,
          0.5019157718237172,
          0.506893732740327,
          0.5148561210748295,
          0.5196456375790698,
          0.5364557505771801,
          0.5477180931232148,
          0.5518337582712914,
          0.5520085915891915,
          0.5697243845191879,
          0.5773152900277164,
          0.5850442265235768,
          0.6000081511037098,
          0.6273687866949943,
          0.6351831960485799,
          0.6463531566704311,
          0.6731547733406926,
          0.7033651687634224,
          0.7138294384601688,
          0.7990862014597997,
          0.8359157084918203,
          0.8537643940687959,
          0.9469616403157262,
          0.9692428395357672
         ],
         "xaxis": "x40",
         "y": [
          0.0007372379007701723,
          0.0010358570813601882,
          0.0027997267788694865,
          0.004758493140454059,
          0.006590686340666416,
          0.006942867394675022,
          0.013090229268781284,
          0.014113631159275915,
          0.01523726585777048,
          0.015805225821651336,
          0.01666733352833639,
          0.024750461502307614,
          0.02555802881745517,
          0.0325804949787038,
          0.0350371171095323,
          0.05083084967472571,
          0.053312337690244675,
          0.05631769831682847,
          0.09769751132120906,
          0.10866971542300267,
          0.1539586529970273,
          0.3232067515642129,
          0.39761576121400816,
          0.9314156896913317,
          1.3086868388736335
         ],
         "yaxis": "y40",
         "z": {
          "bdata": "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",
          "dtype": "f8",
          "shape": "25, 25"
         }
        },
        {
         "marker": {
          "color": "black",
          "line": {
           "color": "Gray",
           "width": 2
          }
         },
         "mode": "markers",
         "name": "Feasible Trial",
         "showlegend": false,
         "type": "scatter",
         "x": [
          0.5850442265235768,
          0.5520085915891915,
          0.7033651687634224,
          0.6273687866949943,
          0.8537643940687959,
          0.9469616403157262,
          0.5697243845191879,
          0.5196456375790698,
          0.5013376559149066,
          0.506893732740327,
          0.7138294384601688,
          0.6351831960485799,
          0.8359157084918203,
          0.5518337582712914,
          0.6463531566704311,
          0.7990862014597997,
          0.5148561210748295,
          0.5019157718237172,
          0.5773152900277164,
          0.5364557505771801,
          0.6731547733406926,
          0.6000081511037098,
          0.5477180931232148
         ],
         "xaxis": "x40",
         "y": [
          0.39761576121400816,
          0.01666733352833639,
          0.09769751132120906,
          0.05631769831682847,
          0.3232067515642129,
          0.0027997267788694865,
          0.004758493140454059,
          0.024750461502307614,
          0.014113631159275915,
          0.013090229268781284,
          0.0010358570813601882,
          0.02555802881745517,
          0.10866971542300267,
          0.006942867394675022,
          0.0350371171095323,
          0.9314156896913317,
          0.015805225821651336,
          0.01523726585777048,
          0.006590686340666416,
          0.0325804949787038,
          0.053312337690244675,
          0.1539586529970273,
          0.05083084967472571
         ],
         "yaxis": "y40"
        },
        {
         "colorbar": {
          "title": {
           "text": "Objective Value"
          }
         },
         "colorscale": [
          [
           0,
           "rgb(247,251,255)"
          ],
          [
           0.125,
           "rgb(222,235,247)"
          ],
          [
           0.25,
           "rgb(198,219,239)"
          ],
          [
           0.375,
           "rgb(158,202,225)"
          ],
          [
           0.5,
           "rgb(107,174,214)"
          ],
          [
           0.625,
           "rgb(66,146,198)"
          ],
          [
           0.75,
           "rgb(33,113,181)"
          ],
          [
           0.875,
           "rgb(8,81,156)"
          ],
          [
           1,
           "rgb(8,48,107)"
          ]
         ],
         "connectgaps": true,
         "contours": {
          "coloring": "heatmap"
         },
         "hoverinfo": "none",
         "line": {
          "smoothing": 1.3
         },
         "reversescale": false,
         "showscale": false,
         "type": "contour",
         "x": [
          0.4790564566948657,
          0.5013376559149066,
          0.5019157718237172,
          0.506893732740327,
          0.5148561210748295,
          0.5196456375790698,
          0.5364557505771801,
          0.5477180931232148,
          0.5518337582712914,
          0.5520085915891915,
          0.5697243845191879,
          0.5773152900277164,
          0.5850442265235768,
          0.6000081511037098,
          0.6273687866949943,
          0.6351831960485799,
          0.6463531566704311,
          0.6731547733406926,
          0.7033651687634224,
          0.7138294384601688,
          0.7990862014597997,
          0.8359157084918203,
          0.8537643940687959,
          0.9469616403157262,
          0.9692428395357672
         ],
         "xaxis": "x48",
         "y": [
          2.65,
          3,
          4,
          5,
          6,
          7,
          8,
          9,
          10,
          10.35
         ],
         "yaxis": "y48",
         "z": {
          "bdata": "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",
          "dtype": "f8",
          "shape": "10, 25"
         }
        },
        {
         "marker": {
          "color": "black",
          "line": {
           "color": "Gray",
           "width": 2
          }
         },
         "mode": "markers",
         "name": "Feasible Trial",
         "showlegend": false,
         "type": "scatter",
         "x": [
          0.5850442265235768,
          0.5520085915891915,
          0.7033651687634224,
          0.6273687866949943,
          0.8537643940687959,
          0.9469616403157262,
          0.5697243845191879,
          0.5196456375790698,
          0.5013376559149066,
          0.506893732740327,
          0.7138294384601688,
          0.6351831960485799,
          0.8359157084918203,
          0.5518337582712914,
          0.6463531566704311,
          0.7990862014597997,
          0.5148561210748295,
          0.5019157718237172,
          0.5773152900277164,
          0.5364557505771801,
          0.6731547733406926,
          0.6000081511037098,
          0.5477180931232148
         ],
         "xaxis": "x48",
         "y": [
          10,
          5,
          3,
          3,
          4,
          9,
          6,
          5,
          6,
          5,
          8,
          5,
          7,
          5,
          7,
          4,
          6,
          6,
          4,
          5,
          5,
          4,
          5
         ],
         "yaxis": "y48"
        },
        {
         "colorbar": {
          "title": {
           "text": "Objective Value"
          }
         },
         "colorscale": [
          [
           0,
           "rgb(247,251,255)"
          ],
          [
           0.125,
           "rgb(222,235,247)"
          ],
          [
           0.25,
           "rgb(198,219,239)"
          ],
          [
           0.375,
           "rgb(158,202,225)"
          ],
          [
           0.5,
           "rgb(107,174,214)"
          ],
          [
           0.625,
           "rgb(66,146,198)"
          ],
          [
           0.75,
           "rgb(33,113,181)"
          ],
          [
           0.875,
           "rgb(8,81,156)"
          ],
          [
           1,
           "rgb(8,48,107)"
          ]
         ],
         "connectgaps": true,
         "contours": {
          "coloring": "heatmap"
         },
         "hoverinfo": "none",
         "line": {
          "smoothing": 1.3
         },
         "reversescale": false,
         "showscale": false,
         "type": "contour",
         "x": [
          0.4790564566948657,
          0.5013376559149066,
          0.5019157718237172,
          0.506893732740327,
          0.5148561210748295,
          0.5196456375790698,
          0.5364557505771801,
          0.5477180931232148,
          0.5518337582712914,
          0.5520085915891915,
          0.5697243845191879,
          0.5773152900277164,
          0.5850442265235768,
          0.6000081511037098,
          0.6273687866949943,
          0.6351831960485799,
          0.6463531566704311,
          0.6731547733406926,
          0.7033651687634224,
          0.7138294384601688,
          0.7990862014597997,
          0.8359157084918203,
          0.8537643940687959,
          0.9469616403157262,
          0.9692428395357672
         ],
         "xaxis": "x56",
         "y": [
          38.9,
          51,
          53,
          54,
          65,
          70,
          74,
          78,
          88,
          90,
          95,
          97,
          98,
          113,
          122,
          124,
          136,
          154,
          156,
          173,
          203,
          219,
          246,
          293,
          305.1
         ],
         "yaxis": "y56",
         "z": {
          "bdata": "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",
          "dtype": "f8",
          "shape": "25, 25"
         }
        },
        {
         "marker": {
          "color": "black",
          "line": {
           "color": "Gray",
           "width": 2
          }
         },
         "mode": "markers",
         "name": "Feasible Trial",
         "showlegend": false,
         "type": "scatter",
         "x": [
          0.5850442265235768,
          0.5520085915891915,
          0.7033651687634224,
          0.6273687866949943,
          0.8537643940687959,
          0.9469616403157262,
          0.5697243845191879,
          0.5196456375790698,
          0.5013376559149066,
          0.506893732740327,
          0.7138294384601688,
          0.6351831960485799,
          0.8359157084918203,
          0.5518337582712914,
          0.6463531566704311,
          0.7990862014597997,
          0.5148561210748295,
          0.5019157718237172,
          0.5773152900277164,
          0.5364557505771801,
          0.6731547733406926,
          0.6000081511037098,
          0.5477180931232148
         ],
         "xaxis": "x56",
         "y": [
          219,
          88,
          154,
          70,
          246,
          293,
          54,
          65,
          113,
          122,
          90,
          173,
          124,
          53,
          98,
          156,
          95,
          78,
          136,
          97,
          203,
          74,
          51
         ],
         "yaxis": "y56"
        },
        {
         "type": "scatter",
         "xaxis": "x64",
         "yaxis": "y64"
        }
       ],
       "layout": {
        "template": {
         "data": {
          "bar": [
           {
            "error_x": {
             "color": "#2a3f5f"
            },
            "error_y": {
             "color": "#2a3f5f"
            },
            "marker": {
             "line": {
              "color": "#E5ECF6",
              "width": 0.5
             },
             "pattern": {
              "fillmode": "overlay",
              "size": 10,
              "solidity": 0.2
             }
            },
            "type": "bar"
           }
          ],
          "barpolar": [
           {
            "marker": {
             "line": {
              "color": "#E5ECF6",
              "width": 0.5
             },
             "pattern": {
              "fillmode": "overlay",
              "size": 10,
              "solidity": 0.2
             }
            },
            "type": "barpolar"
           }
          ],
          "carpet": [
           {
            "aaxis": {
             "endlinecolor": "#2a3f5f",
             "gridcolor": "white",
             "linecolor": "white",
             "minorgridcolor": "white",
             "startlinecolor": "#2a3f5f"
            },
            "baxis": {
             "endlinecolor": "#2a3f5f",
             "gridcolor": "white",
             "linecolor": "white",
             "minorgridcolor": "white",
             "startlinecolor": "#2a3f5f"
            },
            "type": "carpet"
           }
          ],
          "choropleth": [
           {
            "colorbar": {
             "outlinewidth": 0,
             "ticks": ""
            },
            "type": "choropleth"
           }
          ],
          "contour": [
           {
            "colorbar": {
             "outlinewidth": 0,
             "ticks": ""
            },
            "colorscale": [
             [
              0,
              "#0d0887"
             ],
             [
              0.1111111111111111,
              "#46039f"
             ],
             [
              0.2222222222222222,
              "#7201a8"
             ],
             [
              0.3333333333333333,
              "#9c179e"
             ],
             [
              0.4444444444444444,
              "#bd3786"
             ],
             [
              0.5555555555555556,
              "#d8576b"
             ],
             [
              0.6666666666666666,
              "#ed7953"
             ],
             [
              0.7777777777777778,
              "#fb9f3a"
             ],
             [
              0.8888888888888888,
              "#fdca26"
             ],
             [
              1,
              "#f0f921"
             ]
            ],
            "type": "contour"
           }
          ],
          "contourcarpet": [
           {
            "colorbar": {
             "outlinewidth": 0,
             "ticks": ""
            },
            "type": "contourcarpet"
           }
          ],
          "heatmap": [
           {
            "colorbar": {
             "outlinewidth": 0,
             "ticks": ""
            },
            "colorscale": [
             [
              0,
              "#0d0887"
             ],
             [
              0.1111111111111111,
              "#46039f"
             ],
             [
              0.2222222222222222,
              "#7201a8"
             ],
             [
              0.3333333333333333,
              "#9c179e"
             ],
             [
              0.4444444444444444,
              "#bd3786"
             ],
             [
              0.5555555555555556,
              "#d8576b"
             ],
             [
              0.6666666666666666,
              "#ed7953"
             ],
             [
              0.7777777777777778,
              "#fb9f3a"
             ],
             [
              0.8888888888888888,
              "#fdca26"
             ],
             [
              1,
              "#f0f921"
             ]
            ],
            "type": "heatmap"
           }
          ],
          "histogram": [
           {
            "marker": {
             "pattern": {
              "fillmode": "overlay",
              "size": 10,
              "solidity": 0.2
             }
            },
            "type": "histogram"
           }
          ],
          "histogram2d": [
           {
            "colorbar": {
             "outlinewidth": 0,
             "ticks": ""
            },
            "colorscale": [
             [
              0,
              "#0d0887"
             ],
             [
              0.1111111111111111,
              "#46039f"
             ],
             [
              0.2222222222222222,
              "#7201a8"
             ],
             [
              0.3333333333333333,
              "#9c179e"
             ],
             [
              0.4444444444444444,
              "#bd3786"
             ],
             [
              0.5555555555555556,
              "#d8576b"
             ],
             [
              0.6666666666666666,
              "#ed7953"
             ],
             [
              0.7777777777777778,
              "#fb9f3a"
             ],
             [
              0.8888888888888888,
              "#fdca26"
             ],
             [
              1,
              "#f0f921"
             ]
            ],
            "type": "histogram2d"
           }
          ],
          "histogram2dcontour": [
           {
            "colorbar": {
             "outlinewidth": 0,
             "ticks": ""
            },
            "colorscale": [
             [
              0,
              "#0d0887"
             ],
             [
              0.1111111111111111,
              "#46039f"
             ],
             [
              0.2222222222222222,
              "#7201a8"
             ],
             [
              0.3333333333333333,
              "#9c179e"
             ],
             [
              0.4444444444444444,
              "#bd3786"
             ],
             [
              0.5555555555555556,
              "#d8576b"
             ],
             [
              0.6666666666666666,
              "#ed7953"
             ],
             [
              0.7777777777777778,
              "#fb9f3a"
             ],
             [
              0.8888888888888888,
              "#fdca26"
             ],
             [
              1,
              "#f0f921"
             ]
            ],
            "type": "histogram2dcontour"
           }
          ],
          "mesh3d": [
           {
            "colorbar": {
             "outlinewidth": 0,
             "ticks": ""
            },
            "type": "mesh3d"
           }
          ],
          "parcoords": [
           {
            "line": {
             "colorbar": {
              "outlinewidth": 0,
              "ticks": ""
             }
            },
            "type": "parcoords"
           }
          ],
          "pie": [
           {
            "automargin": true,
            "type": "pie"
           }
          ],
          "scatter": [
           {
            "fillpattern": {
             "fillmode": "overlay",
             "size": 10,
             "solidity": 0.2
            },
            "type": "scatter"
           }
          ],
          "scatter3d": [
           {
            "line": {
             "colorbar": {
              "outlinewidth": 0,
              "ticks": ""
             }
            },
            "marker": {
             "colorbar": {
              "outlinewidth": 0,
              "ticks": ""
             }
            },
            "type": "scatter3d"
           }
          ],
          "scattercarpet": [
           {
            "marker": {
             "colorbar": {
              "outlinewidth": 0,
              "ticks": ""
             }
            },
            "type": "scattercarpet"
           }
          ],
          "scattergeo": [
           {
            "marker": {
             "colorbar": {
              "outlinewidth": 0,
              "ticks": ""
             }
            },
            "type": "scattergeo"
           }
          ],
          "scattergl": [
           {
            "marker": {
             "colorbar": {
              "outlinewidth": 0,
              "ticks": ""
             }
            },
            "type": "scattergl"
           }
          ],
          "scattermap": [
           {
            "marker": {
             "colorbar": {
              "outlinewidth": 0,
              "ticks": ""
             }
            },
            "type": "scattermap"
           }
          ],
          "scattermapbox": [
           {
            "marker": {
             "colorbar": {
              "outlinewidth": 0,
              "ticks": ""
             }
            },
            "type": "scattermapbox"
           }
          ],
          "scatterpolar": [
           {
            "marker": {
             "colorbar": {
              "outlinewidth": 0,
              "ticks": ""
             }
            },
            "type": "scatterpolar"
           }
          ],
          "scatterpolargl": [
           {
            "marker": {
             "colorbar": {
              "outlinewidth": 0,
              "ticks": ""
             }
            },
            "type": "scatterpolargl"
           }
          ],
          "scatterternary": [
           {
            "marker": {
             "colorbar": {
              "outlinewidth": 0,
              "ticks": ""
             }
            },
            "type": "scatterternary"
           }
          ],
          "surface": [
           {
            "colorbar": {
             "outlinewidth": 0,
             "ticks": ""
            },
            "colorscale": [
             [
              0,
              "#0d0887"
             ],
             [
              0.1111111111111111,
              "#46039f"
             ],
             [
              0.2222222222222222,
              "#7201a8"
             ],
             [
              0.3333333333333333,
              "#9c179e"
             ],
             [
              0.4444444444444444,
              "#bd3786"
             ],
             [
              0.5555555555555556,
              "#d8576b"
             ],
             [
              0.6666666666666666,
              "#ed7953"
             ],
             [
              0.7777777777777778,
              "#fb9f3a"
             ],
             [
              0.8888888888888888,
              "#fdca26"
             ],
             [
              1,
              "#f0f921"
             ]
            ],
            "type": "surface"
           }
          ],
          "table": [
           {
            "cells": {
             "fill": {
              "color": "#EBF0F8"
             },
             "line": {
              "color": "white"
             }
            },
            "header": {
             "fill": {
              "color": "#C8D4E3"
             },
             "line": {
              "color": "white"
             }
            },
            "type": "table"
           }
          ]
         },
         "layout": {
          "annotationdefaults": {
           "arrowcolor": "#2a3f5f",
           "arrowhead": 0,
           "arrowwidth": 1
          },
          "autotypenumbers": "strict",
          "coloraxis": {
           "colorbar": {
            "outlinewidth": 0,
            "ticks": ""
           }
          },
          "colorscale": {
           "diverging": [
            [
             0,
             "#8e0152"
            ],
            [
             0.1,
             "#c51b7d"
            ],
            [
             0.2,
             "#de77ae"
            ],
            [
             0.3,
             "#f1b6da"
            ],
            [
             0.4,
             "#fde0ef"
            ],
            [
             0.5,
             "#f7f7f7"
            ],
            [
             0.6,
             "#e6f5d0"
            ],
            [
             0.7,
             "#b8e186"
            ],
            [
             0.8,
             "#7fbc41"
            ],
            [
             0.9,
             "#4d9221"
            ],
            [
             1,
             "#276419"
            ]
           ],
           "sequential": [
            [
             0,
             "#0d0887"
            ],
            [
             0.1111111111111111,
             "#46039f"
            ],
            [
             0.2222222222222222,
             "#7201a8"
            ],
            [
             0.3333333333333333,
             "#9c179e"
            ],
            [
             0.4444444444444444,
             "#bd3786"
            ],
            [
             0.5555555555555556,
             "#d8576b"
            ],
            [
             0.6666666666666666,
             "#ed7953"
            ],
            [
             0.7777777777777778,
             "#fb9f3a"
            ],
            [
             0.8888888888888888,
             "#fdca26"
            ],
            [
             1,
             "#f0f921"
            ]
           ],
           "sequentialminus": [
            [
             0,
             "#0d0887"
            ],
            [
             0.1111111111111111,
             "#46039f"
            ],
            [
             0.2222222222222222,
             "#7201a8"
            ],
            [
             0.3333333333333333,
             "#9c179e"
            ],
            [
             0.4444444444444444,
             "#bd3786"
            ],
            [
             0.5555555555555556,
             "#d8576b"
            ],
            [
             0.6666666666666666,
             "#ed7953"
            ],
            [
             0.7777777777777778,
             "#fb9f3a"
            ],
            [
             0.8888888888888888,
             "#fdca26"
            ],
            [
             1,
             "#f0f921"
            ]
           ]
          },
          "colorway": [
           "#636efa",
           "#EF553B",
           "#00cc96",
           "#ab63fa",
           "#FFA15A",
           "#19d3f3",
           "#FF6692",
           "#B6E880",
           "#FF97FF",
           "#FECB52"
          ],
          "font": {
           "color": "#2a3f5f"
          },
          "geo": {
           "bgcolor": "white",
           "lakecolor": "white",
           "landcolor": "#E5ECF6",
           "showlakes": true,
           "showland": true,
           "subunitcolor": "white"
          },
          "hoverlabel": {
           "align": "left"
          },
          "hovermode": "closest",
          "mapbox": {
           "style": "light"
          },
          "paper_bgcolor": "white",
          "plot_bgcolor": "#E5ECF6",
          "polar": {
           "angularaxis": {
            "gridcolor": "white",
            "linecolor": "white",
            "ticks": ""
           },
           "bgcolor": "#E5ECF6",
           "radialaxis": {
            "gridcolor": "white",
            "linecolor": "white",
            "ticks": ""
           }
          },
          "scene": {
           "xaxis": {
            "backgroundcolor": "#E5ECF6",
            "gridcolor": "white",
            "gridwidth": 2,
            "linecolor": "white",
            "showbackground": true,
            "ticks": "",
            "zerolinecolor": "white"
           },
           "yaxis": {
            "backgroundcolor": "#E5ECF6",
            "gridcolor": "white",
            "gridwidth": 2,
            "linecolor": "white",
            "showbackground": true,
            "ticks": "",
            "zerolinecolor": "white"
           },
           "zaxis": {
            "backgroundcolor": "#E5ECF6",
            "gridcolor": "white",
            "gridwidth": 2,
            "linecolor": "white",
            "showbackground": true,
            "ticks": "",
            "zerolinecolor": "white"
           }
          },
          "shapedefaults": {
           "line": {
            "color": "#2a3f5f"
           }
          },
          "ternary": {
           "aaxis": {
            "gridcolor": "white",
            "linecolor": "white",
            "ticks": ""
           },
           "baxis": {
            "gridcolor": "white",
            "linecolor": "white",
            "ticks": ""
           },
           "bgcolor": "#E5ECF6",
           "caxis": {
            "gridcolor": "white",
            "linecolor": "white",
            "ticks": ""
           }
          },
          "title": {
           "x": 0.05
          },
          "xaxis": {
           "automargin": true,
           "gridcolor": "white",
           "linecolor": "white",
           "ticks": "",
           "title": {
            "standoff": 15
           },
           "zerolinecolor": "white",
           "zerolinewidth": 2
          },
          "yaxis": {
           "automargin": true,
           "gridcolor": "white",
           "linecolor": "white",
           "ticks": "",
           "title": {
            "standoff": 15
           },
           "zerolinecolor": "white",
           "zerolinewidth": 2
          }
         }
        },
        "title": {
         "text": "Contour Plot"
        },
        "xaxis": {
         "anchor": "y",
         "domain": [
          0,
          0.103125
         ],
         "matches": "x57",
         "range": [
          -0.05,
          1.05
         ],
         "showticklabels": false,
         "type": "category"
        },
        "xaxis10": {
         "anchor": "y10",
         "domain": [
          0.128125,
          0.23124999999999998
         ],
         "matches": "x58",
         "range": [
          -3.2242996591178548,
          2.9225722028124776
         ],
         "showticklabels": false,
         "type": "log"
        },
        "xaxis11": {
         "anchor": "y11",
         "domain": [
          0.25625,
          0.359375
         ],
         "matches": "x59",
         "range": [
          -4.061168655775378,
          -0.896202215314049
         ],
         "showticklabels": false,
         "type": "log"
        },
        "xaxis12": {
         "anchor": "y12",
         "domain": [
          0.38437499999999997,
          0.48749999999999993
         ],
         "matches": "x60",
         "range": [
          0,
          0
         ],
         "showticklabels": false,
         "type": "category"
        },
        "xaxis13": {
         "anchor": "y13",
         "domain": [
          0.5125,
          0.615625
         ],
         "matches": "x61",
         "range": [
          -3.132392346171034,
          0.11683573484691352
         ],
         "showticklabels": false,
         "type": "log"
        },
        "xaxis14": {
         "anchor": "y14",
         "domain": [
          0.640625,
          0.74375
         ],
         "matches": "x62",
         "range": [
          2.65,
          10.35
         ],
         "showticklabels": false
        },
        "xaxis15": {
         "anchor": "y15",
         "domain": [
          0.76875,
          0.8718750000000001
         ],
         "matches": "x63",
         "range": [
          38.9,
          305.1
         ],
         "showticklabels": false
        },
        "xaxis16": {
         "anchor": "y16",
         "domain": [
          0.8968750000000001,
          1
         ],
         "matches": "x64",
         "range": [
          0.4790564566948657,
          0.9692428395357672
         ],
         "showticklabels": false
        },
        "xaxis17": {
         "anchor": "y17",
         "domain": [
          0,
          0.103125
         ],
         "matches": "x57",
         "range": [
          -0.05,
          1.05
         ],
         "showticklabels": false,
         "type": "category"
        },
        "xaxis18": {
         "anchor": "y18",
         "domain": [
          0.128125,
          0.23124999999999998
         ],
         "matches": "x58",
         "range": [
          -3.2242996591178548,
          2.9225722028124776
         ],
         "showticklabels": false,
         "type": "log"
        },
        "xaxis19": {
         "anchor": "y19",
         "domain": [
          0.25625,
          0.359375
         ],
         "matches": "x59",
         "range": [
          -4.061168655775378,
          -0.896202215314049
         ],
         "showticklabels": false,
         "type": "log"
        },
        "xaxis2": {
         "anchor": "y2",
         "domain": [
          0.128125,
          0.23124999999999998
         ],
         "matches": "x58",
         "range": [
          -3.2242996591178548,
          2.9225722028124776
         ],
         "showticklabels": false,
         "type": "log"
        },
        "xaxis20": {
         "anchor": "y20",
         "domain": [
          0.38437499999999997,
          0.48749999999999993
         ],
         "matches": "x60",
         "range": [
          0,
          0
         ],
         "showticklabels": false,
         "type": "category"
        },
        "xaxis21": {
         "anchor": "y21",
         "domain": [
          0.5125,
          0.615625
         ],
         "matches": "x61",
         "range": [
          -3.132392346171034,
          0.11683573484691352
         ],
         "showticklabels": false,
         "type": "log"
        },
        "xaxis22": {
         "anchor": "y22",
         "domain": [
          0.640625,
          0.74375
         ],
         "matches": "x62",
         "range": [
          2.65,
          10.35
         ],
         "showticklabels": false
        },
        "xaxis23": {
         "anchor": "y23",
         "domain": [
          0.76875,
          0.8718750000000001
         ],
         "matches": "x63",
         "range": [
          38.9,
          305.1
         ],
         "showticklabels": false
        },
        "xaxis24": {
         "anchor": "y24",
         "domain": [
          0.8968750000000001,
          1
         ],
         "matches": "x64",
         "range": [
          0.4790564566948657,
          0.9692428395357672
         ],
         "showticklabels": false
        },
        "xaxis25": {
         "anchor": "y25",
         "domain": [
          0,
          0.103125
         ],
         "matches": "x57",
         "range": [
          -0.05,
          1.05
         ],
         "showticklabels": false,
         "type": "category"
        },
        "xaxis26": {
         "anchor": "y26",
         "domain": [
          0.128125,
          0.23124999999999998
         ],
         "matches": "x58",
         "range": [
          -3.2242996591178548,
          2.9225722028124776
         ],
         "showticklabels": false,
         "type": "log"
        },
        "xaxis27": {
         "anchor": "y27",
         "domain": [
          0.25625,
          0.359375
         ],
         "matches": "x59",
         "range": [
          -4.061168655775378,
          -0.896202215314049
         ],
         "showticklabels": false,
         "type": "log"
        },
        "xaxis28": {
         "anchor": "y28",
         "domain": [
          0.38437499999999997,
          0.48749999999999993
         ],
         "matches": "x60",
         "range": [
          0,
          0
         ],
         "showticklabels": false,
         "type": "category"
        },
        "xaxis29": {
         "anchor": "y29",
         "domain": [
          0.5125,
          0.615625
         ],
         "matches": "x61",
         "range": [
          -3.132392346171034,
          0.11683573484691352
         ],
         "showticklabels": false,
         "type": "log"
        },
        "xaxis3": {
         "anchor": "y3",
         "domain": [
          0.25625,
          0.359375
         ],
         "matches": "x59",
         "range": [
          -4.061168655775378,
          -0.896202215314049
         ],
         "showticklabels": false,
         "type": "log"
        },
        "xaxis30": {
         "anchor": "y30",
         "domain": [
          0.640625,
          0.74375
         ],
         "matches": "x62",
         "range": [
          2.65,
          10.35
         ],
         "showticklabels": false
        },
        "xaxis31": {
         "anchor": "y31",
         "domain": [
          0.76875,
          0.8718750000000001
         ],
         "matches": "x63",
         "range": [
          38.9,
          305.1
         ],
         "showticklabels": false
        },
        "xaxis32": {
         "anchor": "y32",
         "domain": [
          0.8968750000000001,
          1
         ],
         "matches": "x64",
         "range": [
          0.4790564566948657,
          0.9692428395357672
         ],
         "showticklabels": false
        },
        "xaxis33": {
         "anchor": "y33",
         "domain": [
          0,
          0.103125
         ],
         "matches": "x57",
         "range": [
          -0.05,
          1.05
         ],
         "showticklabels": false,
         "type": "category"
        },
        "xaxis34": {
         "anchor": "y34",
         "domain": [
          0.128125,
          0.23124999999999998
         ],
         "matches": "x58",
         "range": [
          -3.2242996591178548,
          2.9225722028124776
         ],
         "showticklabels": false,
         "type": "log"
        },
        "xaxis35": {
         "anchor": "y35",
         "domain": [
          0.25625,
          0.359375
         ],
         "matches": "x59",
         "range": [
          -4.061168655775378,
          -0.896202215314049
         ],
         "showticklabels": false,
         "type": "log"
        },
        "xaxis36": {
         "anchor": "y36",
         "domain": [
          0.38437499999999997,
          0.48749999999999993
         ],
         "matches": "x60",
         "range": [
          0,
          0
         ],
         "showticklabels": false,
         "type": "category"
        },
        "xaxis37": {
         "anchor": "y37",
         "domain": [
          0.5125,
          0.615625
         ],
         "matches": "x61",
         "range": [
          -3.132392346171034,
          0.11683573484691352
         ],
         "showticklabels": false,
         "type": "log"
        },
        "xaxis38": {
         "anchor": "y38",
         "domain": [
          0.640625,
          0.74375
         ],
         "matches": "x62",
         "range": [
          2.65,
          10.35
         ],
         "showticklabels": false
        },
        "xaxis39": {
         "anchor": "y39",
         "domain": [
          0.76875,
          0.8718750000000001
         ],
         "matches": "x63",
         "range": [
          38.9,
          305.1
         ],
         "showticklabels": false
        },
        "xaxis4": {
         "anchor": "y4",
         "domain": [
          0.38437499999999997,
          0.48749999999999993
         ],
         "matches": "x60",
         "range": [
          0,
          0
         ],
         "showticklabels": false,
         "type": "category"
        },
        "xaxis40": {
         "anchor": "y40",
         "domain": [
          0.8968750000000001,
          1
         ],
         "matches": "x64",
         "range": [
          0.4790564566948657,
          0.9692428395357672
         ],
         "showticklabels": false
        },
        "xaxis41": {
         "anchor": "y41",
         "domain": [
          0,
          0.103125
         ],
         "matches": "x57",
         "range": [
          -0.05,
          1.05
         ],
         "showticklabels": false,
         "type": "category"
        },
        "xaxis42": {
         "anchor": "y42",
         "domain": [
          0.128125,
          0.23124999999999998
         ],
         "matches": "x58",
         "range": [
          -3.2242996591178548,
          2.9225722028124776
         ],
         "showticklabels": false,
         "type": "log"
        },
        "xaxis43": {
         "anchor": "y43",
         "domain": [
          0.25625,
          0.359375
         ],
         "matches": "x59",
         "range": [
          -4.061168655775378,
          -0.896202215314049
         ],
         "showticklabels": false,
         "type": "log"
        },
        "xaxis44": {
         "anchor": "y44",
         "domain": [
          0.38437499999999997,
          0.48749999999999993
         ],
         "matches": "x60",
         "range": [
          0,
          0
         ],
         "showticklabels": false,
         "type": "category"
        },
        "xaxis45": {
         "anchor": "y45",
         "domain": [
          0.5125,
          0.615625
         ],
         "matches": "x61",
         "range": [
          -3.132392346171034,
          0.11683573484691352
         ],
         "showticklabels": false,
         "type": "log"
        },
        "xaxis46": {
         "anchor": "y46",
         "domain": [
          0.640625,
          0.74375
         ],
         "matches": "x62",
         "range": [
          2.65,
          10.35
         ],
         "showticklabels": false
        },
        "xaxis47": {
         "anchor": "y47",
         "domain": [
          0.76875,
          0.8718750000000001
         ],
         "matches": "x63",
         "range": [
          38.9,
          305.1
         ],
         "showticklabels": false
        },
        "xaxis48": {
         "anchor": "y48",
         "domain": [
          0.8968750000000001,
          1
         ],
         "matches": "x64",
         "range": [
          0.4790564566948657,
          0.9692428395357672
         ],
         "showticklabels": false
        },
        "xaxis49": {
         "anchor": "y49",
         "domain": [
          0,
          0.103125
         ],
         "matches": "x57",
         "range": [
          -0.05,
          1.05
         ],
         "showticklabels": false,
         "type": "category"
        },
        "xaxis5": {
         "anchor": "y5",
         "domain": [
          0.5125,
          0.615625
         ],
         "matches": "x61",
         "range": [
          -3.132392346171034,
          0.11683573484691352
         ],
         "showticklabels": false,
         "type": "log"
        },
        "xaxis50": {
         "anchor": "y50",
         "domain": [
          0.128125,
          0.23124999999999998
         ],
         "matches": "x58",
         "range": [
          -3.2242996591178548,
          2.9225722028124776
         ],
         "showticklabels": false,
         "type": "log"
        },
        "xaxis51": {
         "anchor": "y51",
         "domain": [
          0.25625,
          0.359375
         ],
         "matches": "x59",
         "range": [
          -4.061168655775378,
          -0.896202215314049
         ],
         "showticklabels": false,
         "type": "log"
        },
        "xaxis52": {
         "anchor": "y52",
         "domain": [
          0.38437499999999997,
          0.48749999999999993
         ],
         "matches": "x60",
         "range": [
          0,
          0
         ],
         "showticklabels": false,
         "type": "category"
        },
        "xaxis53": {
         "anchor": "y53",
         "domain": [
          0.5125,
          0.615625
         ],
         "matches": "x61",
         "range": [
          -3.132392346171034,
          0.11683573484691352
         ],
         "showticklabels": false,
         "type": "log"
        },
        "xaxis54": {
         "anchor": "y54",
         "domain": [
          0.640625,
          0.74375
         ],
         "matches": "x62",
         "range": [
          2.65,
          10.35
         ],
         "showticklabels": false
        },
        "xaxis55": {
         "anchor": "y55",
         "domain": [
          0.76875,
          0.8718750000000001
         ],
         "matches": "x63",
         "range": [
          38.9,
          305.1
         ],
         "showticklabels": false
        },
        "xaxis56": {
         "anchor": "y56",
         "domain": [
          0.8968750000000001,
          1
         ],
         "matches": "x64",
         "range": [
          0.4790564566948657,
          0.9692428395357672
         ],
         "showticklabels": false
        },
        "xaxis57": {
         "anchor": "y57",
         "domain": [
          0,
          0.103125
         ],
         "range": [
          -0.05,
          1.05
         ],
         "title": {
          "text": "classifier"
         },
         "type": "category"
        },
        "xaxis58": {
         "anchor": "y58",
         "domain": [
          0.128125,
          0.23124999999999998
         ],
         "range": [
          -3.2242996591178548,
          2.9225722028124776
         ],
         "title": {
          "text": "svm_C"
         },
         "type": "log"
        },
        "xaxis59": {
         "anchor": "y59",
         "domain": [
          0.25625,
          0.359375
         ],
         "range": [
          -4.061168655775378,
          -0.896202215314049
         ],
         "title": {
          "text": "svm_gamma"
         },
         "type": "log"
        },
        "xaxis6": {
         "anchor": "y6",
         "domain": [
          0.640625,
          0.74375
         ],
         "matches": "x62",
         "range": [
          2.65,
          10.35
         ],
         "showticklabels": false
        },
        "xaxis60": {
         "anchor": "y60",
         "domain": [
          0.38437499999999997,
          0.48749999999999993
         ],
         "range": [
          0,
          0
         ],
         "title": {
          "text": "svm_kernel"
         },
         "type": "category"
        },
        "xaxis61": {
         "anchor": "y61",
         "domain": [
          0.5125,
          0.615625
         ],
         "range": [
          -3.132392346171034,
          0.11683573484691352
         ],
         "title": {
          "text": "xgb_learning_rate"
         },
         "type": "log"
        },
        "xaxis62": {
         "anchor": "y62",
         "domain": [
          0.640625,
          0.74375
         ],
         "range": [
          2.65,
          10.35
         ],
         "title": {
          "text": "xgb_max_depth"
         }
        },
        "xaxis63": {
         "anchor": "y63",
         "domain": [
          0.76875,
          0.8718750000000001
         ],
         "range": [
          38.9,
          305.1
         ],
         "title": {
          "text": "xgb_n_estimators"
         }
        },
        "xaxis64": {
         "anchor": "y64",
         "domain": [
          0.8968750000000001,
          1
         ],
         "range": [
          0.4790564566948657,
          0.9692428395357672
         ],
         "title": {
          "text": "xgb_subsample"
         }
        },
        "xaxis7": {
         "anchor": "y7",
         "domain": [
          0.76875,
          0.8718750000000001
         ],
         "matches": "x63",
         "range": [
          38.9,
          305.1
         ],
         "showticklabels": false
        },
        "xaxis8": {
         "anchor": "y8",
         "domain": [
          0.8968750000000001,
          1
         ],
         "matches": "x64",
         "range": [
          0.4790564566948657,
          0.9692428395357672
         ],
         "showticklabels": false
        },
        "xaxis9": {
         "anchor": "y9",
         "domain": [
          0,
          0.103125
         ],
         "matches": "x57",
         "range": [
          -0.05,
          1.05
         ],
         "showticklabels": false,
         "type": "category"
        },
        "yaxis": {
         "anchor": "x",
         "domain": [
          0.9078124999999999,
          0.9999999999999999
         ],
         "range": [
          -0.05,
          1.05
         ],
         "title": {
          "text": "classifier"
         },
         "type": "category"
        },
        "yaxis10": {
         "anchor": "x10",
         "domain": [
          0.778125,
          0.8703124999999999
         ],
         "matches": "y9",
         "range": [
          -3.2242996591178548,
          2.9225722028124776
         ],
         "showticklabels": false,
         "type": "log"
        },
        "yaxis11": {
         "anchor": "x11",
         "domain": [
          0.778125,
          0.8703124999999999
         ],
         "matches": "y9",
         "range": [
          -3.2242996591178548,
          2.9225722028124776
         ],
         "showticklabels": false,
         "type": "log"
        },
        "yaxis12": {
         "anchor": "x12",
         "domain": [
          0.778125,
          0.8703124999999999
         ],
         "matches": "y9",
         "range": [
          -3.2242996591178548,
          2.9225722028124776
         ],
         "showticklabels": false,
         "type": "log"
        },
        "yaxis13": {
         "anchor": "x13",
         "domain": [
          0.778125,
          0.8703124999999999
         ],
         "matches": "y9",
         "range": [
          -3.2242996591178548,
          2.9225722028124776
         ],
         "showticklabels": false,
         "type": "log"
        },
        "yaxis14": {
         "anchor": "x14",
         "domain": [
          0.778125,
          0.8703124999999999
         ],
         "matches": "y9",
         "range": [
          -3.2242996591178548,
          2.9225722028124776
         ],
         "showticklabels": false,
         "type": "log"
        },
        "yaxis15": {
         "anchor": "x15",
         "domain": [
          0.778125,
          0.8703124999999999
         ],
         "matches": "y9",
         "range": [
          -3.2242996591178548,
          2.9225722028124776
         ],
         "showticklabels": false,
         "type": "log"
        },
        "yaxis16": {
         "anchor": "x16",
         "domain": [
          0.778125,
          0.8703124999999999
         ],
         "matches": "y9",
         "range": [
          -3.2242996591178548,
          2.9225722028124776
         ],
         "showticklabels": false,
         "type": "log"
        },
        "yaxis17": {
         "anchor": "x17",
         "domain": [
          0.6484375,
          0.740625
         ],
         "range": [
          -4.061168655775378,
          -0.896202215314049
         ],
         "title": {
          "text": "svm_gamma"
         },
         "type": "log"
        },
        "yaxis18": {
         "anchor": "x18",
         "domain": [
          0.6484375,
          0.740625
         ],
         "matches": "y17",
         "range": [
          -4.061168655775378,
          -0.896202215314049
         ],
         "showticklabels": false,
         "type": "log"
        },
        "yaxis19": {
         "anchor": "x19",
         "domain": [
          0.6484375,
          0.740625
         ],
         "matches": "y17",
         "range": [
          -4.061168655775378,
          -0.896202215314049
         ],
         "showticklabels": false,
         "type": "log"
        },
        "yaxis2": {
         "anchor": "x2",
         "domain": [
          0.9078124999999999,
          0.9999999999999999
         ],
         "matches": "y",
         "range": [
          -0.05,
          1.05
         ],
         "showticklabels": false,
         "type": "category"
        },
        "yaxis20": {
         "anchor": "x20",
         "domain": [
          0.6484375,
          0.740625
         ],
         "matches": "y17",
         "range": [
          -4.061168655775378,
          -0.896202215314049
         ],
         "showticklabels": false,
         "type": "log"
        },
        "yaxis21": {
         "anchor": "x21",
         "domain": [
          0.6484375,
          0.740625
         ],
         "matches": "y17",
         "range": [
          -4.061168655775378,
          -0.896202215314049
         ],
         "showticklabels": false,
         "type": "log"
        },
        "yaxis22": {
         "anchor": "x22",
         "domain": [
          0.6484375,
          0.740625
         ],
         "matches": "y17",
         "range": [
          -4.061168655775378,
          -0.896202215314049
         ],
         "showticklabels": false,
         "type": "log"
        },
        "yaxis23": {
         "anchor": "x23",
         "domain": [
          0.6484375,
          0.740625
         ],
         "matches": "y17",
         "range": [
          -4.061168655775378,
          -0.896202215314049
         ],
         "showticklabels": false,
         "type": "log"
        },
        "yaxis24": {
         "anchor": "x24",
         "domain": [
          0.6484375,
          0.740625
         ],
         "matches": "y17",
         "range": [
          -4.061168655775378,
          -0.896202215314049
         ],
         "showticklabels": false,
         "type": "log"
        },
        "yaxis25": {
         "anchor": "x25",
         "domain": [
          0.51875,
          0.6109375
         ],
         "range": [
          0,
          0
         ],
         "title": {
          "text": "svm_kernel"
         },
         "type": "category"
        },
        "yaxis26": {
         "anchor": "x26",
         "domain": [
          0.51875,
          0.6109375
         ],
         "matches": "y25",
         "range": [
          0,
          0
         ],
         "showticklabels": false,
         "type": "category"
        },
        "yaxis27": {
         "anchor": "x27",
         "domain": [
          0.51875,
          0.6109375
         ],
         "matches": "y25",
         "range": [
          0,
          0
         ],
         "showticklabels": false,
         "type": "category"
        },
        "yaxis28": {
         "anchor": "x28",
         "domain": [
          0.51875,
          0.6109375
         ],
         "matches": "y25",
         "range": [
          0,
          0
         ],
         "showticklabels": false,
         "type": "category"
        },
        "yaxis29": {
         "anchor": "x29",
         "domain": [
          0.51875,
          0.6109375
         ],
         "matches": "y25",
         "range": [
          0,
          0
         ],
         "showticklabels": false,
         "type": "category"
        },
        "yaxis3": {
         "anchor": "x3",
         "domain": [
          0.9078124999999999,
          0.9999999999999999
         ],
         "matches": "y",
         "range": [
          -0.05,
          1.05
         ],
         "showticklabels": false,
         "type": "category"
        },
        "yaxis30": {
         "anchor": "x30",
         "domain": [
          0.51875,
          0.6109375
         ],
         "matches": "y25",
         "range": [
          0,
          0
         ],
         "showticklabels": false,
         "type": "category"
        },
        "yaxis31": {
         "anchor": "x31",
         "domain": [
          0.51875,
          0.6109375
         ],
         "matches": "y25",
         "range": [
          0,
          0
         ],
         "showticklabels": false,
         "type": "category"
        },
        "yaxis32": {
         "anchor": "x32",
         "domain": [
          0.51875,
          0.6109375
         ],
         "matches": "y25",
         "range": [
          0,
          0
         ],
         "showticklabels": false,
         "type": "category"
        },
        "yaxis33": {
         "anchor": "x33",
         "domain": [
          0.38906250000000003,
          0.48125000000000007
         ],
         "range": [
          -3.132392346171034,
          0.11683573484691352
         ],
         "title": {
          "text": "xgb_learning_rate"
         },
         "type": "log"
        },
        "yaxis34": {
         "anchor": "x34",
         "domain": [
          0.38906250000000003,
          0.48125000000000007
         ],
         "matches": "y33",
         "range": [
          -3.132392346171034,
          0.11683573484691352
         ],
         "showticklabels": false,
         "type": "log"
        },
        "yaxis35": {
         "anchor": "x35",
         "domain": [
          0.38906250000000003,
          0.48125000000000007
         ],
         "matches": "y33",
         "range": [
          -3.132392346171034,
          0.11683573484691352
         ],
         "showticklabels": false,
         "type": "log"
        },
        "yaxis36": {
         "anchor": "x36",
         "domain": [
          0.38906250000000003,
          0.48125000000000007
         ],
         "matches": "y33",
         "range": [
          -3.132392346171034,
          0.11683573484691352
         ],
         "showticklabels": false,
         "type": "log"
        },
        "yaxis37": {
         "anchor": "x37",
         "domain": [
          0.38906250000000003,
          0.48125000000000007
         ],
         "matches": "y33",
         "range": [
          -3.132392346171034,
          0.11683573484691352
         ],
         "showticklabels": false,
         "type": "log"
        },
        "yaxis38": {
         "anchor": "x38",
         "domain": [
          0.38906250000000003,
          0.48125000000000007
         ],
         "matches": "y33",
         "range": [
          -3.132392346171034,
          0.11683573484691352
         ],
         "showticklabels": false,
         "type": "log"
        },
        "yaxis39": {
         "anchor": "x39",
         "domain": [
          0.38906250000000003,
          0.48125000000000007
         ],
         "matches": "y33",
         "range": [
          -3.132392346171034,
          0.11683573484691352
         ],
         "showticklabels": false,
         "type": "log"
        },
        "yaxis4": {
         "anchor": "x4",
         "domain": [
          0.9078124999999999,
          0.9999999999999999
         ],
         "matches": "y",
         "range": [
          -0.05,
          1.05
         ],
         "showticklabels": false,
         "type": "category"
        },
        "yaxis40": {
         "anchor": "x40",
         "domain": [
          0.38906250000000003,
          0.48125000000000007
         ],
         "matches": "y33",
         "range": [
          -3.132392346171034,
          0.11683573484691352
         ],
         "showticklabels": false,
         "type": "log"
        },
        "yaxis41": {
         "anchor": "x41",
         "domain": [
          0.259375,
          0.3515625
         ],
         "range": [
          2.65,
          10.35
         ],
         "title": {
          "text": "xgb_max_depth"
         }
        },
        "yaxis42": {
         "anchor": "x42",
         "domain": [
          0.259375,
          0.3515625
         ],
         "matches": "y41",
         "range": [
          2.65,
          10.35
         ],
         "showticklabels": false
        },
        "yaxis43": {
         "anchor": "x43",
         "domain": [
          0.259375,
          0.3515625
         ],
         "matches": "y41",
         "range": [
          2.65,
          10.35
         ],
         "showticklabels": false
        },
        "yaxis44": {
         "anchor": "x44",
         "domain": [
          0.259375,
          0.3515625
         ],
         "matches": "y41",
         "range": [
          2.65,
          10.35
         ],
         "showticklabels": false
        },
        "yaxis45": {
         "anchor": "x45",
         "domain": [
          0.259375,
          0.3515625
         ],
         "matches": "y41",
         "range": [
          2.65,
          10.35
         ],
         "showticklabels": false
        },
        "yaxis46": {
         "anchor": "x46",
         "domain": [
          0.259375,
          0.3515625
         ],
         "matches": "y41",
         "range": [
          2.65,
          10.35
         ],
         "showticklabels": false
        },
        "yaxis47": {
         "anchor": "x47",
         "domain": [
          0.259375,
          0.3515625
         ],
         "matches": "y41",
         "range": [
          2.65,
          10.35
         ],
         "showticklabels": false
        },
        "yaxis48": {
         "anchor": "x48",
         "domain": [
          0.259375,
          0.3515625
         ],
         "matches": "y41",
         "range": [
          2.65,
          10.35
         ],
         "showticklabels": false
        },
        "yaxis49": {
         "anchor": "x49",
         "domain": [
          0.1296875,
          0.22187500000000002
         ],
         "range": [
          38.9,
          305.1
         ],
         "title": {
          "text": "xgb_n_estimators"
         }
        },
        "yaxis5": {
         "anchor": "x5",
         "domain": [
          0.9078124999999999,
          0.9999999999999999
         ],
         "matches": "y",
         "range": [
          -0.05,
          1.05
         ],
         "showticklabels": false,
         "type": "category"
        },
        "yaxis50": {
         "anchor": "x50",
         "domain": [
          0.1296875,
          0.22187500000000002
         ],
         "matches": "y49",
         "range": [
          38.9,
          305.1
         ],
         "showticklabels": false
        },
        "yaxis51": {
         "anchor": "x51",
         "domain": [
          0.1296875,
          0.22187500000000002
         ],
         "matches": "y49",
         "range": [
          38.9,
          305.1
         ],
         "showticklabels": false
        },
        "yaxis52": {
         "anchor": "x52",
         "domain": [
          0.1296875,
          0.22187500000000002
         ],
         "matches": "y49",
         "range": [
          38.9,
          305.1
         ],
         "showticklabels": false
        },
        "yaxis53": {
         "anchor": "x53",
         "domain": [
          0.1296875,
          0.22187500000000002
         ],
         "matches": "y49",
         "range": [
          38.9,
          305.1
         ],
         "showticklabels": false
        },
        "yaxis54": {
         "anchor": "x54",
         "domain": [
          0.1296875,
          0.22187500000000002
         ],
         "matches": "y49",
         "range": [
          38.9,
          305.1
         ],
         "showticklabels": false
        },
        "yaxis55": {
         "anchor": "x55",
         "domain": [
          0.1296875,
          0.22187500000000002
         ],
         "matches": "y49",
         "range": [
          38.9,
          305.1
         ],
         "showticklabels": false
        },
        "yaxis56": {
         "anchor": "x56",
         "domain": [
          0.1296875,
          0.22187500000000002
         ],
         "matches": "y49",
         "range": [
          38.9,
          305.1
         ],
         "showticklabels": false
        },
        "yaxis57": {
         "anchor": "x57",
         "domain": [
          0,
          0.0921875
         ],
         "range": [
          0.4790564566948657,
          0.9692428395357672
         ],
         "title": {
          "text": "xgb_subsample"
         }
        },
        "yaxis58": {
         "anchor": "x58",
         "domain": [
          0,
          0.0921875
         ],
         "matches": "y57",
         "range": [
          0.4790564566948657,
          0.9692428395357672
         ],
         "showticklabels": false
        },
        "yaxis59": {
         "anchor": "x59",
         "domain": [
          0,
          0.0921875
         ],
         "matches": "y57",
         "range": [
          0.4790564566948657,
          0.9692428395357672
         ],
         "showticklabels": false
        },
        "yaxis6": {
         "anchor": "x6",
         "domain": [
          0.9078124999999999,
          0.9999999999999999
         ],
         "matches": "y",
         "range": [
          -0.05,
          1.05
         ],
         "showticklabels": false,
         "type": "category"
        },
        "yaxis60": {
         "anchor": "x60",
         "domain": [
          0,
          0.0921875
         ],
         "matches": "y57",
         "range": [
          0.4790564566948657,
          0.9692428395357672
         ],
         "showticklabels": false
        },
        "yaxis61": {
         "anchor": "x61",
         "domain": [
          0,
          0.0921875
         ],
         "matches": "y57",
         "range": [
          0.4790564566948657,
          0.9692428395357672
         ],
         "showticklabels": false
        },
        "yaxis62": {
         "anchor": "x62",
         "domain": [
          0,
          0.0921875
         ],
         "matches": "y57",
         "range": [
          0.4790564566948657,
          0.9692428395357672
         ],
         "showticklabels": false
        },
        "yaxis63": {
         "anchor": "x63",
         "domain": [
          0,
          0.0921875
         ],
         "matches": "y57",
         "range": [
          0.4790564566948657,
          0.9692428395357672
         ],
         "showticklabels": false
        },
        "yaxis64": {
         "anchor": "x64",
         "domain": [
          0,
          0.0921875
         ],
         "matches": "y57",
         "range": [
          0.4790564566948657,
          0.9692428395357672
         ],
         "showticklabels": false
        },
        "yaxis7": {
         "anchor": "x7",
         "domain": [
          0.9078124999999999,
          0.9999999999999999
         ],
         "matches": "y",
         "range": [
          -0.05,
          1.05
         ],
         "showticklabels": false,
         "type": "category"
        },
        "yaxis8": {
         "anchor": "x8",
         "domain": [
          0.9078124999999999,
          0.9999999999999999
         ],
         "matches": "y",
         "range": [
          -0.05,
          1.05
         ],
         "showticklabels": false,
         "type": "category"
        },
        "yaxis9": {
         "anchor": "x9",
         "domain": [
          0.778125,
          0.8703124999999999
         ],
         "range": [
          -3.2242996591178548,
          2.9225722028124776
         ],
         "title": {
          "text": "svm_C"
         },
         "type": "log"
        }
       }
      }
     },
     "metadata": {},
     "output_type": "display_data"
    }
   ],
   "source": [
    "from optuna.visualization import plot_contour\n",
    "\n",
    "plot_contour(study).show()"
   ]
  },
  {
   "cell_type": "code",
   "execution_count": 9,
   "metadata": {},
   "outputs": [
    {
     "name": "stderr",
     "output_type": "stream",
     "text": [
      "[W 2025-03-05 21:55:09,509] Your study has only completed trials with missing parameters.\n"
     ]
    },
    {
     "data": {
      "application/vnd.plotly.v1+json": {
       "config": {
        "plotlyServerURL": "https://plot.ly"
       },
       "data": [],
       "layout": {
        "template": {
         "data": {
          "bar": [
           {
            "error_x": {
             "color": "#2a3f5f"
            },
            "error_y": {
             "color": "#2a3f5f"
            },
            "marker": {
             "line": {
              "color": "#E5ECF6",
              "width": 0.5
             },
             "pattern": {
              "fillmode": "overlay",
              "size": 10,
              "solidity": 0.2
             }
            },
            "type": "bar"
           }
          ],
          "barpolar": [
           {
            "marker": {
             "line": {
              "color": "#E5ECF6",
              "width": 0.5
             },
             "pattern": {
              "fillmode": "overlay",
              "size": 10,
              "solidity": 0.2
             }
            },
            "type": "barpolar"
           }
          ],
          "carpet": [
           {
            "aaxis": {
             "endlinecolor": "#2a3f5f",
             "gridcolor": "white",
             "linecolor": "white",
             "minorgridcolor": "white",
             "startlinecolor": "#2a3f5f"
            },
            "baxis": {
             "endlinecolor": "#2a3f5f",
             "gridcolor": "white",
             "linecolor": "white",
             "minorgridcolor": "white",
             "startlinecolor": "#2a3f5f"
            },
            "type": "carpet"
           }
          ],
          "choropleth": [
           {
            "colorbar": {
             "outlinewidth": 0,
             "ticks": ""
            },
            "type": "choropleth"
           }
          ],
          "contour": [
           {
            "colorbar": {
             "outlinewidth": 0,
             "ticks": ""
            },
            "colorscale": [
             [
              0,
              "#0d0887"
             ],
             [
              0.1111111111111111,
              "#46039f"
             ],
             [
              0.2222222222222222,
              "#7201a8"
             ],
             [
              0.3333333333333333,
              "#9c179e"
             ],
             [
              0.4444444444444444,
              "#bd3786"
             ],
             [
              0.5555555555555556,
              "#d8576b"
             ],
             [
              0.6666666666666666,
              "#ed7953"
             ],
             [
              0.7777777777777778,
              "#fb9f3a"
             ],
             [
              0.8888888888888888,
              "#fdca26"
             ],
             [
              1,
              "#f0f921"
             ]
            ],
            "type": "contour"
           }
          ],
          "contourcarpet": [
           {
            "colorbar": {
             "outlinewidth": 0,
             "ticks": ""
            },
            "type": "contourcarpet"
           }
          ],
          "heatmap": [
           {
            "colorbar": {
             "outlinewidth": 0,
             "ticks": ""
            },
            "colorscale": [
             [
              0,
              "#0d0887"
             ],
             [
              0.1111111111111111,
              "#46039f"
             ],
             [
              0.2222222222222222,
              "#7201a8"
             ],
             [
              0.3333333333333333,
              "#9c179e"
             ],
             [
              0.4444444444444444,
              "#bd3786"
             ],
             [
              0.5555555555555556,
              "#d8576b"
             ],
             [
              0.6666666666666666,
              "#ed7953"
             ],
             [
              0.7777777777777778,
              "#fb9f3a"
             ],
             [
              0.8888888888888888,
              "#fdca26"
             ],
             [
              1,
              "#f0f921"
             ]
            ],
            "type": "heatmap"
           }
          ],
          "histogram": [
           {
            "marker": {
             "pattern": {
              "fillmode": "overlay",
              "size": 10,
              "solidity": 0.2
             }
            },
            "type": "histogram"
           }
          ],
          "histogram2d": [
           {
            "colorbar": {
             "outlinewidth": 0,
             "ticks": ""
            },
            "colorscale": [
             [
              0,
              "#0d0887"
             ],
             [
              0.1111111111111111,
              "#46039f"
             ],
             [
              0.2222222222222222,
              "#7201a8"
             ],
             [
              0.3333333333333333,
              "#9c179e"
             ],
             [
              0.4444444444444444,
              "#bd3786"
             ],
             [
              0.5555555555555556,
              "#d8576b"
             ],
             [
              0.6666666666666666,
              "#ed7953"
             ],
             [
              0.7777777777777778,
              "#fb9f3a"
             ],
             [
              0.8888888888888888,
              "#fdca26"
             ],
             [
              1,
              "#f0f921"
             ]
            ],
            "type": "histogram2d"
           }
          ],
          "histogram2dcontour": [
           {
            "colorbar": {
             "outlinewidth": 0,
             "ticks": ""
            },
            "colorscale": [
             [
              0,
              "#0d0887"
             ],
             [
              0.1111111111111111,
              "#46039f"
             ],
             [
              0.2222222222222222,
              "#7201a8"
             ],
             [
              0.3333333333333333,
              "#9c179e"
             ],
             [
              0.4444444444444444,
              "#bd3786"
             ],
             [
              0.5555555555555556,
              "#d8576b"
             ],
             [
              0.6666666666666666,
              "#ed7953"
             ],
             [
              0.7777777777777778,
              "#fb9f3a"
             ],
             [
              0.8888888888888888,
              "#fdca26"
             ],
             [
              1,
              "#f0f921"
             ]
            ],
            "type": "histogram2dcontour"
           }
          ],
          "mesh3d": [
           {
            "colorbar": {
             "outlinewidth": 0,
             "ticks": ""
            },
            "type": "mesh3d"
           }
          ],
          "parcoords": [
           {
            "line": {
             "colorbar": {
              "outlinewidth": 0,
              "ticks": ""
             }
            },
            "type": "parcoords"
           }
          ],
          "pie": [
           {
            "automargin": true,
            "type": "pie"
           }
          ],
          "scatter": [
           {
            "fillpattern": {
             "fillmode": "overlay",
             "size": 10,
             "solidity": 0.2
            },
            "type": "scatter"
           }
          ],
          "scatter3d": [
           {
            "line": {
             "colorbar": {
              "outlinewidth": 0,
              "ticks": ""
             }
            },
            "marker": {
             "colorbar": {
              "outlinewidth": 0,
              "ticks": ""
             }
            },
            "type": "scatter3d"
           }
          ],
          "scattercarpet": [
           {
            "marker": {
             "colorbar": {
              "outlinewidth": 0,
              "ticks": ""
             }
            },
            "type": "scattercarpet"
           }
          ],
          "scattergeo": [
           {
            "marker": {
             "colorbar": {
              "outlinewidth": 0,
              "ticks": ""
             }
            },
            "type": "scattergeo"
           }
          ],
          "scattergl": [
           {
            "marker": {
             "colorbar": {
              "outlinewidth": 0,
              "ticks": ""
             }
            },
            "type": "scattergl"
           }
          ],
          "scattermap": [
           {
            "marker": {
             "colorbar": {
              "outlinewidth": 0,
              "ticks": ""
             }
            },
            "type": "scattermap"
           }
          ],
          "scattermapbox": [
           {
            "marker": {
             "colorbar": {
              "outlinewidth": 0,
              "ticks": ""
             }
            },
            "type": "scattermapbox"
           }
          ],
          "scatterpolar": [
           {
            "marker": {
             "colorbar": {
              "outlinewidth": 0,
              "ticks": ""
             }
            },
            "type": "scatterpolar"
           }
          ],
          "scatterpolargl": [
           {
            "marker": {
             "colorbar": {
              "outlinewidth": 0,
              "ticks": ""
             }
            },
            "type": "scatterpolargl"
           }
          ],
          "scatterternary": [
           {
            "marker": {
             "colorbar": {
              "outlinewidth": 0,
              "ticks": ""
             }
            },
            "type": "scatterternary"
           }
          ],
          "surface": [
           {
            "colorbar": {
             "outlinewidth": 0,
             "ticks": ""
            },
            "colorscale": [
             [
              0,
              "#0d0887"
             ],
             [
              0.1111111111111111,
              "#46039f"
             ],
             [
              0.2222222222222222,
              "#7201a8"
             ],
             [
              0.3333333333333333,
              "#9c179e"
             ],
             [
              0.4444444444444444,
              "#bd3786"
             ],
             [
              0.5555555555555556,
              "#d8576b"
             ],
             [
              0.6666666666666666,
              "#ed7953"
             ],
             [
              0.7777777777777778,
              "#fb9f3a"
             ],
             [
              0.8888888888888888,
              "#fdca26"
             ],
             [
              1,
              "#f0f921"
             ]
            ],
            "type": "surface"
           }
          ],
          "table": [
           {
            "cells": {
             "fill": {
              "color": "#EBF0F8"
             },
             "line": {
              "color": "white"
             }
            },
            "header": {
             "fill": {
              "color": "#C8D4E3"
             },
             "line": {
              "color": "white"
             }
            },
            "type": "table"
           }
          ]
         },
         "layout": {
          "annotationdefaults": {
           "arrowcolor": "#2a3f5f",
           "arrowhead": 0,
           "arrowwidth": 1
          },
          "autotypenumbers": "strict",
          "coloraxis": {
           "colorbar": {
            "outlinewidth": 0,
            "ticks": ""
           }
          },
          "colorscale": {
           "diverging": [
            [
             0,
             "#8e0152"
            ],
            [
             0.1,
             "#c51b7d"
            ],
            [
             0.2,
             "#de77ae"
            ],
            [
             0.3,
             "#f1b6da"
            ],
            [
             0.4,
             "#fde0ef"
            ],
            [
             0.5,
             "#f7f7f7"
            ],
            [
             0.6,
             "#e6f5d0"
            ],
            [
             0.7,
             "#b8e186"
            ],
            [
             0.8,
             "#7fbc41"
            ],
            [
             0.9,
             "#4d9221"
            ],
            [
             1,
             "#276419"
            ]
           ],
           "sequential": [
            [
             0,
             "#0d0887"
            ],
            [
             0.1111111111111111,
             "#46039f"
            ],
            [
             0.2222222222222222,
             "#7201a8"
            ],
            [
             0.3333333333333333,
             "#9c179e"
            ],
            [
             0.4444444444444444,
             "#bd3786"
            ],
            [
             0.5555555555555556,
             "#d8576b"
            ],
            [
             0.6666666666666666,
             "#ed7953"
            ],
            [
             0.7777777777777778,
             "#fb9f3a"
            ],
            [
             0.8888888888888888,
             "#fdca26"
            ],
            [
             1,
             "#f0f921"
            ]
           ],
           "sequentialminus": [
            [
             0,
             "#0d0887"
            ],
            [
             0.1111111111111111,
             "#46039f"
            ],
            [
             0.2222222222222222,
             "#7201a8"
            ],
            [
             0.3333333333333333,
             "#9c179e"
            ],
            [
             0.4444444444444444,
             "#bd3786"
            ],
            [
             0.5555555555555556,
             "#d8576b"
            ],
            [
             0.6666666666666666,
             "#ed7953"
            ],
            [
             0.7777777777777778,
             "#fb9f3a"
            ],
            [
             0.8888888888888888,
             "#fdca26"
            ],
            [
             1,
             "#f0f921"
            ]
           ]
          },
          "colorway": [
           "#636efa",
           "#EF553B",
           "#00cc96",
           "#ab63fa",
           "#FFA15A",
           "#19d3f3",
           "#FF6692",
           "#B6E880",
           "#FF97FF",
           "#FECB52"
          ],
          "font": {
           "color": "#2a3f5f"
          },
          "geo": {
           "bgcolor": "white",
           "lakecolor": "white",
           "landcolor": "#E5ECF6",
           "showlakes": true,
           "showland": true,
           "subunitcolor": "white"
          },
          "hoverlabel": {
           "align": "left"
          },
          "hovermode": "closest",
          "mapbox": {
           "style": "light"
          },
          "paper_bgcolor": "white",
          "plot_bgcolor": "#E5ECF6",
          "polar": {
           "angularaxis": {
            "gridcolor": "white",
            "linecolor": "white",
            "ticks": ""
           },
           "bgcolor": "#E5ECF6",
           "radialaxis": {
            "gridcolor": "white",
            "linecolor": "white",
            "ticks": ""
           }
          },
          "scene": {
           "xaxis": {
            "backgroundcolor": "#E5ECF6",
            "gridcolor": "white",
            "gridwidth": 2,
            "linecolor": "white",
            "showbackground": true,
            "ticks": "",
            "zerolinecolor": "white"
           },
           "yaxis": {
            "backgroundcolor": "#E5ECF6",
            "gridcolor": "white",
            "gridwidth": 2,
            "linecolor": "white",
            "showbackground": true,
            "ticks": "",
            "zerolinecolor": "white"
           },
           "zaxis": {
            "backgroundcolor": "#E5ECF6",
            "gridcolor": "white",
            "gridwidth": 2,
            "linecolor": "white",
            "showbackground": true,
            "ticks": "",
            "zerolinecolor": "white"
           }
          },
          "shapedefaults": {
           "line": {
            "color": "#2a3f5f"
           }
          },
          "ternary": {
           "aaxis": {
            "gridcolor": "white",
            "linecolor": "white",
            "ticks": ""
           },
           "baxis": {
            "gridcolor": "white",
            "linecolor": "white",
            "ticks": ""
           },
           "bgcolor": "#E5ECF6",
           "caxis": {
            "gridcolor": "white",
            "linecolor": "white",
            "ticks": ""
           }
          },
          "title": {
           "x": 0.05
          },
          "xaxis": {
           "automargin": true,
           "gridcolor": "white",
           "linecolor": "white",
           "ticks": "",
           "title": {
            "standoff": 15
           },
           "zerolinecolor": "white",
           "zerolinewidth": 2
          },
          "yaxis": {
           "automargin": true,
           "gridcolor": "white",
           "linecolor": "white",
           "ticks": "",
           "title": {
            "standoff": 15
           },
           "zerolinecolor": "white",
           "zerolinewidth": 2
          }
         }
        },
        "title": {
         "text": "Parallel Coordinate Plot"
        }
       }
      }
     },
     "metadata": {},
     "output_type": "display_data"
    }
   ],
   "source": [
    "# Plot the parallel coordinate visualization to understand parameter interactions\n",
    "vis.plot_parallel_coordinate(study).show()"
   ]
  },
  {
   "cell_type": "code",
   "execution_count": null,
   "metadata": {},
   "outputs": [],
   "source": []
  },
  {
   "cell_type": "code",
   "execution_count": null,
   "metadata": {},
   "outputs": [],
   "source": []
  }
 ],
 "metadata": {
  "kernelspec": {
   "display_name": "Python 3",
   "language": "python",
   "name": "python3"
  },
  "language_info": {
   "codemirror_mode": {
    "name": "ipython",
    "version": 3
   },
   "file_extension": ".py",
   "mimetype": "text/x-python",
   "name": "python",
   "nbconvert_exporter": "python",
   "pygments_lexer": "ipython3",
   "version": "3.11.11"
  }
 },
 "nbformat": 4,
 "nbformat_minor": 2
}
